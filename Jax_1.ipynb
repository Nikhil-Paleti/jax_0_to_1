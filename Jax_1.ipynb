{
  "nbformat": 4,
  "nbformat_minor": 0,
  "metadata": {
    "colab": {
      "provenance": []
    },
    "kernelspec": {
      "name": "python3",
      "display_name": "Python 3"
    },
    "language_info": {
      "name": "python"
    },
    "widgets": {
      "application/vnd.jupyter.widget-state+json": {
        "38ff4bf1f14e4ab7b9f628cda7b391ea": {
          "model_module": "@jupyter-widgets/controls",
          "model_name": "HBoxModel",
          "model_module_version": "1.5.0",
          "state": {
            "_dom_classes": [],
            "_model_module": "@jupyter-widgets/controls",
            "_model_module_version": "1.5.0",
            "_model_name": "HBoxModel",
            "_view_count": null,
            "_view_module": "@jupyter-widgets/controls",
            "_view_module_version": "1.5.0",
            "_view_name": "HBoxView",
            "box_style": "",
            "children": [
              "IPY_MODEL_2a92921dfd954114aff4f942b7d727fa",
              "IPY_MODEL_b759f50861b140b59f8b88876e974c5d",
              "IPY_MODEL_f1e418bde1864794bda07e7b33b06cfe"
            ],
            "layout": "IPY_MODEL_df538c7ad0524ae3b254bf6f3d6a5591"
          }
        },
        "2a92921dfd954114aff4f942b7d727fa": {
          "model_module": "@jupyter-widgets/controls",
          "model_name": "HTMLModel",
          "model_module_version": "1.5.0",
          "state": {
            "_dom_classes": [],
            "_model_module": "@jupyter-widgets/controls",
            "_model_module_version": "1.5.0",
            "_model_name": "HTMLModel",
            "_view_count": null,
            "_view_module": "@jupyter-widgets/controls",
            "_view_module_version": "1.5.0",
            "_view_name": "HTMLView",
            "description": "",
            "description_tooltip": null,
            "layout": "IPY_MODEL_5d873d23bad442d5a9e7990bb74a9c35",
            "placeholder": "​",
            "style": "IPY_MODEL_6719fcbb77604c3793daffeace341cae",
            "value": "100%"
          }
        },
        "b759f50861b140b59f8b88876e974c5d": {
          "model_module": "@jupyter-widgets/controls",
          "model_name": "FloatProgressModel",
          "model_module_version": "1.5.0",
          "state": {
            "_dom_classes": [],
            "_model_module": "@jupyter-widgets/controls",
            "_model_module_version": "1.5.0",
            "_model_name": "FloatProgressModel",
            "_view_count": null,
            "_view_module": "@jupyter-widgets/controls",
            "_view_module_version": "1.5.0",
            "_view_name": "ProgressView",
            "bar_style": "success",
            "description": "",
            "description_tooltip": null,
            "layout": "IPY_MODEL_82d4c095f9a447d8999f370321cfd39d",
            "max": 100,
            "min": 0,
            "orientation": "horizontal",
            "style": "IPY_MODEL_d7589b9559c34866913836810dbaff53",
            "value": 100
          }
        },
        "f1e418bde1864794bda07e7b33b06cfe": {
          "model_module": "@jupyter-widgets/controls",
          "model_name": "HTMLModel",
          "model_module_version": "1.5.0",
          "state": {
            "_dom_classes": [],
            "_model_module": "@jupyter-widgets/controls",
            "_model_module_version": "1.5.0",
            "_model_name": "HTMLModel",
            "_view_count": null,
            "_view_module": "@jupyter-widgets/controls",
            "_view_module_version": "1.5.0",
            "_view_name": "HTMLView",
            "description": "",
            "description_tooltip": null,
            "layout": "IPY_MODEL_2c7d98e0acf040eebd77c36ae58e437c",
            "placeholder": "​",
            "style": "IPY_MODEL_fdf1e4e8f4904c54941c632e387fed78",
            "value": " 100/100 [00:03&lt;00:00, 51.00it/s]"
          }
        },
        "df538c7ad0524ae3b254bf6f3d6a5591": {
          "model_module": "@jupyter-widgets/base",
          "model_name": "LayoutModel",
          "model_module_version": "1.2.0",
          "state": {
            "_model_module": "@jupyter-widgets/base",
            "_model_module_version": "1.2.0",
            "_model_name": "LayoutModel",
            "_view_count": null,
            "_view_module": "@jupyter-widgets/base",
            "_view_module_version": "1.2.0",
            "_view_name": "LayoutView",
            "align_content": null,
            "align_items": null,
            "align_self": null,
            "border": null,
            "bottom": null,
            "display": null,
            "flex": null,
            "flex_flow": null,
            "grid_area": null,
            "grid_auto_columns": null,
            "grid_auto_flow": null,
            "grid_auto_rows": null,
            "grid_column": null,
            "grid_gap": null,
            "grid_row": null,
            "grid_template_areas": null,
            "grid_template_columns": null,
            "grid_template_rows": null,
            "height": null,
            "justify_content": null,
            "justify_items": null,
            "left": null,
            "margin": null,
            "max_height": null,
            "max_width": null,
            "min_height": null,
            "min_width": null,
            "object_fit": null,
            "object_position": null,
            "order": null,
            "overflow": null,
            "overflow_x": null,
            "overflow_y": null,
            "padding": null,
            "right": null,
            "top": null,
            "visibility": null,
            "width": null
          }
        },
        "5d873d23bad442d5a9e7990bb74a9c35": {
          "model_module": "@jupyter-widgets/base",
          "model_name": "LayoutModel",
          "model_module_version": "1.2.0",
          "state": {
            "_model_module": "@jupyter-widgets/base",
            "_model_module_version": "1.2.0",
            "_model_name": "LayoutModel",
            "_view_count": null,
            "_view_module": "@jupyter-widgets/base",
            "_view_module_version": "1.2.0",
            "_view_name": "LayoutView",
            "align_content": null,
            "align_items": null,
            "align_self": null,
            "border": null,
            "bottom": null,
            "display": null,
            "flex": null,
            "flex_flow": null,
            "grid_area": null,
            "grid_auto_columns": null,
            "grid_auto_flow": null,
            "grid_auto_rows": null,
            "grid_column": null,
            "grid_gap": null,
            "grid_row": null,
            "grid_template_areas": null,
            "grid_template_columns": null,
            "grid_template_rows": null,
            "height": null,
            "justify_content": null,
            "justify_items": null,
            "left": null,
            "margin": null,
            "max_height": null,
            "max_width": null,
            "min_height": null,
            "min_width": null,
            "object_fit": null,
            "object_position": null,
            "order": null,
            "overflow": null,
            "overflow_x": null,
            "overflow_y": null,
            "padding": null,
            "right": null,
            "top": null,
            "visibility": null,
            "width": null
          }
        },
        "6719fcbb77604c3793daffeace341cae": {
          "model_module": "@jupyter-widgets/controls",
          "model_name": "DescriptionStyleModel",
          "model_module_version": "1.5.0",
          "state": {
            "_model_module": "@jupyter-widgets/controls",
            "_model_module_version": "1.5.0",
            "_model_name": "DescriptionStyleModel",
            "_view_count": null,
            "_view_module": "@jupyter-widgets/base",
            "_view_module_version": "1.2.0",
            "_view_name": "StyleView",
            "description_width": ""
          }
        },
        "82d4c095f9a447d8999f370321cfd39d": {
          "model_module": "@jupyter-widgets/base",
          "model_name": "LayoutModel",
          "model_module_version": "1.2.0",
          "state": {
            "_model_module": "@jupyter-widgets/base",
            "_model_module_version": "1.2.0",
            "_model_name": "LayoutModel",
            "_view_count": null,
            "_view_module": "@jupyter-widgets/base",
            "_view_module_version": "1.2.0",
            "_view_name": "LayoutView",
            "align_content": null,
            "align_items": null,
            "align_self": null,
            "border": null,
            "bottom": null,
            "display": null,
            "flex": null,
            "flex_flow": null,
            "grid_area": null,
            "grid_auto_columns": null,
            "grid_auto_flow": null,
            "grid_auto_rows": null,
            "grid_column": null,
            "grid_gap": null,
            "grid_row": null,
            "grid_template_areas": null,
            "grid_template_columns": null,
            "grid_template_rows": null,
            "height": null,
            "justify_content": null,
            "justify_items": null,
            "left": null,
            "margin": null,
            "max_height": null,
            "max_width": null,
            "min_height": null,
            "min_width": null,
            "object_fit": null,
            "object_position": null,
            "order": null,
            "overflow": null,
            "overflow_x": null,
            "overflow_y": null,
            "padding": null,
            "right": null,
            "top": null,
            "visibility": null,
            "width": null
          }
        },
        "d7589b9559c34866913836810dbaff53": {
          "model_module": "@jupyter-widgets/controls",
          "model_name": "ProgressStyleModel",
          "model_module_version": "1.5.0",
          "state": {
            "_model_module": "@jupyter-widgets/controls",
            "_model_module_version": "1.5.0",
            "_model_name": "ProgressStyleModel",
            "_view_count": null,
            "_view_module": "@jupyter-widgets/base",
            "_view_module_version": "1.2.0",
            "_view_name": "StyleView",
            "bar_color": null,
            "description_width": ""
          }
        },
        "2c7d98e0acf040eebd77c36ae58e437c": {
          "model_module": "@jupyter-widgets/base",
          "model_name": "LayoutModel",
          "model_module_version": "1.2.0",
          "state": {
            "_model_module": "@jupyter-widgets/base",
            "_model_module_version": "1.2.0",
            "_model_name": "LayoutModel",
            "_view_count": null,
            "_view_module": "@jupyter-widgets/base",
            "_view_module_version": "1.2.0",
            "_view_name": "LayoutView",
            "align_content": null,
            "align_items": null,
            "align_self": null,
            "border": null,
            "bottom": null,
            "display": null,
            "flex": null,
            "flex_flow": null,
            "grid_area": null,
            "grid_auto_columns": null,
            "grid_auto_flow": null,
            "grid_auto_rows": null,
            "grid_column": null,
            "grid_gap": null,
            "grid_row": null,
            "grid_template_areas": null,
            "grid_template_columns": null,
            "grid_template_rows": null,
            "height": null,
            "justify_content": null,
            "justify_items": null,
            "left": null,
            "margin": null,
            "max_height": null,
            "max_width": null,
            "min_height": null,
            "min_width": null,
            "object_fit": null,
            "object_position": null,
            "order": null,
            "overflow": null,
            "overflow_x": null,
            "overflow_y": null,
            "padding": null,
            "right": null,
            "top": null,
            "visibility": null,
            "width": null
          }
        },
        "fdf1e4e8f4904c54941c632e387fed78": {
          "model_module": "@jupyter-widgets/controls",
          "model_name": "DescriptionStyleModel",
          "model_module_version": "1.5.0",
          "state": {
            "_model_module": "@jupyter-widgets/controls",
            "_model_module_version": "1.5.0",
            "_model_name": "DescriptionStyleModel",
            "_view_count": null,
            "_view_module": "@jupyter-widgets/base",
            "_view_module_version": "1.2.0",
            "_view_name": "StyleView",
            "description_width": ""
          }
        }
      }
    }
  },
  "cells": [
    {
      "cell_type": "markdown",
      "source": [
        "# Jax goes BRRRRR\n",
        "\n",
        "\n",
        "\n",
        "*   No side effects\n",
        "*   compiles with shapes\n",
        "\n"
      ],
      "metadata": {
        "id": "VccjQ2VUwBV2"
      }
    },
    {
      "cell_type": "code",
      "execution_count": null,
      "metadata": {
        "id": "yxZMAoCAviqd"
      },
      "outputs": [],
      "source": [
        "import jax\n",
        "import jax.numpy as jnp"
      ]
    },
    {
      "cell_type": "markdown",
      "source": [
        "## NUMPY"
      ],
      "metadata": {
        "id": "w-knyZa-0BDq"
      }
    },
    {
      "cell_type": "markdown",
      "source": [
        "### Creating Arrays and Accelerators"
      ],
      "metadata": {
        "id": "_BpWM18ezERQ"
      }
    },
    {
      "cell_type": "code",
      "source": [
        "a = jnp.zeros((2, 5), dtype=jnp.float32)\n",
        "a"
      ],
      "metadata": {
        "colab": {
          "base_uri": "https://localhost:8080/"
        },
        "id": "aJWI2fCBwdfc",
        "outputId": "332d3679-cb3e-4aa9-f774-0e8268277aa4"
      },
      "execution_count": null,
      "outputs": [
        {
          "output_type": "execute_result",
          "data": {
            "text/plain": [
              "Array([[0., 0., 0., 0., 0.],\n",
              "       [0., 0., 0., 0., 0.]], dtype=float32)"
            ]
          },
          "metadata": {},
          "execution_count": 2
        }
      ]
    },
    {
      "cell_type": "code",
      "source": [
        "b = jnp.arange(6)\n",
        "b"
      ],
      "metadata": {
        "colab": {
          "base_uri": "https://localhost:8080/"
        },
        "id": "oLOnJF_LwpOR",
        "outputId": "4ac1c6a0-106e-4e30-eb1f-61557e25a846"
      },
      "execution_count": null,
      "outputs": [
        {
          "output_type": "execute_result",
          "data": {
            "text/plain": [
              "Array([0, 1, 2, 3, 4, 5], dtype=int32)"
            ]
          },
          "metadata": {},
          "execution_count": 3
        }
      ]
    },
    {
      "cell_type": "code",
      "source": [
        "b.__class__"
      ],
      "metadata": {
        "colab": {
          "base_uri": "https://localhost:8080/"
        },
        "id": "tMzWtGnNwzLF",
        "outputId": "46f610c7-8bd4-4cd6-ef13-7049930cbaf0"
      },
      "execution_count": null,
      "outputs": [
        {
          "output_type": "execute_result",
          "data": {
            "text/plain": [
              "jaxlib.xla_extension.ArrayImpl"
            ]
          },
          "metadata": {},
          "execution_count": 4
        }
      ]
    },
    {
      "cell_type": "code",
      "source": [
        "b.device"
      ],
      "metadata": {
        "colab": {
          "base_uri": "https://localhost:8080/"
        },
        "id": "1C4JyMNFxJNU",
        "outputId": "e03761de-785a-4e08-8a93-bdb5444fef25"
      },
      "execution_count": null,
      "outputs": [
        {
          "output_type": "execute_result",
          "data": {
            "text/plain": [
              "CpuDevice(id=0)"
            ]
          },
          "metadata": {},
          "execution_count": 5
        }
      ]
    },
    {
      "cell_type": "markdown",
      "source": [
        "> No matter which device the array is on, its always ArrayImpl, (used to be DeviceArray in old Jax)"
      ],
      "metadata": {
        "id": "gj0z5KNKx3yO"
      }
    },
    {
      "cell_type": "code",
      "source": [
        "b_cpu = jax.device_get(b)\n",
        "b_cpu.__class__"
      ],
      "metadata": {
        "colab": {
          "base_uri": "https://localhost:8080/"
        },
        "id": "8HjrAZz1xrKm",
        "outputId": "a32b54ef-7155-4262-d410-ffa827a2b6c4"
      },
      "execution_count": null,
      "outputs": [
        {
          "output_type": "execute_result",
          "data": {
            "text/plain": [
              "numpy.ndarray"
            ]
          },
          "metadata": {},
          "execution_count": 6
        }
      ]
    },
    {
      "cell_type": "code",
      "source": [
        "b_gpu = jax.device_put(b)\n",
        "b_gpu.__class__, b_gpu.device"
      ],
      "metadata": {
        "colab": {
          "base_uri": "https://localhost:8080/"
        },
        "id": "H-14kk3NyJ2C",
        "outputId": "2cbbf20f-b24f-4b26-ea15-3546ecfebec3"
      },
      "execution_count": null,
      "outputs": [
        {
          "output_type": "execute_result",
          "data": {
            "text/plain": [
              "(jaxlib.xla_extension.ArrayImpl, CpuDevice(id=0))"
            ]
          },
          "metadata": {},
          "execution_count": 7
        }
      ]
    },
    {
      "cell_type": "code",
      "source": [
        "ans = b_cpu + b_gpu\n",
        "ans.__class__, ans.device"
      ],
      "metadata": {
        "colab": {
          "base_uri": "https://localhost:8080/"
        },
        "id": "je6VahbfyTXx",
        "outputId": "bfe35cff-b207-429a-c1d1-2f641798a2ec"
      },
      "execution_count": null,
      "outputs": [
        {
          "output_type": "execute_result",
          "data": {
            "text/plain": [
              "(jaxlib.xla_extension.ArrayImpl, CpuDevice(id=0))"
            ]
          },
          "metadata": {},
          "execution_count": 8
        }
      ]
    },
    {
      "cell_type": "markdown",
      "source": [
        "> when cpu array + gpu array, the computation happens in GPU (cpu array is transferred to GPU for computing)"
      ],
      "metadata": {
        "id": "824SL31HyyEu"
      }
    },
    {
      "cell_type": "markdown",
      "source": [
        "Jax does async dispatch !"
      ],
      "metadata": {
        "id": "KchYtTI6zPVi"
      }
    },
    {
      "cell_type": "markdown",
      "source": [
        "### Immutable arrays"
      ],
      "metadata": {
        "id": "9lGqOdTdzJaJ"
      }
    },
    {
      "cell_type": "code",
      "source": [
        "b_new = b.at[0].set(100)\n",
        "b_new"
      ],
      "metadata": {
        "colab": {
          "base_uri": "https://localhost:8080/"
        },
        "id": "1B0pANhkys9U",
        "outputId": "c42c6491-5fe7-4ada-9a2f-40fbd45bef30"
      },
      "execution_count": null,
      "outputs": [
        {
          "output_type": "execute_result",
          "data": {
            "text/plain": [
              "Array([100,   1,   2,   3,   4,   5], dtype=int32)"
            ]
          },
          "metadata": {},
          "execution_count": 9
        }
      ]
    },
    {
      "cell_type": "code",
      "source": [
        "print(f'{b=}, {b_new=}')"
      ],
      "metadata": {
        "colab": {
          "base_uri": "https://localhost:8080/"
        },
        "id": "Pchk7Ft-zmRH",
        "outputId": "e022ddf2-1518-46ab-e37b-2ca305815fb2"
      },
      "execution_count": null,
      "outputs": [
        {
          "output_type": "stream",
          "name": "stdout",
          "text": [
            "b=Array([0, 1, 2, 3, 4, 5], dtype=int32), b_new=Array([100,   1,   2,   3,   4,   5], dtype=int32)\n"
          ]
        }
      ]
    },
    {
      "cell_type": "markdown",
      "source": [
        "### RNG"
      ],
      "metadata": {
        "id": "K4s2MnFa0RLZ"
      }
    },
    {
      "cell_type": "code",
      "source": [
        "rng = jax.random.key(42)"
      ],
      "metadata": {
        "id": "NXdvhQ-90JZT"
      },
      "execution_count": null,
      "outputs": []
    },
    {
      "cell_type": "code",
      "source": [
        "jax_random_number_1 = jax.random.normal(rng, 1)\n",
        "jax_random_number_2 = jax.random.normal(rng, 1)\n",
        "print(f'{jax_random_number_1=}, {jax_random_number_2=}')"
      ],
      "metadata": {
        "colab": {
          "base_uri": "https://localhost:8080/"
        },
        "id": "H2YXfYaT0Wvp",
        "outputId": "5ee61533-1e73-4fe6-9467-3fb87a97290d"
      },
      "execution_count": null,
      "outputs": [
        {
          "output_type": "stream",
          "name": "stdout",
          "text": [
            "jax_random_number_1=Array([-0.02830462], dtype=float32), jax_random_number_2=Array([-0.02830462], dtype=float32)\n"
          ]
        }
      ]
    },
    {
      "cell_type": "code",
      "source": [
        "rng, new_key, new_key2 = jax.random.split(rng, num=3)\n",
        "\n",
        "jax_random_number_1 = jax.random.normal(rng, 1)\n",
        "jax_random_number_2 = jax.random.normal(new_key, 1)\n",
        "print(f'{jax_random_number_1=}, {jax_random_number_2=}')"
      ],
      "metadata": {
        "colab": {
          "base_uri": "https://localhost:8080/"
        },
        "id": "Ycjg7RvS07Sf",
        "outputId": "18c6141b-99d1-4468-b4c1-46c77796e392"
      },
      "execution_count": null,
      "outputs": [
        {
          "output_type": "stream",
          "name": "stdout",
          "text": [
            "jax_random_number_1=Array([0.07592554], dtype=float32), jax_random_number_2=Array([0.60576403], dtype=float32)\n"
          ]
        }
      ]
    },
    {
      "cell_type": "markdown",
      "source": [
        "> After splitting a key, every new key is unique and different from old key!"
      ],
      "metadata": {
        "id": "KmL5nbB61Jtv"
      }
    },
    {
      "cell_type": "markdown",
      "source": [
        "## Function transformations"
      ],
      "metadata": {
        "id": "zTEcLqSd1xYQ"
      }
    },
    {
      "cell_type": "markdown",
      "source": [
        "***don’t write code with side-effects.***\n",
        "\n",
        "but not everything should satisfy this\n",
        "> loading or saving of models, the logging, or the data generation"
      ],
      "metadata": {
        "id": "TKJcYs4W2DPZ"
      }
    },
    {
      "cell_type": "code",
      "source": [
        "def simple_graph(x):\n",
        "    x += 2\n",
        "    x  = x **2\n",
        "    x += 3\n",
        "    y = x.mean()\n",
        "    return y\n",
        "\n",
        "inp = jnp.arange(3, dtype=jnp.float32)\n",
        "output = simple_graph(inp)\n",
        "print(f'{inp=}')\n",
        "print(f'{output=}')"
      ],
      "metadata": {
        "colab": {
          "base_uri": "https://localhost:8080/"
        },
        "id": "mIjXNmj31HO6",
        "outputId": "42bd5b67-37c0-40d5-de14-a945521de29a"
      },
      "execution_count": null,
      "outputs": [
        {
          "output_type": "stream",
          "name": "stdout",
          "text": [
            "inp=Array([0., 1., 2.], dtype=float32)\n",
            "output=Array(12.666667, dtype=float32)\n"
          ]
        }
      ]
    },
    {
      "cell_type": "code",
      "source": [
        "jax.make_jaxpr(simple_graph)(inp)"
      ],
      "metadata": {
        "colab": {
          "base_uri": "https://localhost:8080/"
        },
        "id": "XhdF8ACM4qpL",
        "outputId": "70e7d95e-8f35-48a4-caec-97756605c2de"
      },
      "execution_count": null,
      "outputs": [
        {
          "output_type": "execute_result",
          "data": {
            "text/plain": [
              "{ lambda ; a:f32[3]. let\n",
              "    b:f32[3] = add a 2.0\n",
              "    c:f32[3] = integer_pow[y=2] b\n",
              "    d:f32[3] = add c 3.0\n",
              "    e:f32[] = reduce_sum[axes=(0,)] d\n",
              "    f:f32[] = div e 3.0\n",
              "  in (f,) }"
            ]
          },
          "metadata": {},
          "execution_count": 15
        }
      ]
    },
    {
      "cell_type": "markdown",
      "source": [
        "```\n",
        "jaxpr ::= { lambda Var* ; Var+.\n",
        "            let Eqn*\n",
        "            in  [Expr+] }\n",
        "```\n",
        "\n",
        "`Var*` are constants  \n",
        "`Var+` are inputs  \n",
        "`Eqn*` list of equations  \n",
        "`Expr+` outputs"
      ],
      "metadata": {
        "id": "FO-PaQRo5N00"
      }
    },
    {
      "cell_type": "code",
      "source": [
        "## example of a function with side effect\n",
        "\n",
        "global_list = []\n",
        "def norm(x):\n",
        "    global_list.append(x)\n",
        "    x = x**2\n",
        "    n = x.sum()\n",
        "    n = jnp.sqrt(n)\n",
        "    return n\n",
        "\n",
        "jax.make_jaxpr(norm)(inp)"
      ],
      "metadata": {
        "colab": {
          "base_uri": "https://localhost:8080/"
        },
        "id": "UVfsSfFI43BN",
        "outputId": "1182e789-5875-4d1e-f13a-eb3ce53f1c69"
      },
      "execution_count": null,
      "outputs": [
        {
          "output_type": "execute_result",
          "data": {
            "text/plain": [
              "{ lambda ; a:f32[3]. let\n",
              "    b:f32[3] = integer_pow[y=2] a\n",
              "    c:f32[] = reduce_sum[axes=(0,)] b\n",
              "    d:f32[] = sqrt c\n",
              "  in (d,) }"
            ]
          },
          "metadata": {},
          "execution_count": 16
        }
      ]
    },
    {
      "cell_type": "markdown",
      "source": [
        "### Automatic differentiation\n",
        "\n",
        "\n",
        "\n"
      ],
      "metadata": {
        "id": "qIKOMArC6olI"
      }
    },
    {
      "cell_type": "code",
      "source": [
        "grad_function = jax.grad(simple_graph)\n",
        "gradients = grad_function(inp)\n",
        "print(f'{gradients=}')"
      ],
      "metadata": {
        "colab": {
          "base_uri": "https://localhost:8080/"
        },
        "id": "QKQNkJCI6Urd",
        "outputId": "e0c36f26-9f4b-4461-d9a7-f91b463022b3"
      },
      "execution_count": null,
      "outputs": [
        {
          "output_type": "stream",
          "name": "stdout",
          "text": [
            "gradients=Array([1.3333334, 2.       , 2.6666667], dtype=float32)\n"
          ]
        }
      ]
    },
    {
      "cell_type": "code",
      "source": [
        "jax.make_jaxpr(grad_function)(inp)"
      ],
      "metadata": {
        "colab": {
          "base_uri": "https://localhost:8080/"
        },
        "id": "dhIqeYWe65Ci",
        "outputId": "e59ba097-1b89-465a-95db-662e7a586fc5"
      },
      "execution_count": null,
      "outputs": [
        {
          "output_type": "execute_result",
          "data": {
            "text/plain": [
              "{ lambda ; a:f32[3]. let\n",
              "    b:f32[3] = add a 2.0\n",
              "    c:f32[3] = integer_pow[y=2] b\n",
              "    d:f32[3] = integer_pow[y=1] b\n",
              "    e:f32[3] = mul 2.0 d\n",
              "    f:f32[3] = add c 3.0\n",
              "    g:f32[] = reduce_sum[axes=(0,)] f\n",
              "    _:f32[] = div g 3.0\n",
              "    h:f32[] = div 1.0 3.0\n",
              "    i:f32[3] = broadcast_in_dim[\n",
              "      broadcast_dimensions=()\n",
              "      shape=(3,)\n",
              "      sharding=None\n",
              "    ] h\n",
              "    j:f32[3] = mul i e\n",
              "  in (j,) }"
            ]
          },
          "metadata": {},
          "execution_count": 18
        }
      ]
    },
    {
      "cell_type": "markdown",
      "source": [
        "> Jax creates a seperate function for gradients"
      ],
      "metadata": {
        "id": "8wBj5AEP6_p6"
      }
    },
    {
      "cell_type": "code",
      "source": [
        "# used a lot !\n",
        "\n",
        "val_grad_function = jax.value_and_grad(simple_graph)\n",
        "val_grad_function(inp)"
      ],
      "metadata": {
        "colab": {
          "base_uri": "https://localhost:8080/"
        },
        "id": "fa-5Xyy1680R",
        "outputId": "f34e6f17-ec84-4fa9-d858-f7e9d038e383"
      },
      "execution_count": null,
      "outputs": [
        {
          "output_type": "execute_result",
          "data": {
            "text/plain": [
              "(Array(12.666667, dtype=float32),\n",
              " Array([1.3333334, 2.       , 2.6666667], dtype=float32))"
            ]
          },
          "metadata": {},
          "execution_count": 19
        }
      ]
    },
    {
      "cell_type": "markdown",
      "source": [
        "### JIT!"
      ],
      "metadata": {
        "id": "IhmJvrhZ8Wiu"
      }
    },
    {
      "cell_type": "code",
      "source": [
        "jitted_function = jax.jit(simple_graph)"
      ],
      "metadata": {
        "id": "2AQDtJnH78P7"
      },
      "execution_count": null,
      "outputs": []
    },
    {
      "cell_type": "code",
      "source": [
        "rng, normal_rng = jax.random.split(rng)\n",
        "large_input = jax.random.normal(normal_rng, (1_000))\n",
        "_ = jitted_function(large_input) # initial run to compile"
      ],
      "metadata": {
        "id": "oEjOX1Le8bMD"
      },
      "execution_count": null,
      "outputs": []
    },
    {
      "cell_type": "code",
      "source": [
        "%%timeit\n",
        "\n",
        "simple_graph(large_input).block_until_ready()"
      ],
      "metadata": {
        "colab": {
          "base_uri": "https://localhost:8080/"
        },
        "id": "yZomqIdW8sFr",
        "outputId": "8e23e35d-d1c2-4d5c-f3ed-9431684c2493"
      },
      "execution_count": null,
      "outputs": [
        {
          "output_type": "stream",
          "name": "stdout",
          "text": [
            "2.04 ms ± 887 µs per loop (mean ± std. dev. of 7 runs, 1 loop each)\n"
          ]
        }
      ]
    },
    {
      "cell_type": "code",
      "source": [
        "%%timeit\n",
        "jitted_function(large_input).block_until_ready()"
      ],
      "metadata": {
        "colab": {
          "base_uri": "https://localhost:8080/"
        },
        "id": "6OF9fhDZ8xwT",
        "outputId": "4b0707da-b780-4ad5-8fbf-028d0f8b2f57"
      },
      "execution_count": null,
      "outputs": [
        {
          "output_type": "stream",
          "name": "stdout",
          "text": [
            "190 µs ± 99.7 µs per loop (mean ± std. dev. of 7 runs, 1000 loops each)\n"
          ]
        }
      ]
    },
    {
      "cell_type": "code",
      "source": [
        "jitted_grad_function = jax.jit(grad_function)\n",
        "_ = jitted_grad_function(large_input) # initial run"
      ],
      "metadata": {
        "id": "VtihCUG181Bh"
      },
      "execution_count": null,
      "outputs": []
    },
    {
      "cell_type": "code",
      "source": [
        "%%timeit\n",
        "grad_function(large_input).block_until_ready()"
      ],
      "metadata": {
        "colab": {
          "base_uri": "https://localhost:8080/"
        },
        "id": "bz9w8BnY9J24",
        "outputId": "7b941ef1-bd36-4b71-fa70-89cb2f8a680e"
      },
      "execution_count": null,
      "outputs": [
        {
          "output_type": "stream",
          "name": "stdout",
          "text": [
            "11.2 ms ± 7.03 ms per loop (mean ± std. dev. of 7 runs, 1 loop each)\n"
          ]
        }
      ]
    },
    {
      "cell_type": "code",
      "source": [
        "%%timeit\n",
        "jitted_grad_function(large_input).block_until_ready()"
      ],
      "metadata": {
        "colab": {
          "base_uri": "https://localhost:8080/"
        },
        "id": "7gCTZdum9Qvf",
        "outputId": "c8baf110-0501-4251-c3bc-368857e29695"
      },
      "execution_count": null,
      "outputs": [
        {
          "output_type": "stream",
          "name": "stdout",
          "text": [
            "151 µs ± 30 µs per loop (mean ± std. dev. of 7 runs, 10000 loops each)\n"
          ]
        }
      ]
    },
    {
      "cell_type": "markdown",
      "source": [
        "- jit the largest possible chunk of computation to give the compiler maximum freedom.\n",
        "\n",
        "- if an input argument cannot be traced, or you need to use loops that depend on input arguments. -> NOT STRAIGHT FORWARD TO USE JIT"
      ],
      "metadata": {
        "id": "bibHqRLA9hcl"
      }
    },
    {
      "cell_type": "markdown",
      "source": [
        "## Neural Network"
      ],
      "metadata": {
        "id": "89M30cf09Xt8"
      }
    },
    {
      "cell_type": "code",
      "source": [
        "import flax\n",
        "from flax import linen as nn"
      ],
      "metadata": {
        "id": "G_i_-4LN9WZT"
      },
      "execution_count": null,
      "outputs": []
    },
    {
      "cell_type": "code",
      "source": [
        "# Example module\n",
        "\n",
        "class MyModule(nn.Module):\n",
        "    # Some dataclass attributes, like hidden dimension, number of layers, etc. of the form:\n",
        "    # varname : vartype\n",
        "\n",
        "    def setup(self):\n",
        "        # Flax uses \"lazy\" initialization. This function is called once before you\n",
        "        # call the model, or try to access attributes. In here, define your submodules etc.\n",
        "        pass\n",
        "\n",
        "    def __call__(self):\n",
        "        # Function for performing the calculation of the module.\n",
        "        pass"
      ],
      "metadata": {
        "id": "GGbvjC1kKcx1"
      },
      "execution_count": null,
      "outputs": []
    },
    {
      "cell_type": "code",
      "source": [
        "class SimpleClassifier(nn.Module):\n",
        "    num_hidden: int\n",
        "    num_outputs: int\n",
        "\n",
        "    def setup(self):\n",
        "        self.linear1 = nn.Dense(features=self.num_hidden)\n",
        "        self.linear2 = nn.Dense(features=self.num_outputs)\n",
        "\n",
        "    def __call__(self, x):\n",
        "        x = self.linear1(x)\n",
        "        x = nn.tanh(x)\n",
        "        x = self.linear2(x)\n",
        "        return x"
      ],
      "metadata": {
        "id": "zp6gGDEqK5UE"
      },
      "execution_count": null,
      "outputs": []
    },
    {
      "cell_type": "code",
      "source": [
        "class SimpleClassifierCompact(nn.Module):\n",
        "    num_hidden: int\n",
        "    num_outputs: int\n",
        "\n",
        "    @nn.compact\n",
        "    def __call__(self, x):\n",
        "        x = nn.Dense(features=self.num_hidden)(x)\n",
        "        x = nn.tanh(x)\n",
        "        x = nn.Dense(features=self.num_outputs)(x)\n",
        "        return x"
      ],
      "metadata": {
        "id": "DVtVFXxMNEVY"
      },
      "execution_count": null,
      "outputs": []
    },
    {
      "cell_type": "code",
      "source": [
        "model = SimpleClassifier(num_hidden=8, num_outputs=1)\n",
        "print(model)"
      ],
      "metadata": {
        "colab": {
          "base_uri": "https://localhost:8080/"
        },
        "id": "QjietYuvNgwe",
        "outputId": "c2f8bc94-64f3-4a72-b0a7-9c8057cbc344"
      },
      "execution_count": null,
      "outputs": [
        {
          "output_type": "stream",
          "name": "stdout",
          "text": [
            "SimpleClassifier(\n",
            "    # attributes\n",
            "    num_hidden = 8\n",
            "    num_outputs = 1\n",
            ")\n"
          ]
        }
      ]
    },
    {
      "cell_type": "code",
      "source": [
        "rng, input_rng, init_rng = jax.random.split(rng, num=3)\n",
        "inp = jax.random.normal(input_rng, (8, 2))\n",
        "params = model.init(init_rng, inp)\n",
        "\n",
        "print(params)"
      ],
      "metadata": {
        "colab": {
          "base_uri": "https://localhost:8080/"
        },
        "id": "DTyZVd1VRZhU",
        "outputId": "942034a3-09f9-4e5a-fd65-e17ba3121c47"
      },
      "execution_count": null,
      "outputs": [
        {
          "output_type": "stream",
          "name": "stdout",
          "text": [
            "{'params': {'linear1': {'kernel': Array([[ 0.2358262 ,  1.1846783 , -0.8173433 , -0.5974849 ,  1.5113541 ,\n",
            "         0.46746165, -1.4007498 ,  0.06445124],\n",
            "       [-1.3228476 , -0.46699226, -1.0662045 ,  0.11042926, -1.1234415 ,\n",
            "         1.1816872 ,  0.2501724 ,  0.43124083]], dtype=float32), 'bias': Array([0., 0., 0., 0., 0., 0., 0., 0.], dtype=float32)}, 'linear2': {'kernel': Array([[ 0.3490574 ],\n",
            "       [-0.17485276],\n",
            "       [ 0.21137303],\n",
            "       [-0.5151711 ],\n",
            "       [ 0.11410474],\n",
            "       [ 0.30252907],\n",
            "       [-0.08755054],\n",
            "       [ 0.29612565]], dtype=float32), 'bias': Array([0.], dtype=float32)}}}\n"
          ]
        }
      ]
    },
    {
      "cell_type": "code",
      "source": [
        "model.apply(params, inp)"
      ],
      "metadata": {
        "colab": {
          "base_uri": "https://localhost:8080/"
        },
        "id": "AYNZ1B5KR1hH",
        "outputId": "49340514-8ddd-4aad-c219-2ab8752b5d8c"
      },
      "execution_count": null,
      "outputs": [
        {
          "output_type": "execute_result",
          "data": {
            "text/plain": [
              "Array([[-0.05129167],\n",
              "       [-0.13886493],\n",
              "       [ 0.56730676],\n",
              "       [-0.37633365],\n",
              "       [ 0.39997315],\n",
              "       [-0.42515507],\n",
              "       [ 0.5623411 ],\n",
              "       [-0.21240012]], dtype=float32)"
            ]
          },
          "metadata": {},
          "execution_count": 33
        }
      ]
    },
    {
      "cell_type": "markdown",
      "source": [
        "### Data"
      ],
      "metadata": {
        "id": "wmOkaskEShgi"
      }
    },
    {
      "cell_type": "code",
      "source": [
        "import torch.utils.data as data"
      ],
      "metadata": {
        "id": "ADzBXu-XSdso"
      },
      "execution_count": null,
      "outputs": []
    },
    {
      "cell_type": "code",
      "source": [
        "import numpy as np\n",
        "\n",
        "class XORDataset(data.Dataset):\n",
        "\n",
        "    def __init__(self, size, seed, std=0.1):\n",
        "        super().__init__()\n",
        "        self.size = size\n",
        "        self.np_rng = np.random.RandomState(seed=seed)\n",
        "        self.std = std\n",
        "        self.generate_continuous_xor()\n",
        "\n",
        "    def generate_continuous_xor(self):\n",
        "        data = self.np_rng.randint(low=0, high=2, size=(self.size, 2)).astype(np.float32)\n",
        "        label = (data.sum(axis=1) == 1).astype(np.int32)\n",
        "\n",
        "        data += self.np_rng.normal(loc=0.0, scale=self.std, size=(self.size, 2))\n",
        "\n",
        "        self.data = data\n",
        "        self.label = label\n",
        "\n",
        "    def __len__(self):\n",
        "        return self.size\n",
        "\n",
        "    def __getitem__(self, idx):\n",
        "        data_point = self.data[idx]\n",
        "        data_label = self.label[idx]\n",
        "\n",
        "        return data_point, data_label"
      ],
      "metadata": {
        "id": "g_qUIOFeSrpm"
      },
      "execution_count": null,
      "outputs": []
    },
    {
      "cell_type": "code",
      "source": [
        "dataset = XORDataset(size=200, seed=42)\n",
        "print(f'len of dataset: {len(dataset)}')\n",
        "print(f'First data point: {dataset[0]}')"
      ],
      "metadata": {
        "colab": {
          "base_uri": "https://localhost:8080/"
        },
        "id": "0REUGiSsVbYW",
        "outputId": "e427b2cf-1fc6-4327-d5d2-cbeb1878058a"
      },
      "execution_count": null,
      "outputs": [
        {
          "output_type": "stream",
          "name": "stdout",
          "text": [
            "len of dataset: 200\n",
            "First data point: (array([-0.06800247,  1.0232254 ], dtype=float32), np.int32(1))\n"
          ]
        }
      ]
    },
    {
      "cell_type": "code",
      "source": [
        "import matplotlib.pyplot as plt\n",
        "%matplotlib inline\n",
        "from IPython.display import set_matplotlib_formats\n",
        "set_matplotlib_formats('svg', 'pdf') # For export\n",
        "from matplotlib.colors import to_rgba\n",
        "import seaborn as sns\n",
        "sns.set()"
      ],
      "metadata": {
        "colab": {
          "base_uri": "https://localhost:8080/"
        },
        "id": "_NRBmNxeWMEI",
        "outputId": "ce729251-2e04-4bd3-da6a-ae9ac0c70770"
      },
      "execution_count": null,
      "outputs": [
        {
          "output_type": "stream",
          "name": "stderr",
          "text": [
            "<ipython-input-37-1364b0f27049>:4: DeprecationWarning: `set_matplotlib_formats` is deprecated since IPython 7.23, directly use `matplotlib_inline.backend_inline.set_matplotlib_formats()`\n",
            "  set_matplotlib_formats('svg', 'pdf') # For export\n"
          ]
        }
      ]
    },
    {
      "cell_type": "code",
      "source": [
        "def visualize_samples(data, label):\n",
        "    data_0 = data[label == 0]\n",
        "    data_1 = data[label == 1]\n",
        "\n",
        "    plt.figure(figsize=(4,4))\n",
        "    plt.scatter(data_0[:,0], data_0[:,1], edgecolor=\"#333\", label=\"Class 0\")\n",
        "    plt.scatter(data_1[:,0], data_1[:,1], edgecolors=\"#333\", label=\"class 1\")\n",
        "    plt.title(\"Dataset Samples\")\n",
        "    plt.ylabel('$x_2$')\n",
        "    plt.xlabel('$x_1$')\n",
        "    plt.legend()"
      ],
      "metadata": {
        "id": "nDr0vXviV40V"
      },
      "execution_count": null,
      "outputs": []
    },
    {
      "cell_type": "code",
      "source": [
        "visualize_samples(dataset.data, dataset.label)"
      ],
      "metadata": {
        "colab": {
          "base_uri": "https://localhost:8080/"
        },
        "id": "UPJrQtsLW7M1",
        "outputId": "210ce72c-4eb9-4034-badb-57661f104905"
      },
      "execution_count": null,
      "outputs": [
        {
          "output_type": "display_data",
          "data": {
            "text/plain": [
              "<Figure size 400x400 with 1 Axes>"
            ],
            "image/svg+xml": "<?xml version=\"1.0\" encoding=\"utf-8\" standalone=\"no\"?>\n<!DOCTYPE svg PUBLIC \"-//W3C//DTD SVG 1.1//EN\"\n  \"http://www.w3.org/Graphics/SVG/1.1/DTD/svg11.dtd\">\n<svg xmlns:xlink=\"http://www.w3.org/1999/xlink\" width=\"289.424844pt\" height=\"287.037813pt\" viewBox=\"0 0 289.424844 287.037813\" xmlns=\"http://www.w3.org/2000/svg\" version=\"1.1\">\n <metadata>\n  <rdf:RDF xmlns:dc=\"http://purl.org/dc/elements/1.1/\" xmlns:cc=\"http://creativecommons.org/ns#\" xmlns:rdf=\"http://www.w3.org/1999/02/22-rdf-syntax-ns#\">\n   <cc:Work>\n    <dc:type rdf:resource=\"http://purl.org/dc/dcmitype/StillImage\"/>\n    <dc:date>2025-03-31T17:19:49.282917</dc:date>\n    <dc:format>image/svg+xml</dc:format>\n    <dc:creator>\n     <cc:Agent>\n      <dc:title>Matplotlib v3.10.0, https://matplotlib.org/</dc:title>\n     </cc:Agent>\n    </dc:creator>\n   </cc:Work>\n  </rdf:RDF>\n </metadata>\n <defs>\n  <style type=\"text/css\">*{stroke-linejoin: round; stroke-linecap: butt}</style>\n </defs>\n <g id=\"figure_1\">\n  <g id=\"patch_1\">\n   <path d=\"M 0 287.037813 \nL 289.424844 287.037813 \nL 289.424844 0 \nL 0 0 \nz\n\" style=\"fill: #ffffff\"/>\n  </g>\n  <g id=\"axes_1\">\n   <g id=\"patch_2\">\n    <path d=\"M 59.024844 244.078125 \nL 282.224844 244.078125 \nL 282.224844 22.318125 \nL 59.024844 22.318125 \nz\n\" style=\"fill: #eaeaf2\"/>\n   </g>\n   <g id=\"matplotlib.axis_1\">\n    <g id=\"xtick_1\">\n     <g id=\"line2d_1\">\n      <path d=\"M 98.338694 244.078125 \nL 98.338694 22.318125 \n\" clip-path=\"url(#p2f6029b08c)\" style=\"fill: none; stroke: #ffffff; stroke-linecap: round\"/>\n     </g>\n     <g id=\"text_1\">\n      <!-- 0.0 -->\n      <g style=\"fill: #262626\" transform=\"translate(89.591975 261.936406) scale(0.11 -0.11)\">\n       <defs>\n        <path id=\"DejaVuSans-30\" d=\"M 2034 4250 \nQ 1547 4250 1301 3770 \nQ 1056 3291 1056 2328 \nQ 1056 1369 1301 889 \nQ 1547 409 2034 409 \nQ 2525 409 2770 889 \nQ 3016 1369 3016 2328 \nQ 3016 3291 2770 3770 \nQ 2525 4250 2034 4250 \nz\nM 2034 4750 \nQ 2819 4750 3233 4129 \nQ 3647 3509 3647 2328 \nQ 3647 1150 3233 529 \nQ 2819 -91 2034 -91 \nQ 1250 -91 836 529 \nQ 422 1150 422 2328 \nQ 422 3509 836 4129 \nQ 1250 4750 2034 4750 \nz\n\" transform=\"scale(0.015625)\"/>\n        <path id=\"DejaVuSans-2e\" d=\"M 684 794 \nL 1344 794 \nL 1344 0 \nL 684 0 \nL 684 794 \nz\n\" transform=\"scale(0.015625)\"/>\n       </defs>\n       <use xlink:href=\"#DejaVuSans-30\"/>\n       <use xlink:href=\"#DejaVuSans-2e\" transform=\"translate(63.623047 0)\"/>\n       <use xlink:href=\"#DejaVuSans-30\" transform=\"translate(95.410156 0)\"/>\n      </g>\n     </g>\n    </g>\n    <g id=\"xtick_2\">\n     <g id=\"line2d_2\">\n      <path d=\"M 168.880926 244.078125 \nL 168.880926 22.318125 \n\" clip-path=\"url(#p2f6029b08c)\" style=\"fill: none; stroke: #ffffff; stroke-linecap: round\"/>\n     </g>\n     <g id=\"text_2\">\n      <!-- 0.5 -->\n      <g style=\"fill: #262626\" transform=\"translate(160.134208 261.936406) scale(0.11 -0.11)\">\n       <defs>\n        <path id=\"DejaVuSans-35\" d=\"M 691 4666 \nL 3169 4666 \nL 3169 4134 \nL 1269 4134 \nL 1269 2991 \nQ 1406 3038 1543 3061 \nQ 1681 3084 1819 3084 \nQ 2600 3084 3056 2656 \nQ 3513 2228 3513 1497 \nQ 3513 744 3044 326 \nQ 2575 -91 1722 -91 \nQ 1428 -91 1123 -41 \nQ 819 9 494 109 \nL 494 744 \nQ 775 591 1075 516 \nQ 1375 441 1709 441 \nQ 2250 441 2565 725 \nQ 2881 1009 2881 1497 \nQ 2881 1984 2565 2268 \nQ 2250 2553 1709 2553 \nQ 1456 2553 1204 2497 \nQ 953 2441 691 2322 \nL 691 4666 \nz\n\" transform=\"scale(0.015625)\"/>\n       </defs>\n       <use xlink:href=\"#DejaVuSans-30\"/>\n       <use xlink:href=\"#DejaVuSans-2e\" transform=\"translate(63.623047 0)\"/>\n       <use xlink:href=\"#DejaVuSans-35\" transform=\"translate(95.410156 0)\"/>\n      </g>\n     </g>\n    </g>\n    <g id=\"xtick_3\">\n     <g id=\"line2d_3\">\n      <path d=\"M 239.423158 244.078125 \nL 239.423158 22.318125 \n\" clip-path=\"url(#p2f6029b08c)\" style=\"fill: none; stroke: #ffffff; stroke-linecap: round\"/>\n     </g>\n     <g id=\"text_3\">\n      <!-- 1.0 -->\n      <g style=\"fill: #262626\" transform=\"translate(230.67644 261.936406) scale(0.11 -0.11)\">\n       <defs>\n        <path id=\"DejaVuSans-31\" d=\"M 794 531 \nL 1825 531 \nL 1825 4091 \nL 703 3866 \nL 703 4441 \nL 1819 4666 \nL 2450 4666 \nL 2450 531 \nL 3481 531 \nL 3481 0 \nL 794 0 \nL 794 531 \nz\n\" transform=\"scale(0.015625)\"/>\n       </defs>\n       <use xlink:href=\"#DejaVuSans-31\"/>\n       <use xlink:href=\"#DejaVuSans-2e\" transform=\"translate(63.623047 0)\"/>\n       <use xlink:href=\"#DejaVuSans-30\" transform=\"translate(95.410156 0)\"/>\n      </g>\n     </g>\n    </g>\n    <g id=\"text_4\">\n     <!-- $x_1$ -->\n     <g style=\"fill: #262626\" transform=\"translate(164.204844 277.342188) scale(0.12 -0.12)\">\n      <defs>\n       <path id=\"DejaVuSans-Oblique-78\" d=\"M 3841 3500 \nL 2234 1784 \nL 3219 0 \nL 2559 0 \nL 1819 1388 \nL 531 0 \nL -166 0 \nL 1556 1844 \nL 641 3500 \nL 1300 3500 \nL 1972 2234 \nL 3144 3500 \nL 3841 3500 \nz\n\" transform=\"scale(0.015625)\"/>\n      </defs>\n      <use xlink:href=\"#DejaVuSans-Oblique-78\" transform=\"translate(0 0.3125)\"/>\n      <use xlink:href=\"#DejaVuSans-31\" transform=\"translate(59.179688 -16.09375) scale(0.7)\"/>\n     </g>\n    </g>\n   </g>\n   <g id=\"matplotlib.axis_2\">\n    <g id=\"ytick_1\">\n     <g id=\"line2d_4\">\n      <path d=\"M 59.024844 234.65645 \nL 282.224844 234.65645 \n\" clip-path=\"url(#p2f6029b08c)\" style=\"fill: none; stroke: #ffffff; stroke-linecap: round\"/>\n     </g>\n     <g id=\"text_5\">\n      <!-- −0.2 -->\n      <g style=\"fill: #262626\" transform=\"translate(22.81375 238.835591) scale(0.11 -0.11)\">\n       <defs>\n        <path id=\"DejaVuSans-2212\" d=\"M 678 2272 \nL 4684 2272 \nL 4684 1741 \nL 678 1741 \nL 678 2272 \nz\n\" transform=\"scale(0.015625)\"/>\n        <path id=\"DejaVuSans-32\" d=\"M 1228 531 \nL 3431 531 \nL 3431 0 \nL 469 0 \nL 469 531 \nQ 828 903 1448 1529 \nQ 2069 2156 2228 2338 \nQ 2531 2678 2651 2914 \nQ 2772 3150 2772 3378 \nQ 2772 3750 2511 3984 \nQ 2250 4219 1831 4219 \nQ 1534 4219 1204 4116 \nQ 875 4013 500 3803 \nL 500 4441 \nQ 881 4594 1212 4672 \nQ 1544 4750 1819 4750 \nQ 2544 4750 2975 4387 \nQ 3406 4025 3406 3419 \nQ 3406 3131 3298 2873 \nQ 3191 2616 2906 2266 \nQ 2828 2175 2409 1742 \nQ 1991 1309 1228 531 \nz\n\" transform=\"scale(0.015625)\"/>\n       </defs>\n       <use xlink:href=\"#DejaVuSans-2212\"/>\n       <use xlink:href=\"#DejaVuSans-30\" transform=\"translate(83.789062 0)\"/>\n       <use xlink:href=\"#DejaVuSans-2e\" transform=\"translate(147.412109 0)\"/>\n       <use xlink:href=\"#DejaVuSans-32\" transform=\"translate(179.199219 0)\"/>\n      </g>\n     </g>\n    </g>\n    <g id=\"ytick_2\">\n     <g id=\"line2d_5\">\n      <path d=\"M 59.024844 207.176015 \nL 282.224844 207.176015 \n\" clip-path=\"url(#p2f6029b08c)\" style=\"fill: none; stroke: #ffffff; stroke-linecap: round\"/>\n     </g>\n     <g id=\"text_6\">\n      <!-- 0.0 -->\n      <g style=\"fill: #262626\" transform=\"translate(32.031406 211.355155) scale(0.11 -0.11)\">\n       <use xlink:href=\"#DejaVuSans-30\"/>\n       <use xlink:href=\"#DejaVuSans-2e\" transform=\"translate(63.623047 0)\"/>\n       <use xlink:href=\"#DejaVuSans-30\" transform=\"translate(95.410156 0)\"/>\n      </g>\n     </g>\n    </g>\n    <g id=\"ytick_3\">\n     <g id=\"line2d_6\">\n      <path d=\"M 59.024844 179.695579 \nL 282.224844 179.695579 \n\" clip-path=\"url(#p2f6029b08c)\" style=\"fill: none; stroke: #ffffff; stroke-linecap: round\"/>\n     </g>\n     <g id=\"text_7\">\n      <!-- 0.2 -->\n      <g style=\"fill: #262626\" transform=\"translate(32.031406 183.87472) scale(0.11 -0.11)\">\n       <use xlink:href=\"#DejaVuSans-30\"/>\n       <use xlink:href=\"#DejaVuSans-2e\" transform=\"translate(63.623047 0)\"/>\n       <use xlink:href=\"#DejaVuSans-32\" transform=\"translate(95.410156 0)\"/>\n      </g>\n     </g>\n    </g>\n    <g id=\"ytick_4\">\n     <g id=\"line2d_7\">\n      <path d=\"M 59.024844 152.215144 \nL 282.224844 152.215144 \n\" clip-path=\"url(#p2f6029b08c)\" style=\"fill: none; stroke: #ffffff; stroke-linecap: round\"/>\n     </g>\n     <g id=\"text_8\">\n      <!-- 0.4 -->\n      <g style=\"fill: #262626\" transform=\"translate(32.031406 156.394284) scale(0.11 -0.11)\">\n       <defs>\n        <path id=\"DejaVuSans-34\" d=\"M 2419 4116 \nL 825 1625 \nL 2419 1625 \nL 2419 4116 \nz\nM 2253 4666 \nL 3047 4666 \nL 3047 1625 \nL 3713 1625 \nL 3713 1100 \nL 3047 1100 \nL 3047 0 \nL 2419 0 \nL 2419 1100 \nL 313 1100 \nL 313 1709 \nL 2253 4666 \nz\n\" transform=\"scale(0.015625)\"/>\n       </defs>\n       <use xlink:href=\"#DejaVuSans-30\"/>\n       <use xlink:href=\"#DejaVuSans-2e\" transform=\"translate(63.623047 0)\"/>\n       <use xlink:href=\"#DejaVuSans-34\" transform=\"translate(95.410156 0)\"/>\n      </g>\n     </g>\n    </g>\n    <g id=\"ytick_5\">\n     <g id=\"line2d_8\">\n      <path d=\"M 59.024844 124.734708 \nL 282.224844 124.734708 \n\" clip-path=\"url(#p2f6029b08c)\" style=\"fill: none; stroke: #ffffff; stroke-linecap: round\"/>\n     </g>\n     <g id=\"text_9\">\n      <!-- 0.6 -->\n      <g style=\"fill: #262626\" transform=\"translate(32.031406 128.913849) scale(0.11 -0.11)\">\n       <defs>\n        <path id=\"DejaVuSans-36\" d=\"M 2113 2584 \nQ 1688 2584 1439 2293 \nQ 1191 2003 1191 1497 \nQ 1191 994 1439 701 \nQ 1688 409 2113 409 \nQ 2538 409 2786 701 \nQ 3034 994 3034 1497 \nQ 3034 2003 2786 2293 \nQ 2538 2584 2113 2584 \nz\nM 3366 4563 \nL 3366 3988 \nQ 3128 4100 2886 4159 \nQ 2644 4219 2406 4219 \nQ 1781 4219 1451 3797 \nQ 1122 3375 1075 2522 \nQ 1259 2794 1537 2939 \nQ 1816 3084 2150 3084 \nQ 2853 3084 3261 2657 \nQ 3669 2231 3669 1497 \nQ 3669 778 3244 343 \nQ 2819 -91 2113 -91 \nQ 1303 -91 875 529 \nQ 447 1150 447 2328 \nQ 447 3434 972 4092 \nQ 1497 4750 2381 4750 \nQ 2619 4750 2861 4703 \nQ 3103 4656 3366 4563 \nz\n\" transform=\"scale(0.015625)\"/>\n       </defs>\n       <use xlink:href=\"#DejaVuSans-30\"/>\n       <use xlink:href=\"#DejaVuSans-2e\" transform=\"translate(63.623047 0)\"/>\n       <use xlink:href=\"#DejaVuSans-36\" transform=\"translate(95.410156 0)\"/>\n      </g>\n     </g>\n    </g>\n    <g id=\"ytick_6\">\n     <g id=\"line2d_9\">\n      <path d=\"M 59.024844 97.254273 \nL 282.224844 97.254273 \n\" clip-path=\"url(#p2f6029b08c)\" style=\"fill: none; stroke: #ffffff; stroke-linecap: round\"/>\n     </g>\n     <g id=\"text_10\">\n      <!-- 0.8 -->\n      <g style=\"fill: #262626\" transform=\"translate(32.031406 101.433413) scale(0.11 -0.11)\">\n       <defs>\n        <path id=\"DejaVuSans-38\" d=\"M 2034 2216 \nQ 1584 2216 1326 1975 \nQ 1069 1734 1069 1313 \nQ 1069 891 1326 650 \nQ 1584 409 2034 409 \nQ 2484 409 2743 651 \nQ 3003 894 3003 1313 \nQ 3003 1734 2745 1975 \nQ 2488 2216 2034 2216 \nz\nM 1403 2484 \nQ 997 2584 770 2862 \nQ 544 3141 544 3541 \nQ 544 4100 942 4425 \nQ 1341 4750 2034 4750 \nQ 2731 4750 3128 4425 \nQ 3525 4100 3525 3541 \nQ 3525 3141 3298 2862 \nQ 3072 2584 2669 2484 \nQ 3125 2378 3379 2068 \nQ 3634 1759 3634 1313 \nQ 3634 634 3220 271 \nQ 2806 -91 2034 -91 \nQ 1263 -91 848 271 \nQ 434 634 434 1313 \nQ 434 1759 690 2068 \nQ 947 2378 1403 2484 \nz\nM 1172 3481 \nQ 1172 3119 1398 2916 \nQ 1625 2713 2034 2713 \nQ 2441 2713 2670 2916 \nQ 2900 3119 2900 3481 \nQ 2900 3844 2670 4047 \nQ 2441 4250 2034 4250 \nQ 1625 4250 1398 4047 \nQ 1172 3844 1172 3481 \nz\n\" transform=\"scale(0.015625)\"/>\n       </defs>\n       <use xlink:href=\"#DejaVuSans-30\"/>\n       <use xlink:href=\"#DejaVuSans-2e\" transform=\"translate(63.623047 0)\"/>\n       <use xlink:href=\"#DejaVuSans-38\" transform=\"translate(95.410156 0)\"/>\n      </g>\n     </g>\n    </g>\n    <g id=\"ytick_7\">\n     <g id=\"line2d_10\">\n      <path d=\"M 59.024844 69.773837 \nL 282.224844 69.773837 \n\" clip-path=\"url(#p2f6029b08c)\" style=\"fill: none; stroke: #ffffff; stroke-linecap: round\"/>\n     </g>\n     <g id=\"text_11\">\n      <!-- 1.0 -->\n      <g style=\"fill: #262626\" transform=\"translate(32.031406 73.952978) scale(0.11 -0.11)\">\n       <use xlink:href=\"#DejaVuSans-31\"/>\n       <use xlink:href=\"#DejaVuSans-2e\" transform=\"translate(63.623047 0)\"/>\n       <use xlink:href=\"#DejaVuSans-30\" transform=\"translate(95.410156 0)\"/>\n      </g>\n     </g>\n    </g>\n    <g id=\"ytick_8\">\n     <g id=\"line2d_11\">\n      <path d=\"M 59.024844 42.293402 \nL 282.224844 42.293402 \n\" clip-path=\"url(#p2f6029b08c)\" style=\"fill: none; stroke: #ffffff; stroke-linecap: round\"/>\n     </g>\n     <g id=\"text_12\">\n      <!-- 1.2 -->\n      <g style=\"fill: #262626\" transform=\"translate(32.031406 46.472542) scale(0.11 -0.11)\">\n       <use xlink:href=\"#DejaVuSans-31\"/>\n       <use xlink:href=\"#DejaVuSans-2e\" transform=\"translate(63.623047 0)\"/>\n       <use xlink:href=\"#DejaVuSans-32\" transform=\"translate(95.410156 0)\"/>\n      </g>\n     </g>\n    </g>\n    <g id=\"text_13\">\n     <!-- $x_2$ -->\n     <g style=\"fill: #262626\" transform=\"translate(16.318125 139.618125) rotate(-90) scale(0.12 -0.12)\">\n      <use xlink:href=\"#DejaVuSans-Oblique-78\" transform=\"translate(0 0.3125)\"/>\n      <use xlink:href=\"#DejaVuSans-32\" transform=\"translate(59.179688 -16.09375) scale(0.7)\"/>\n     </g>\n    </g>\n   </g>\n   <g id=\"PathCollection_1\">\n    <defs>\n     <path id=\"mec809ecc08\" d=\"M 0 3 \nC 0.795609 3 1.55874 2.683901 2.12132 2.12132 \nC 2.683901 1.55874 3 0.795609 3 0 \nC 3 -0.795609 2.683901 -1.55874 2.12132 -2.12132 \nC 1.55874 -2.683901 0.795609 -3 0 -3 \nC -0.795609 -3 -1.55874 -2.683901 -2.12132 -2.12132 \nC -2.683901 -1.55874 -3 -0.795609 -3 0 \nC -3 0.795609 -2.683901 1.55874 -2.12132 2.12132 \nC -1.55874 2.683901 -0.795609 3 0 3 \nz\n\" style=\"stroke: #333333\"/>\n    </defs>\n    <g clip-path=\"url(#p2f6029b08c)\">\n     <use xlink:href=\"#mec809ecc08\" x=\"102.473492\" y=\"216.991358\" style=\"fill: #4c72b0; stroke: #333333\"/>\n     <use xlink:href=\"#mec809ecc08\" x=\"81.531253\" y=\"198.154825\" style=\"fill: #4c72b0; stroke: #333333\"/>\n     <use xlink:href=\"#mec809ecc08\" x=\"114.684678\" y=\"218.452369\" style=\"fill: #4c72b0; stroke: #333333\"/>\n     <use xlink:href=\"#mec809ecc08\" x=\"111.930435\" y=\"201.504315\" style=\"fill: #4c72b0; stroke: #333333\"/>\n     <use xlink:href=\"#mec809ecc08\" x=\"235.961113\" y=\"80.130332\" style=\"fill: #4c72b0; stroke: #333333\"/>\n     <use xlink:href=\"#mec809ecc08\" x=\"243.326835\" y=\"58.408153\" style=\"fill: #4c72b0; stroke: #333333\"/>\n     <use xlink:href=\"#mec809ecc08\" x=\"239.606599\" y=\"49.801958\" style=\"fill: #4c72b0; stroke: #333333\"/>\n     <use xlink:href=\"#mec809ecc08\" x=\"235.689266\" y=\"32.398125\" style=\"fill: #4c72b0; stroke: #333333\"/>\n     <use xlink:href=\"#mec809ecc08\" x=\"248.250356\" y=\"81.551371\" style=\"fill: #4c72b0; stroke: #333333\"/>\n     <use xlink:href=\"#mec809ecc08\" x=\"83.230065\" y=\"200.546739\" style=\"fill: #4c72b0; stroke: #333333\"/>\n     <use xlink:href=\"#mec809ecc08\" x=\"236.270449\" y=\"59.963315\" style=\"fill: #4c72b0; stroke: #333333\"/>\n     <use xlink:href=\"#mec809ecc08\" x=\"92.039062\" y=\"195.408909\" style=\"fill: #4c72b0; stroke: #333333\"/>\n     <use xlink:href=\"#mec809ecc08\" x=\"101.359224\" y=\"224.292737\" style=\"fill: #4c72b0; stroke: #333333\"/>\n     <use xlink:href=\"#mec809ecc08\" x=\"241.866478\" y=\"64.479487\" style=\"fill: #4c72b0; stroke: #333333\"/>\n     <use xlink:href=\"#mec809ecc08\" x=\"226.953301\" y=\"67.66162\" style=\"fill: #4c72b0; stroke: #333333\"/>\n     <use xlink:href=\"#mec809ecc08\" x=\"244.470986\" y=\"62.068538\" style=\"fill: #4c72b0; stroke: #333333\"/>\n     <use xlink:href=\"#mec809ecc08\" x=\"106.393072\" y=\"191.573095\" style=\"fill: #4c72b0; stroke: #333333\"/>\n     <use xlink:href=\"#mec809ecc08\" x=\"111.798177\" y=\"198.225757\" style=\"fill: #4c72b0; stroke: #333333\"/>\n     <use xlink:href=\"#mec809ecc08\" x=\"93.890735\" y=\"196.747613\" style=\"fill: #4c72b0; stroke: #333333\"/>\n     <use xlink:href=\"#mec809ecc08\" x=\"272.079389\" y=\"95.430466\" style=\"fill: #4c72b0; stroke: #333333\"/>\n     <use xlink:href=\"#mec809ecc08\" x=\"249.105227\" y=\"91.932902\" style=\"fill: #4c72b0; stroke: #333333\"/>\n     <use xlink:href=\"#mec809ecc08\" x=\"229.331339\" y=\"60.436015\" style=\"fill: #4c72b0; stroke: #333333\"/>\n     <use xlink:href=\"#mec809ecc08\" x=\"69.767078\" y=\"204.614092\" style=\"fill: #4c72b0; stroke: #333333\"/>\n     <use xlink:href=\"#mec809ecc08\" x=\"228.241923\" y=\"71.350342\" style=\"fill: #4c72b0; stroke: #333333\"/>\n     <use xlink:href=\"#mec809ecc08\" x=\"246.547744\" y=\"57.878174\" style=\"fill: #4c72b0; stroke: #333333\"/>\n     <use xlink:href=\"#mec809ecc08\" x=\"222.488843\" y=\"74.369957\" style=\"fill: #4c72b0; stroke: #333333\"/>\n     <use xlink:href=\"#mec809ecc08\" x=\"232.722418\" y=\"78.750727\" style=\"fill: #4c72b0; stroke: #333333\"/>\n     <use xlink:href=\"#mec809ecc08\" x=\"264.330969\" y=\"64.209305\" style=\"fill: #4c72b0; stroke: #333333\"/>\n     <use xlink:href=\"#mec809ecc08\" x=\"217.987207\" y=\"76.427319\" style=\"fill: #4c72b0; stroke: #333333\"/>\n     <use xlink:href=\"#mec809ecc08\" x=\"257.297305\" y=\"79.497367\" style=\"fill: #4c72b0; stroke: #333333\"/>\n     <use xlink:href=\"#mec809ecc08\" x=\"245.684766\" y=\"59.130199\" style=\"fill: #4c72b0; stroke: #333333\"/>\n     <use xlink:href=\"#mec809ecc08\" x=\"235.859815\" y=\"86.918651\" style=\"fill: #4c72b0; stroke: #333333\"/>\n     <use xlink:href=\"#mec809ecc08\" x=\"241.024708\" y=\"60.676025\" style=\"fill: #4c72b0; stroke: #333333\"/>\n     <use xlink:href=\"#mec809ecc08\" x=\"128.432482\" y=\"233.998125\" style=\"fill: #4c72b0; stroke: #333333\"/>\n     <use xlink:href=\"#mec809ecc08\" x=\"96.197242\" y=\"199.092408\" style=\"fill: #4c72b0; stroke: #333333\"/>\n     <use xlink:href=\"#mec809ecc08\" x=\"102.303053\" y=\"215.732042\" style=\"fill: #4c72b0; stroke: #333333\"/>\n     <use xlink:href=\"#mec809ecc08\" x=\"95.402413\" y=\"213.949955\" style=\"fill: #4c72b0; stroke: #333333\"/>\n     <use xlink:href=\"#mec809ecc08\" x=\"244.460087\" y=\"79.294563\" style=\"fill: #4c72b0; stroke: #333333\"/>\n     <use xlink:href=\"#mec809ecc08\" x=\"109.806916\" y=\"198.524777\" style=\"fill: #4c72b0; stroke: #333333\"/>\n     <use xlink:href=\"#mec809ecc08\" x=\"108.881846\" y=\"198.789394\" style=\"fill: #4c72b0; stroke: #333333\"/>\n     <use xlink:href=\"#mec809ecc08\" x=\"98.043805\" y=\"205.563911\" style=\"fill: #4c72b0; stroke: #333333\"/>\n     <use xlink:href=\"#mec809ecc08\" x=\"109.984037\" y=\"195.998214\" style=\"fill: #4c72b0; stroke: #333333\"/>\n     <use xlink:href=\"#mec809ecc08\" x=\"257.841436\" y=\"69.485245\" style=\"fill: #4c72b0; stroke: #333333\"/>\n     <use xlink:href=\"#mec809ecc08\" x=\"255.762307\" y=\"58.896216\" style=\"fill: #4c72b0; stroke: #333333\"/>\n     <use xlink:href=\"#mec809ecc08\" x=\"107.144055\" y=\"198.54241\" style=\"fill: #4c72b0; stroke: #333333\"/>\n     <use xlink:href=\"#mec809ecc08\" x=\"98.165911\" y=\"219.504485\" style=\"fill: #4c72b0; stroke: #333333\"/>\n     <use xlink:href=\"#mec809ecc08\" x=\"99.408179\" y=\"216.480364\" style=\"fill: #4c72b0; stroke: #333333\"/>\n     <use xlink:href=\"#mec809ecc08\" x=\"86.692211\" y=\"211.591926\" style=\"fill: #4c72b0; stroke: #333333\"/>\n     <use xlink:href=\"#mec809ecc08\" x=\"101.794792\" y=\"214.141524\" style=\"fill: #4c72b0; stroke: #333333\"/>\n     <use xlink:href=\"#mec809ecc08\" x=\"91.693076\" y=\"203.987598\" style=\"fill: #4c72b0; stroke: #333333\"/>\n     <use xlink:href=\"#mec809ecc08\" x=\"229.28703\" y=\"72.706648\" style=\"fill: #4c72b0; stroke: #333333\"/>\n     <use xlink:href=\"#mec809ecc08\" x=\"102.725117\" y=\"186.904299\" style=\"fill: #4c72b0; stroke: #333333\"/>\n     <use xlink:href=\"#mec809ecc08\" x=\"98.070405\" y=\"220.950986\" style=\"fill: #4c72b0; stroke: #333333\"/>\n     <use xlink:href=\"#mec809ecc08\" x=\"243.976217\" y=\"81.140168\" style=\"fill: #4c72b0; stroke: #333333\"/>\n     <use xlink:href=\"#mec809ecc08\" x=\"96.804258\" y=\"201.656408\" style=\"fill: #4c72b0; stroke: #333333\"/>\n     <use xlink:href=\"#mec809ecc08\" x=\"108.075554\" y=\"212.688871\" style=\"fill: #4c72b0; stroke: #333333\"/>\n     <use xlink:href=\"#mec809ecc08\" x=\"101.500291\" y=\"207.002992\" style=\"fill: #4c72b0; stroke: #333333\"/>\n     <use xlink:href=\"#mec809ecc08\" x=\"118.812076\" y=\"193.995425\" style=\"fill: #4c72b0; stroke: #333333\"/>\n     <use xlink:href=\"#mec809ecc08\" x=\"269.801212\" y=\"80.317363\" style=\"fill: #4c72b0; stroke: #333333\"/>\n     <use xlink:href=\"#mec809ecc08\" x=\"251.730254\" y=\"67.254685\" style=\"fill: #4c72b0; stroke: #333333\"/>\n     <use xlink:href=\"#mec809ecc08\" x=\"86.491523\" y=\"215.4118\" style=\"fill: #4c72b0; stroke: #333333\"/>\n     <use xlink:href=\"#mec809ecc08\" x=\"209.458287\" y=\"76.997829\" style=\"fill: #4c72b0; stroke: #333333\"/>\n     <use xlink:href=\"#mec809ecc08\" x=\"228.712978\" y=\"67.707401\" style=\"fill: #4c72b0; stroke: #333333\"/>\n     <use xlink:href=\"#mec809ecc08\" x=\"244.24481\" y=\"43.994844\" style=\"fill: #4c72b0; stroke: #333333\"/>\n     <use xlink:href=\"#mec809ecc08\" x=\"252.832157\" y=\"77.700621\" style=\"fill: #4c72b0; stroke: #333333\"/>\n     <use xlink:href=\"#mec809ecc08\" x=\"96.722715\" y=\"190.168149\" style=\"fill: #4c72b0; stroke: #333333\"/>\n     <use xlink:href=\"#mec809ecc08\" x=\"75.843797\" y=\"215.411558\" style=\"fill: #4c72b0; stroke: #333333\"/>\n     <use xlink:href=\"#mec809ecc08\" x=\"83.276228\" y=\"209.13234\" style=\"fill: #4c72b0; stroke: #333333\"/>\n     <use xlink:href=\"#mec809ecc08\" x=\"103.027129\" y=\"217.460382\" style=\"fill: #4c72b0; stroke: #333333\"/>\n     <use xlink:href=\"#mec809ecc08\" x=\"256.061207\" y=\"68.846112\" style=\"fill: #4c72b0; stroke: #333333\"/>\n     <use xlink:href=\"#mec809ecc08\" x=\"127.412645\" y=\"183.057249\" style=\"fill: #4c72b0; stroke: #333333\"/>\n     <use xlink:href=\"#mec809ecc08\" x=\"235.910657\" y=\"56.424237\" style=\"fill: #4c72b0; stroke: #333333\"/>\n     <use xlink:href=\"#mec809ecc08\" x=\"248.528417\" y=\"50.968547\" style=\"fill: #4c72b0; stroke: #333333\"/>\n     <use xlink:href=\"#mec809ecc08\" x=\"235.622244\" y=\"59.914651\" style=\"fill: #4c72b0; stroke: #333333\"/>\n     <use xlink:href=\"#mec809ecc08\" x=\"74.306614\" y=\"207.939252\" style=\"fill: #4c72b0; stroke: #333333\"/>\n     <use xlink:href=\"#mec809ecc08\" x=\"69.170298\" y=\"208.400543\" style=\"fill: #4c72b0; stroke: #333333\"/>\n     <use xlink:href=\"#mec809ecc08\" x=\"244.595292\" y=\"82.687993\" style=\"fill: #4c72b0; stroke: #333333\"/>\n     <use xlink:href=\"#mec809ecc08\" x=\"84.431631\" y=\"200.250305\" style=\"fill: #4c72b0; stroke: #333333\"/>\n     <use xlink:href=\"#mec809ecc08\" x=\"231.61203\" y=\"86.232943\" style=\"fill: #4c72b0; stroke: #333333\"/>\n     <use xlink:href=\"#mec809ecc08\" x=\"267.14238\" y=\"69.289312\" style=\"fill: #4c72b0; stroke: #333333\"/>\n     <use xlink:href=\"#mec809ecc08\" x=\"90.854147\" y=\"215.087882\" style=\"fill: #4c72b0; stroke: #333333\"/>\n     <use xlink:href=\"#mec809ecc08\" x=\"262.631098\" y=\"73.195645\" style=\"fill: #4c72b0; stroke: #333333\"/>\n     <use xlink:href=\"#mec809ecc08\" x=\"247.557481\" y=\"65.497185\" style=\"fill: #4c72b0; stroke: #333333\"/>\n     <use xlink:href=\"#mec809ecc08\" x=\"141.776921\" y=\"191.792812\" style=\"fill: #4c72b0; stroke: #333333\"/>\n     <use xlink:href=\"#mec809ecc08\" x=\"237.618441\" y=\"82.903172\" style=\"fill: #4c72b0; stroke: #333333\"/>\n     <use xlink:href=\"#mec809ecc08\" x=\"75.674232\" y=\"204.38038\" style=\"fill: #4c72b0; stroke: #333333\"/>\n     <use xlink:href=\"#mec809ecc08\" x=\"230.301022\" y=\"84.634538\" style=\"fill: #4c72b0; stroke: #333333\"/>\n     <use xlink:href=\"#mec809ecc08\" x=\"122.141642\" y=\"195.062092\" style=\"fill: #4c72b0; stroke: #333333\"/>\n     <use xlink:href=\"#mec809ecc08\" x=\"239.310676\" y=\"49.439084\" style=\"fill: #4c72b0; stroke: #333333\"/>\n     <use xlink:href=\"#mec809ecc08\" x=\"83.704763\" y=\"209.791309\" style=\"fill: #4c72b0; stroke: #333333\"/>\n     <use xlink:href=\"#mec809ecc08\" x=\"240.107725\" y=\"81.191273\" style=\"fill: #4c72b0; stroke: #333333\"/>\n     <use xlink:href=\"#mec809ecc08\" x=\"102.15442\" y=\"207.866297\" style=\"fill: #4c72b0; stroke: #333333\"/>\n     <use xlink:href=\"#mec809ecc08\" x=\"105.405857\" y=\"220.607836\" style=\"fill: #4c72b0; stroke: #333333\"/>\n     <use xlink:href=\"#mec809ecc08\" x=\"240.824583\" y=\"59.449618\" style=\"fill: #4c72b0; stroke: #333333\"/>\n     <use xlink:href=\"#mec809ecc08\" x=\"74.78598\" y=\"199.710127\" style=\"fill: #4c72b0; stroke: #333333\"/>\n     <use xlink:href=\"#mec809ecc08\" x=\"230.074568\" y=\"61.933685\" style=\"fill: #4c72b0; stroke: #333333\"/>\n     <use xlink:href=\"#mec809ecc08\" x=\"228.654761\" y=\"94.573313\" style=\"fill: #4c72b0; stroke: #333333\"/>\n     <use xlink:href=\"#mec809ecc08\" x=\"238.490871\" y=\"86.413463\" style=\"fill: #4c72b0; stroke: #333333\"/>\n     <use xlink:href=\"#mec809ecc08\" x=\"112.535922\" y=\"215.102634\" style=\"fill: #4c72b0; stroke: #333333\"/>\n     <use xlink:href=\"#mec809ecc08\" x=\"110.129012\" y=\"222.698433\" style=\"fill: #4c72b0; stroke: #333333\"/>\n     <use xlink:href=\"#mec809ecc08\" x=\"105.813408\" y=\"187.368548\" style=\"fill: #4c72b0; stroke: #333333\"/>\n     <use xlink:href=\"#mec809ecc08\" x=\"204.552098\" y=\"80.723348\" style=\"fill: #4c72b0; stroke: #333333\"/>\n     <use xlink:href=\"#mec809ecc08\" x=\"244.659455\" y=\"78.072725\" style=\"fill: #4c72b0; stroke: #333333\"/>\n    </g>\n   </g>\n   <g id=\"PathCollection_2\">\n    <defs>\n     <path id=\"mb4f10b1524\" d=\"M 0 3 \nC 0.795609 3 1.55874 2.683901 2.12132 2.12132 \nC 2.683901 1.55874 3 0.795609 3 0 \nC 3 -0.795609 2.683901 -1.55874 2.12132 -2.12132 \nC 1.55874 -2.683901 0.795609 -3 0 -3 \nC -0.795609 -3 -1.55874 -2.683901 -2.12132 -2.12132 \nC -2.683901 -1.55874 -3 -0.795609 -3 0 \nC -3 0.795609 -2.683901 1.55874 -2.12132 2.12132 \nC -1.55874 2.683901 -0.795609 3 0 3 \nz\n\" style=\"stroke: #333333\"/>\n    </defs>\n    <g clip-path=\"url(#p2f6029b08c)\">\n     <use xlink:href=\"#mb4f10b1524\" x=\"88.744602\" y=\"66.582613\" style=\"fill: #dd8452; stroke: #333333\"/>\n     <use xlink:href=\"#mb4f10b1524\" x=\"124.661874\" y=\"63.263267\" style=\"fill: #dd8452; stroke: #333333\"/>\n     <use xlink:href=\"#mb4f10b1524\" x=\"84.58745\" y=\"58.95913\" style=\"fill: #dd8452; stroke: #333333\"/>\n     <use xlink:href=\"#mb4f10b1524\" x=\"251.021149\" y=\"181.113666\" style=\"fill: #dd8452; stroke: #333333\"/>\n     <use xlink:href=\"#mb4f10b1524\" x=\"226.873488\" y=\"218.385425\" style=\"fill: #dd8452; stroke: #333333\"/>\n     <use xlink:href=\"#mb4f10b1524\" x=\"238.335375\" y=\"202.488512\" style=\"fill: #dd8452; stroke: #333333\"/>\n     <use xlink:href=\"#mb4f10b1524\" x=\"246.099798\" y=\"208.1767\" style=\"fill: #dd8452; stroke: #333333\"/>\n     <use xlink:href=\"#mb4f10b1524\" x=\"227.476216\" y=\"227.990346\" style=\"fill: #dd8452; stroke: #333333\"/>\n     <use xlink:href=\"#mb4f10b1524\" x=\"240.244393\" y=\"222.880676\" style=\"fill: #dd8452; stroke: #333333\"/>\n     <use xlink:href=\"#mb4f10b1524\" x=\"113.618865\" y=\"55.294371\" style=\"fill: #dd8452; stroke: #333333\"/>\n     <use xlink:href=\"#mb4f10b1524\" x=\"78.901919\" y=\"82.659755\" style=\"fill: #dd8452; stroke: #333333\"/>\n     <use xlink:href=\"#mb4f10b1524\" x=\"105.605042\" y=\"62.714304\" style=\"fill: #dd8452; stroke: #333333\"/>\n     <use xlink:href=\"#mb4f10b1524\" x=\"246.689676\" y=\"154.238644\" style=\"fill: #dd8452; stroke: #333333\"/>\n     <use xlink:href=\"#mb4f10b1524\" x=\"87.435332\" y=\"73.027779\" style=\"fill: #dd8452; stroke: #333333\"/>\n     <use xlink:href=\"#mb4f10b1524\" x=\"232.575432\" y=\"206.051046\" style=\"fill: #dd8452; stroke: #333333\"/>\n     <use xlink:href=\"#mb4f10b1524\" x=\"91.680469\" y=\"54.811418\" style=\"fill: #dd8452; stroke: #333333\"/>\n     <use xlink:href=\"#mb4f10b1524\" x=\"99.245585\" y=\"84.582287\" style=\"fill: #dd8452; stroke: #333333\"/>\n     <use xlink:href=\"#mb4f10b1524\" x=\"88.034356\" y=\"66.799643\" style=\"fill: #dd8452; stroke: #333333\"/>\n     <use xlink:href=\"#mb4f10b1524\" x=\"98.981642\" y=\"78.726968\" style=\"fill: #dd8452; stroke: #333333\"/>\n     <use xlink:href=\"#mb4f10b1524\" x=\"128.586414\" y=\"61.063649\" style=\"fill: #dd8452; stroke: #333333\"/>\n     <use xlink:href=\"#mb4f10b1524\" x=\"230.086383\" y=\"195.463394\" style=\"fill: #dd8452; stroke: #333333\"/>\n     <use xlink:href=\"#mb4f10b1524\" x=\"221.634047\" y=\"194.564391\" style=\"fill: #dd8452; stroke: #333333\"/>\n     <use xlink:href=\"#mb4f10b1524\" x=\"128.279021\" y=\"55.587534\" style=\"fill: #dd8452; stroke: #333333\"/>\n     <use xlink:href=\"#mb4f10b1524\" x=\"226.345612\" y=\"207.993906\" style=\"fill: #dd8452; stroke: #333333\"/>\n     <use xlink:href=\"#mb4f10b1524\" x=\"193.693914\" y=\"221.251324\" style=\"fill: #dd8452; stroke: #333333\"/>\n     <use xlink:href=\"#mb4f10b1524\" x=\"121.369482\" y=\"89.42429\" style=\"fill: #dd8452; stroke: #333333\"/>\n     <use xlink:href=\"#mb4f10b1524\" x=\"92.13035\" y=\"67.977435\" style=\"fill: #dd8452; stroke: #333333\"/>\n     <use xlink:href=\"#mb4f10b1524\" x=\"259.757291\" y=\"226.905074\" style=\"fill: #dd8452; stroke: #333333\"/>\n     <use xlink:href=\"#mb4f10b1524\" x=\"255.833584\" y=\"207.03541\" style=\"fill: #dd8452; stroke: #333333\"/>\n     <use xlink:href=\"#mb4f10b1524\" x=\"225.575598\" y=\"200.826612\" style=\"fill: #dd8452; stroke: #333333\"/>\n     <use xlink:href=\"#mb4f10b1524\" x=\"101.147117\" y=\"78.020949\" style=\"fill: #dd8452; stroke: #333333\"/>\n     <use xlink:href=\"#mb4f10b1524\" x=\"240.407954\" y=\"212.470307\" style=\"fill: #dd8452; stroke: #333333\"/>\n     <use xlink:href=\"#mb4f10b1524\" x=\"261.799386\" y=\"224.183869\" style=\"fill: #dd8452; stroke: #333333\"/>\n     <use xlink:href=\"#mb4f10b1524\" x=\"231.108137\" y=\"195.502297\" style=\"fill: #dd8452; stroke: #333333\"/>\n     <use xlink:href=\"#mb4f10b1524\" x=\"252.115114\" y=\"202.953652\" style=\"fill: #dd8452; stroke: #333333\"/>\n     <use xlink:href=\"#mb4f10b1524\" x=\"86.642862\" y=\"77.470848\" style=\"fill: #dd8452; stroke: #333333\"/>\n     <use xlink:href=\"#mb4f10b1524\" x=\"116.364561\" y=\"77.902156\" style=\"fill: #dd8452; stroke: #333333\"/>\n     <use xlink:href=\"#mb4f10b1524\" x=\"106.057388\" y=\"72.552008\" style=\"fill: #dd8452; stroke: #333333\"/>\n     <use xlink:href=\"#mb4f10b1524\" x=\"95.267551\" y=\"54.676401\" style=\"fill: #dd8452; stroke: #333333\"/>\n     <use xlink:href=\"#mb4f10b1524\" x=\"249.044462\" y=\"211.439147\" style=\"fill: #dd8452; stroke: #333333\"/>\n     <use xlink:href=\"#mb4f10b1524\" x=\"243.996635\" y=\"208.964208\" style=\"fill: #dd8452; stroke: #333333\"/>\n     <use xlink:href=\"#mb4f10b1524\" x=\"99.707157\" y=\"61.596248\" style=\"fill: #dd8452; stroke: #333333\"/>\n     <use xlink:href=\"#mb4f10b1524\" x=\"227.879332\" y=\"178.426158\" style=\"fill: #dd8452; stroke: #333333\"/>\n     <use xlink:href=\"#mb4f10b1524\" x=\"84.145352\" y=\"86.457049\" style=\"fill: #dd8452; stroke: #333333\"/>\n     <use xlink:href=\"#mb4f10b1524\" x=\"253.180588\" y=\"209.196615\" style=\"fill: #dd8452; stroke: #333333\"/>\n     <use xlink:href=\"#mb4f10b1524\" x=\"245.24898\" y=\"214.921713\" style=\"fill: #dd8452; stroke: #333333\"/>\n     <use xlink:href=\"#mb4f10b1524\" x=\"86.738442\" y=\"66.425516\" style=\"fill: #dd8452; stroke: #333333\"/>\n     <use xlink:href=\"#mb4f10b1524\" x=\"77.908473\" y=\"89.112693\" style=\"fill: #dd8452; stroke: #333333\"/>\n     <use xlink:href=\"#mb4f10b1524\" x=\"110.43894\" y=\"71.971425\" style=\"fill: #dd8452; stroke: #333333\"/>\n     <use xlink:href=\"#mb4f10b1524\" x=\"239.161966\" y=\"211.142247\" style=\"fill: #dd8452; stroke: #333333\"/>\n     <use xlink:href=\"#mb4f10b1524\" x=\"246.750324\" y=\"186.115848\" style=\"fill: #dd8452; stroke: #333333\"/>\n     <use xlink:href=\"#mb4f10b1524\" x=\"240.801222\" y=\"217.797338\" style=\"fill: #dd8452; stroke: #333333\"/>\n     <use xlink:href=\"#mb4f10b1524\" x=\"239.768965\" y=\"200.333409\" style=\"fill: #dd8452; stroke: #333333\"/>\n     <use xlink:href=\"#mb4f10b1524\" x=\"129.233412\" y=\"80.880027\" style=\"fill: #dd8452; stroke: #333333\"/>\n     <use xlink:href=\"#mb4f10b1524\" x=\"85.663459\" y=\"63.014756\" style=\"fill: #dd8452; stroke: #333333\"/>\n     <use xlink:href=\"#mb4f10b1524\" x=\"220.796717\" y=\"182.011372\" style=\"fill: #dd8452; stroke: #333333\"/>\n     <use xlink:href=\"#mb4f10b1524\" x=\"256.063225\" y=\"213.62259\" style=\"fill: #dd8452; stroke: #333333\"/>\n     <use xlink:href=\"#mb4f10b1524\" x=\"74.169028\" y=\"51.171343\" style=\"fill: #dd8452; stroke: #333333\"/>\n     <use xlink:href=\"#mb4f10b1524\" x=\"239.497143\" y=\"206.530491\" style=\"fill: #dd8452; stroke: #333333\"/>\n     <use xlink:href=\"#mb4f10b1524\" x=\"233.07343\" y=\"198.617921\" style=\"fill: #dd8452; stroke: #333333\"/>\n     <use xlink:href=\"#mb4f10b1524\" x=\"100.035879\" y=\"62.705328\" style=\"fill: #dd8452; stroke: #333333\"/>\n     <use xlink:href=\"#mb4f10b1524\" x=\"249.462942\" y=\"222.628842\" style=\"fill: #dd8452; stroke: #333333\"/>\n     <use xlink:href=\"#mb4f10b1524\" x=\"76.694727\" y=\"52.218279\" style=\"fill: #dd8452; stroke: #333333\"/>\n     <use xlink:href=\"#mb4f10b1524\" x=\"120.223039\" y=\"68.184441\" style=\"fill: #dd8452; stroke: #333333\"/>\n     <use xlink:href=\"#mb4f10b1524\" x=\"84.725124\" y=\"60.347335\" style=\"fill: #dd8452; stroke: #333333\"/>\n     <use xlink:href=\"#mb4f10b1524\" x=\"113.271419\" y=\"93.939299\" style=\"fill: #dd8452; stroke: #333333\"/>\n     <use xlink:href=\"#mb4f10b1524\" x=\"81.644755\" y=\"97.793332\" style=\"fill: #dd8452; stroke: #333333\"/>\n     <use xlink:href=\"#mb4f10b1524\" x=\"260.619075\" y=\"206.157936\" style=\"fill: #dd8452; stroke: #333333\"/>\n     <use xlink:href=\"#mb4f10b1524\" x=\"262.400398\" y=\"226.138909\" style=\"fill: #dd8452; stroke: #333333\"/>\n     <use xlink:href=\"#mb4f10b1524\" x=\"103.757261\" y=\"70.223073\" style=\"fill: #dd8452; stroke: #333333\"/>\n     <use xlink:href=\"#mb4f10b1524\" x=\"79.934655\" y=\"60.572391\" style=\"fill: #dd8452; stroke: #333333\"/>\n     <use xlink:href=\"#mb4f10b1524\" x=\"232.173291\" y=\"221.729839\" style=\"fill: #dd8452; stroke: #333333\"/>\n     <use xlink:href=\"#mb4f10b1524\" x=\"97.45439\" y=\"56.649981\" style=\"fill: #dd8452; stroke: #333333\"/>\n     <use xlink:href=\"#mb4f10b1524\" x=\"90.857583\" y=\"80.668083\" style=\"fill: #dd8452; stroke: #333333\"/>\n     <use xlink:href=\"#mb4f10b1524\" x=\"237.913128\" y=\"221.400469\" style=\"fill: #dd8452; stroke: #333333\"/>\n     <use xlink:href=\"#mb4f10b1524\" x=\"229.551115\" y=\"204.235884\" style=\"fill: #dd8452; stroke: #333333\"/>\n     <use xlink:href=\"#mb4f10b1524\" x=\"237.838386\" y=\"210.212185\" style=\"fill: #dd8452; stroke: #333333\"/>\n     <use xlink:href=\"#mb4f10b1524\" x=\"107.003632\" y=\"59.365508\" style=\"fill: #dd8452; stroke: #333333\"/>\n     <use xlink:href=\"#mb4f10b1524\" x=\"94.458142\" y=\"101.402736\" style=\"fill: #dd8452; stroke: #333333\"/>\n     <use xlink:href=\"#mb4f10b1524\" x=\"218.046165\" y=\"188.394864\" style=\"fill: #dd8452; stroke: #333333\"/>\n     <use xlink:href=\"#mb4f10b1524\" x=\"228.752224\" y=\"226.71809\" style=\"fill: #dd8452; stroke: #333333\"/>\n     <use xlink:href=\"#mb4f10b1524\" x=\"99.430241\" y=\"81.608069\" style=\"fill: #dd8452; stroke: #333333\"/>\n     <use xlink:href=\"#mb4f10b1524\" x=\"119.827609\" y=\"62.369088\" style=\"fill: #dd8452; stroke: #333333\"/>\n     <use xlink:href=\"#mb4f10b1524\" x=\"85.985081\" y=\"88.773807\" style=\"fill: #dd8452; stroke: #333333\"/>\n     <use xlink:href=\"#mb4f10b1524\" x=\"252.490084\" y=\"180.940214\" style=\"fill: #dd8452; stroke: #333333\"/>\n     <use xlink:href=\"#mb4f10b1524\" x=\"219.691543\" y=\"199.440695\" style=\"fill: #dd8452; stroke: #333333\"/>\n     <use xlink:href=\"#mb4f10b1524\" x=\"89.159138\" y=\"76.467048\" style=\"fill: #dd8452; stroke: #333333\"/>\n     <use xlink:href=\"#mb4f10b1524\" x=\"231.065401\" y=\"219.047436\" style=\"fill: #dd8452; stroke: #333333\"/>\n     <use xlink:href=\"#mb4f10b1524\" x=\"236.051975\" y=\"219.646137\" style=\"fill: #dd8452; stroke: #333333\"/>\n     <use xlink:href=\"#mb4f10b1524\" x=\"90.201347\" y=\"59.394599\" style=\"fill: #dd8452; stroke: #333333\"/>\n     <use xlink:href=\"#mb4f10b1524\" x=\"75.3766\" y=\"69.113132\" style=\"fill: #dd8452; stroke: #333333\"/>\n     <use xlink:href=\"#mb4f10b1524\" x=\"243.087439\" y=\"219.601522\" style=\"fill: #dd8452; stroke: #333333\"/>\n     <use xlink:href=\"#mb4f10b1524\" x=\"248.432703\" y=\"230.005661\" style=\"fill: #dd8452; stroke: #333333\"/>\n     <use xlink:href=\"#mb4f10b1524\" x=\"230.22676\" y=\"206.524746\" style=\"fill: #dd8452; stroke: #333333\"/>\n     <use xlink:href=\"#mb4f10b1524\" x=\"86.199598\" y=\"75.057713\" style=\"fill: #dd8452; stroke: #333333\"/>\n     <use xlink:href=\"#mb4f10b1524\" x=\"106.480285\" y=\"72.563728\" style=\"fill: #dd8452; stroke: #333333\"/>\n     <use xlink:href=\"#mb4f10b1524\" x=\"240.64481\" y=\"209.315054\" style=\"fill: #dd8452; stroke: #333333\"/>\n    </g>\n   </g>\n   <g id=\"patch_3\">\n    <path d=\"M 59.024844 244.078125 \nL 59.024844 22.318125 \n\" style=\"fill: none; stroke: #ffffff; stroke-width: 1.25; stroke-linejoin: miter; stroke-linecap: square\"/>\n   </g>\n   <g id=\"patch_4\">\n    <path d=\"M 282.224844 244.078125 \nL 282.224844 22.318125 \n\" style=\"fill: none; stroke: #ffffff; stroke-width: 1.25; stroke-linejoin: miter; stroke-linecap: square\"/>\n   </g>\n   <g id=\"patch_5\">\n    <path d=\"M 59.024844 244.078125 \nL 282.224844 244.078125 \n\" style=\"fill: none; stroke: #ffffff; stroke-width: 1.25; stroke-linejoin: miter; stroke-linecap: square\"/>\n   </g>\n   <g id=\"patch_6\">\n    <path d=\"M 59.024844 22.318125 \nL 282.224844 22.318125 \n\" style=\"fill: none; stroke: #ffffff; stroke-width: 1.25; stroke-linejoin: miter; stroke-linecap: square\"/>\n   </g>\n   <g id=\"text_14\">\n    <!-- Dataset Samples -->\n    <g style=\"fill: #262626\" transform=\"translate(119.598594 16.318125) scale(0.12 -0.12)\">\n     <defs>\n      <path id=\"DejaVuSans-44\" d=\"M 1259 4147 \nL 1259 519 \nL 2022 519 \nQ 2988 519 3436 956 \nQ 3884 1394 3884 2338 \nQ 3884 3275 3436 3711 \nQ 2988 4147 2022 4147 \nL 1259 4147 \nz\nM 628 4666 \nL 1925 4666 \nQ 3281 4666 3915 4102 \nQ 4550 3538 4550 2338 \nQ 4550 1131 3912 565 \nQ 3275 0 1925 0 \nL 628 0 \nL 628 4666 \nz\n\" transform=\"scale(0.015625)\"/>\n      <path id=\"DejaVuSans-61\" d=\"M 2194 1759 \nQ 1497 1759 1228 1600 \nQ 959 1441 959 1056 \nQ 959 750 1161 570 \nQ 1363 391 1709 391 \nQ 2188 391 2477 730 \nQ 2766 1069 2766 1631 \nL 2766 1759 \nL 2194 1759 \nz\nM 3341 1997 \nL 3341 0 \nL 2766 0 \nL 2766 531 \nQ 2569 213 2275 61 \nQ 1981 -91 1556 -91 \nQ 1019 -91 701 211 \nQ 384 513 384 1019 \nQ 384 1609 779 1909 \nQ 1175 2209 1959 2209 \nL 2766 2209 \nL 2766 2266 \nQ 2766 2663 2505 2880 \nQ 2244 3097 1772 3097 \nQ 1472 3097 1187 3025 \nQ 903 2953 641 2809 \nL 641 3341 \nQ 956 3463 1253 3523 \nQ 1550 3584 1831 3584 \nQ 2591 3584 2966 3190 \nQ 3341 2797 3341 1997 \nz\n\" transform=\"scale(0.015625)\"/>\n      <path id=\"DejaVuSans-74\" d=\"M 1172 4494 \nL 1172 3500 \nL 2356 3500 \nL 2356 3053 \nL 1172 3053 \nL 1172 1153 \nQ 1172 725 1289 603 \nQ 1406 481 1766 481 \nL 2356 481 \nL 2356 0 \nL 1766 0 \nQ 1100 0 847 248 \nQ 594 497 594 1153 \nL 594 3053 \nL 172 3053 \nL 172 3500 \nL 594 3500 \nL 594 4494 \nL 1172 4494 \nz\n\" transform=\"scale(0.015625)\"/>\n      <path id=\"DejaVuSans-73\" d=\"M 2834 3397 \nL 2834 2853 \nQ 2591 2978 2328 3040 \nQ 2066 3103 1784 3103 \nQ 1356 3103 1142 2972 \nQ 928 2841 928 2578 \nQ 928 2378 1081 2264 \nQ 1234 2150 1697 2047 \nL 1894 2003 \nQ 2506 1872 2764 1633 \nQ 3022 1394 3022 966 \nQ 3022 478 2636 193 \nQ 2250 -91 1575 -91 \nQ 1294 -91 989 -36 \nQ 684 19 347 128 \nL 347 722 \nQ 666 556 975 473 \nQ 1284 391 1588 391 \nQ 1994 391 2212 530 \nQ 2431 669 2431 922 \nQ 2431 1156 2273 1281 \nQ 2116 1406 1581 1522 \nL 1381 1569 \nQ 847 1681 609 1914 \nQ 372 2147 372 2553 \nQ 372 3047 722 3315 \nQ 1072 3584 1716 3584 \nQ 2034 3584 2315 3537 \nQ 2597 3491 2834 3397 \nz\n\" transform=\"scale(0.015625)\"/>\n      <path id=\"DejaVuSans-65\" d=\"M 3597 1894 \nL 3597 1613 \nL 953 1613 \nQ 991 1019 1311 708 \nQ 1631 397 2203 397 \nQ 2534 397 2845 478 \nQ 3156 559 3463 722 \nL 3463 178 \nQ 3153 47 2828 -22 \nQ 2503 -91 2169 -91 \nQ 1331 -91 842 396 \nQ 353 884 353 1716 \nQ 353 2575 817 3079 \nQ 1281 3584 2069 3584 \nQ 2775 3584 3186 3129 \nQ 3597 2675 3597 1894 \nz\nM 3022 2063 \nQ 3016 2534 2758 2815 \nQ 2500 3097 2075 3097 \nQ 1594 3097 1305 2825 \nQ 1016 2553 972 2059 \nL 3022 2063 \nz\n\" transform=\"scale(0.015625)\"/>\n      <path id=\"DejaVuSans-20\" transform=\"scale(0.015625)\"/>\n      <path id=\"DejaVuSans-53\" d=\"M 3425 4513 \nL 3425 3897 \nQ 3066 4069 2747 4153 \nQ 2428 4238 2131 4238 \nQ 1616 4238 1336 4038 \nQ 1056 3838 1056 3469 \nQ 1056 3159 1242 3001 \nQ 1428 2844 1947 2747 \nL 2328 2669 \nQ 3034 2534 3370 2195 \nQ 3706 1856 3706 1288 \nQ 3706 609 3251 259 \nQ 2797 -91 1919 -91 \nQ 1588 -91 1214 -16 \nQ 841 59 441 206 \nL 441 856 \nQ 825 641 1194 531 \nQ 1563 422 1919 422 \nQ 2459 422 2753 634 \nQ 3047 847 3047 1241 \nQ 3047 1584 2836 1778 \nQ 2625 1972 2144 2069 \nL 1759 2144 \nQ 1053 2284 737 2584 \nQ 422 2884 422 3419 \nQ 422 4038 858 4394 \nQ 1294 4750 2059 4750 \nQ 2388 4750 2728 4690 \nQ 3069 4631 3425 4513 \nz\n\" transform=\"scale(0.015625)\"/>\n      <path id=\"DejaVuSans-6d\" d=\"M 3328 2828 \nQ 3544 3216 3844 3400 \nQ 4144 3584 4550 3584 \nQ 5097 3584 5394 3201 \nQ 5691 2819 5691 2113 \nL 5691 0 \nL 5113 0 \nL 5113 2094 \nQ 5113 2597 4934 2840 \nQ 4756 3084 4391 3084 \nQ 3944 3084 3684 2787 \nQ 3425 2491 3425 1978 \nL 3425 0 \nL 2847 0 \nL 2847 2094 \nQ 2847 2600 2669 2842 \nQ 2491 3084 2119 3084 \nQ 1678 3084 1418 2786 \nQ 1159 2488 1159 1978 \nL 1159 0 \nL 581 0 \nL 581 3500 \nL 1159 3500 \nL 1159 2956 \nQ 1356 3278 1631 3431 \nQ 1906 3584 2284 3584 \nQ 2666 3584 2933 3390 \nQ 3200 3197 3328 2828 \nz\n\" transform=\"scale(0.015625)\"/>\n      <path id=\"DejaVuSans-70\" d=\"M 1159 525 \nL 1159 -1331 \nL 581 -1331 \nL 581 3500 \nL 1159 3500 \nL 1159 2969 \nQ 1341 3281 1617 3432 \nQ 1894 3584 2278 3584 \nQ 2916 3584 3314 3078 \nQ 3713 2572 3713 1747 \nQ 3713 922 3314 415 \nQ 2916 -91 2278 -91 \nQ 1894 -91 1617 61 \nQ 1341 213 1159 525 \nz\nM 3116 1747 \nQ 3116 2381 2855 2742 \nQ 2594 3103 2138 3103 \nQ 1681 3103 1420 2742 \nQ 1159 2381 1159 1747 \nQ 1159 1113 1420 752 \nQ 1681 391 2138 391 \nQ 2594 391 2855 752 \nQ 3116 1113 3116 1747 \nz\n\" transform=\"scale(0.015625)\"/>\n      <path id=\"DejaVuSans-6c\" d=\"M 603 4863 \nL 1178 4863 \nL 1178 0 \nL 603 0 \nL 603 4863 \nz\n\" transform=\"scale(0.015625)\"/>\n     </defs>\n     <use xlink:href=\"#DejaVuSans-44\"/>\n     <use xlink:href=\"#DejaVuSans-61\" transform=\"translate(77.001953 0)\"/>\n     <use xlink:href=\"#DejaVuSans-74\" transform=\"translate(138.28125 0)\"/>\n     <use xlink:href=\"#DejaVuSans-61\" transform=\"translate(177.490234 0)\"/>\n     <use xlink:href=\"#DejaVuSans-73\" transform=\"translate(238.769531 0)\"/>\n     <use xlink:href=\"#DejaVuSans-65\" transform=\"translate(290.869141 0)\"/>\n     <use xlink:href=\"#DejaVuSans-74\" transform=\"translate(352.392578 0)\"/>\n     <use xlink:href=\"#DejaVuSans-20\" transform=\"translate(391.601562 0)\"/>\n     <use xlink:href=\"#DejaVuSans-53\" transform=\"translate(423.388672 0)\"/>\n     <use xlink:href=\"#DejaVuSans-61\" transform=\"translate(486.865234 0)\"/>\n     <use xlink:href=\"#DejaVuSans-6d\" transform=\"translate(548.144531 0)\"/>\n     <use xlink:href=\"#DejaVuSans-70\" transform=\"translate(645.556641 0)\"/>\n     <use xlink:href=\"#DejaVuSans-6c\" transform=\"translate(709.033203 0)\"/>\n     <use xlink:href=\"#DejaVuSans-65\" transform=\"translate(736.816406 0)\"/>\n     <use xlink:href=\"#DejaVuSans-73\" transform=\"translate(798.339844 0)\"/>\n    </g>\n   </g>\n   <g id=\"legend_1\">\n    <g id=\"patch_7\">\n     <path d=\"M 199.891562 150.994063 \nL 274.524844 150.994063 \nQ 276.724844 150.994063 276.724844 148.794063 \nL 276.724844 117.602188 \nQ 276.724844 115.402188 274.524844 115.402188 \nL 199.891562 115.402188 \nQ 197.691562 115.402188 197.691562 117.602188 \nL 197.691562 148.794063 \nQ 197.691562 150.994063 199.891562 150.994063 \nz\n\" style=\"fill: #eaeaf2; opacity: 0.8; stroke: #cccccc; stroke-linejoin: miter\"/>\n    </g>\n    <g id=\"PathCollection_3\">\n     <g>\n      <use xlink:href=\"#mec809ecc08\" x=\"213.091562\" y=\"125.272969\" style=\"fill: #4c72b0; stroke: #333333\"/>\n     </g>\n    </g>\n    <g id=\"text_15\">\n     <!-- Class 0 -->\n     <g style=\"fill: #262626\" transform=\"translate(232.891562 128.160469) scale(0.11 -0.11)\">\n      <defs>\n       <path id=\"DejaVuSans-43\" d=\"M 4122 4306 \nL 4122 3641 \nQ 3803 3938 3442 4084 \nQ 3081 4231 2675 4231 \nQ 1875 4231 1450 3742 \nQ 1025 3253 1025 2328 \nQ 1025 1406 1450 917 \nQ 1875 428 2675 428 \nQ 3081 428 3442 575 \nQ 3803 722 4122 1019 \nL 4122 359 \nQ 3791 134 3420 21 \nQ 3050 -91 2638 -91 \nQ 1578 -91 968 557 \nQ 359 1206 359 2328 \nQ 359 3453 968 4101 \nQ 1578 4750 2638 4750 \nQ 3056 4750 3426 4639 \nQ 3797 4528 4122 4306 \nz\n\" transform=\"scale(0.015625)\"/>\n      </defs>\n      <use xlink:href=\"#DejaVuSans-43\"/>\n      <use xlink:href=\"#DejaVuSans-6c\" transform=\"translate(69.824219 0)\"/>\n      <use xlink:href=\"#DejaVuSans-61\" transform=\"translate(97.607422 0)\"/>\n      <use xlink:href=\"#DejaVuSans-73\" transform=\"translate(158.886719 0)\"/>\n      <use xlink:href=\"#DejaVuSans-73\" transform=\"translate(210.986328 0)\"/>\n      <use xlink:href=\"#DejaVuSans-20\" transform=\"translate(263.085938 0)\"/>\n      <use xlink:href=\"#DejaVuSans-30\" transform=\"translate(294.873047 0)\"/>\n     </g>\n    </g>\n    <g id=\"PathCollection_4\">\n     <g>\n      <use xlink:href=\"#mb4f10b1524\" x=\"213.091562\" y=\"141.418906\" style=\"fill: #dd8452; stroke: #333333\"/>\n     </g>\n    </g>\n    <g id=\"text_16\">\n     <!-- class 1 -->\n     <g style=\"fill: #262626\" transform=\"translate(232.891562 144.306406) scale(0.11 -0.11)\">\n      <defs>\n       <path id=\"DejaVuSans-63\" d=\"M 3122 3366 \nL 3122 2828 \nQ 2878 2963 2633 3030 \nQ 2388 3097 2138 3097 \nQ 1578 3097 1268 2742 \nQ 959 2388 959 1747 \nQ 959 1106 1268 751 \nQ 1578 397 2138 397 \nQ 2388 397 2633 464 \nQ 2878 531 3122 666 \nL 3122 134 \nQ 2881 22 2623 -34 \nQ 2366 -91 2075 -91 \nQ 1284 -91 818 406 \nQ 353 903 353 1747 \nQ 353 2603 823 3093 \nQ 1294 3584 2113 3584 \nQ 2378 3584 2631 3529 \nQ 2884 3475 3122 3366 \nz\n\" transform=\"scale(0.015625)\"/>\n      </defs>\n      <use xlink:href=\"#DejaVuSans-63\"/>\n      <use xlink:href=\"#DejaVuSans-6c\" transform=\"translate(54.980469 0)\"/>\n      <use xlink:href=\"#DejaVuSans-61\" transform=\"translate(82.763672 0)\"/>\n      <use xlink:href=\"#DejaVuSans-73\" transform=\"translate(144.042969 0)\"/>\n      <use xlink:href=\"#DejaVuSans-73\" transform=\"translate(196.142578 0)\"/>\n      <use xlink:href=\"#DejaVuSans-20\" transform=\"translate(248.242188 0)\"/>\n      <use xlink:href=\"#DejaVuSans-31\" transform=\"translate(280.029297 0)\"/>\n     </g>\n    </g>\n   </g>\n  </g>\n </g>\n <defs>\n  <clipPath id=\"p2f6029b08c\">\n   <rect x=\"59.024844\" y=\"22.318125\" width=\"223.2\" height=\"221.76\"/>\n  </clipPath>\n </defs>\n</svg>\n",
            "application/pdf": "[encoded data removed]"
          },
          "metadata": {}
        }
      ]
    },
    {
      "cell_type": "markdown",
      "source": [
        "### data loaders"
      ],
      "metadata": {
        "id": "-sztHvNxtDul"
      }
    },
    {
      "cell_type": "code",
      "source": [
        "def numpy_collate(batch):\n",
        "    if isinstance(batch[0], np.ndarray):\n",
        "        return np.stack(batch)\n",
        "    elif isinstance(batch[0], (tuple, list)):\n",
        "        transposed = zip(*batch)\n",
        "        return [numpy_collate(samples) for samples in transposed]\n",
        "    else:\n",
        "        return np.array(batch)\n",
        "\n",
        "data_loader = data.DataLoader(dataset, batch_size=8, shuffle=True, collate_fn=numpy_collate)"
      ],
      "metadata": {
        "id": "1_mMautuW_5C"
      },
      "execution_count": null,
      "outputs": []
    },
    {
      "cell_type": "code",
      "source": [
        "data_inputs, data_labels = next(iter(data_loader))\n",
        "\n",
        "print(f'data inputs: {data_inputs.shape} \\n {data_inputs}')\n",
        "print(f'data labels: {data_labels.shape} \\n {data_labels}')"
      ],
      "metadata": {
        "colab": {
          "base_uri": "https://localhost:8080/"
        },
        "id": "3eFryBI4ttU8",
        "outputId": "6ce2c31b-dfbc-49fb-d9cc-3ac875d6d13c"
      },
      "execution_count": null,
      "outputs": [
        {
          "output_type": "stream",
          "name": "stdout",
          "text": [
            "data inputs: (8, 2) \n",
            " [[-0.16694053  0.05433602]\n",
            " [ 0.9446351   0.8802122 ]\n",
            " [ 0.9300274   0.02139799]\n",
            " [ 0.02809919 -0.06226995]\n",
            " [ 0.09540018  0.06513912]\n",
            " [ 1.0366598   0.906012  ]\n",
            " [-0.13776694  0.9062175 ]\n",
            " [ 0.9992027   1.1479944 ]]\n",
            "data labels: (8,) \n",
            " [0 0 1 0 0 0 1 0]\n"
          ]
        }
      ]
    },
    {
      "cell_type": "markdown",
      "source": [
        "### Optimizers"
      ],
      "metadata": {
        "id": "QFOxbf7SuCXt"
      }
    },
    {
      "cell_type": "code",
      "source": [
        "import optax"
      ],
      "metadata": {
        "id": "_mpONvlauA2Y"
      },
      "execution_count": null,
      "outputs": []
    },
    {
      "cell_type": "code",
      "source": [
        "optimizer = optax.sgd(learning_rate=1e-1)"
      ],
      "metadata": {
        "id": "gx-_PwkbuOiy"
      },
      "execution_count": null,
      "outputs": []
    },
    {
      "cell_type": "code",
      "source": [
        "from flax.training import train_state"
      ],
      "metadata": {
        "id": "ZXA1FqJBucQ4"
      },
      "execution_count": null,
      "outputs": []
    },
    {
      "cell_type": "code",
      "source": [
        "model_state = train_state.TrainState.create(apply_fn=model.apply,\n",
        "                                            params=params,\n",
        "                                            tx=optimizer)"
      ],
      "metadata": {
        "id": "uGqSFRBzufOk"
      },
      "execution_count": null,
      "outputs": []
    },
    {
      "cell_type": "markdown",
      "source": [
        "### Loss function"
      ],
      "metadata": {
        "id": "6f6oUB3Qu10H"
      }
    },
    {
      "cell_type": "code",
      "source": [
        "def calculate_loss_acc(state, params, batch):\n",
        "    data_input, labels = batch\n",
        "    logits = state.apply_fn(params, data_input).squeeze(axis=-1)\n",
        "    pred_labels = (logits > 0).astype(jnp.float32)\n",
        "    loss = optax.sigmoid_binary_cross_entropy(logits, labels).mean()\n",
        "    acc = (pred_labels == labels).mean()\n",
        "\n",
        "    return loss, acc"
      ],
      "metadata": {
        "id": "hyg-hp1Eu1R0"
      },
      "execution_count": null,
      "outputs": []
    },
    {
      "cell_type": "code",
      "source": [
        "batch = next(iter(data_loader))\n",
        "\n",
        "calculate_loss_acc(model_state, model_state.params, batch)"
      ],
      "metadata": {
        "colab": {
          "base_uri": "https://localhost:8080/"
        },
        "id": "TjGy6CHB3_wh",
        "outputId": "bda5f246-aa96-4814-f530-da4c5795c6e1"
      },
      "execution_count": null,
      "outputs": [
        {
          "output_type": "execute_result",
          "data": {
            "text/plain": [
              "(Array(0.5923245, dtype=float32), Array(0.75, dtype=float32))"
            ]
          },
          "metadata": {},
          "execution_count": 47
        }
      ]
    },
    {
      "cell_type": "markdown",
      "source": [
        "### Efficient training and validation"
      ],
      "metadata": {
        "id": "ir7lGbKt4Sg5"
      }
    },
    {
      "cell_type": "code",
      "source": [
        "@jax.jit\n",
        "def train_step(state, batch):\n",
        "    grad_fn = jax.value_and_grad(calculate_loss_acc,\n",
        "                                 argnums=1,\n",
        "                                 has_aux=True)\n",
        "    (loss, acc), grads = grad_fn(state, state.params, batch)\n",
        "    state = state.apply_gradients(grads=grads) # it is a named param\n",
        "    return state, loss, acc"
      ],
      "metadata": {
        "id": "4v5ORvl04GYB"
      },
      "execution_count": null,
      "outputs": []
    },
    {
      "cell_type": "code",
      "source": [
        "@jax.jit\n",
        "def eval_step(state, batch):\n",
        "    _, acc = calculate_loss_acc(state, state.params, batch)\n",
        "    return acc"
      ],
      "metadata": {
        "id": "MQyDL8sh41N6"
      },
      "execution_count": null,
      "outputs": []
    },
    {
      "cell_type": "markdown",
      "source": [
        "### Training"
      ],
      "metadata": {
        "id": "Sf8VvNiv5RPJ"
      }
    },
    {
      "cell_type": "code",
      "source": [
        "train_dataset = XORDataset(2500, 42)\n",
        "train_data_loader = data.DataLoader(train_dataset,\n",
        "                                    batch_size=128,\n",
        "                                    shuffle=True,\n",
        "                                    collate_fn=numpy_collate)"
      ],
      "metadata": {
        "id": "RI162NN45H31"
      },
      "execution_count": null,
      "outputs": []
    },
    {
      "cell_type": "code",
      "source": [
        "from tqdm.auto import tqdm\n",
        "\n",
        "def train_model(state, data_loader, num_epochs=50):\n",
        "    for epoch in tqdm(range(num_epochs)):\n",
        "        for batch in data_loader:\n",
        "            state, loss, acc = train_step(state, batch)\n",
        "\n",
        "    return state\n"
      ],
      "metadata": {
        "id": "M0yrUSXv5m-r"
      },
      "execution_count": null,
      "outputs": []
    },
    {
      "cell_type": "code",
      "source": [
        "trained_model_state = train_model(model_state, train_data_loader, 100)"
      ],
      "metadata": {
        "colab": {
          "base_uri": "https://localhost:8080/",
          "height": 49,
          "referenced_widgets": [
            "38ff4bf1f14e4ab7b9f628cda7b391ea",
            "2a92921dfd954114aff4f942b7d727fa",
            "b759f50861b140b59f8b88876e974c5d",
            "f1e418bde1864794bda07e7b33b06cfe",
            "df538c7ad0524ae3b254bf6f3d6a5591",
            "5d873d23bad442d5a9e7990bb74a9c35",
            "6719fcbb77604c3793daffeace341cae",
            "82d4c095f9a447d8999f370321cfd39d",
            "d7589b9559c34866913836810dbaff53",
            "2c7d98e0acf040eebd77c36ae58e437c",
            "fdf1e4e8f4904c54941c632e387fed78"
          ]
        },
        "id": "NH46JCZY6C2T",
        "outputId": "0ea9fb03-a6c8-41ac-b233-5026a8283ed2"
      },
      "execution_count": null,
      "outputs": [
        {
          "output_type": "display_data",
          "data": {
            "text/plain": [
              "  0%|          | 0/100 [00:00<?, ?it/s]"
            ],
            "application/vnd.jupyter.widget-view+json": {
              "version_major": 2,
              "version_minor": 0,
              "model_id": "38ff4bf1f14e4ab7b9f628cda7b391ea"
            }
          },
          "metadata": {}
        }
      ]
    },
    {
      "cell_type": "markdown",
      "source": [
        "### checkpointing / saving"
      ],
      "metadata": {
        "id": "hscO6F3i6dQ5"
      }
    },
    {
      "cell_type": "markdown",
      "source": [
        "> outdated code below, change to obrax\n",
        "\n",
        "https://flax-linen.readthedocs.io/en/latest/guides/training_techniques/use_checkpointing.html"
      ],
      "metadata": {
        "id": "5sUAesmw79pP"
      }
    },
    {
      "cell_type": "code",
      "source": [
        "from flax.training import checkpoints"
      ],
      "metadata": {
        "id": "zUPIrQZ26OO7"
      },
      "execution_count": null,
      "outputs": []
    },
    {
      "cell_type": "code",
      "source": [
        "!pwd"
      ],
      "metadata": {
        "colab": {
          "base_uri": "https://localhost:8080/"
        },
        "id": "Fyh8uccP7OLo",
        "outputId": "f3f35418-c7cf-49d0-809d-08fb8a5cc98a"
      },
      "execution_count": null,
      "outputs": [
        {
          "output_type": "stream",
          "name": "stdout",
          "text": [
            "/content\n"
          ]
        }
      ]
    },
    {
      "cell_type": "code",
      "source": [
        "checkpoints.save_checkpoint(ckpt_dir='/content/my_checkpoints/',  # Folder to save checkpoint in\n",
        "                            target=trained_model_state,  # What to save. To only save parameters, use model_state.params\n",
        "                            step=100,  # Training step or other metric to save best model on\n",
        "                            prefix='my_model',  # Checkpoint file name prefix\n",
        "                            overwrite=True   # Overwrite existing checkpoint files\n",
        "                           )"
      ],
      "metadata": {
        "colab": {
          "base_uri": "https://localhost:8080/",
          "height": 53
        },
        "id": "CooaE95D6i0C",
        "outputId": "08db9190-7a4c-450d-a545-ef78fce5c59e"
      },
      "execution_count": null,
      "outputs": [
        {
          "output_type": "stream",
          "name": "stderr",
          "text": [
            "WARNING:absl:[process=0][thread=MainThread] Skipped cross-host ArrayMetadata validation because only one process is found: process_index=0.\n"
          ]
        },
        {
          "output_type": "execute_result",
          "data": {
            "text/plain": [
              "'/content/my_checkpoints/my_model100'"
            ],
            "application/vnd.google.colaboratory.intrinsic+json": {
              "type": "string"
            }
          },
          "metadata": {},
          "execution_count": 55
        }
      ]
    },
    {
      "cell_type": "code",
      "source": [
        "loaded_model_state = checkpoints.restore_checkpoint(\n",
        "    ckpt_dir='/content/my_checkpoints/',\n",
        "    target=model_state,\n",
        "    prefix='my_model'\n",
        ")\n",
        "\n",
        "loaded_model_state"
      ],
      "metadata": {
        "colab": {
          "base_uri": "https://localhost:8080/"
        },
        "id": "VPb65a7L6zlK",
        "outputId": "9ed098e1-e2dc-4a05-e7a7-d8eb830d0d09"
      },
      "execution_count": null,
      "outputs": [
        {
          "output_type": "stream",
          "name": "stderr",
          "text": [
            "WARNING:absl:The transformations API will eventually be replaced by an upgraded design. The current API will not be removed until this point, but it will no longer be actively worked on.\n"
          ]
        },
        {
          "output_type": "execute_result",
          "data": {
            "text/plain": [
              "TrainState(step=2000, apply_fn=<bound method Module.apply of SimpleClassifier(\n",
              "    # attributes\n",
              "    num_hidden = 8\n",
              "    num_outputs = 1\n",
              ")>, params={'params': {'linear1': {'kernel': Array([[ 2.384137  ,  2.5866644 , -1.7826445 , -0.29721934,  2.637906  ,\n",
              "         2.2365346 , -1.941201  ,  0.26934454],\n",
              "       [-3.38302   , -1.6616682 , -1.6930373 ,  0.7953639 , -1.7184888 ,\n",
              "         2.1297    ,  0.8148249 ,  0.3801095 ]], dtype=float32), 'bias': Array([-0.8074513 ,  0.5851127 ,  0.06190493, -0.07146921,  0.6141333 ,\n",
              "       -0.4144196 , -0.08219747,  0.21098277], dtype=float32)}, 'linear2': {'kernel': Array([[ 4.7263002 ],\n",
              "       [-2.406348  ],\n",
              "       [-2.0669682 ],\n",
              "       [-0.78201866],\n",
              "       [-2.2815604 ],\n",
              "       [ 2.9447079 ],\n",
              "       [ 1.190672  ],\n",
              "       [ 0.12051622]], dtype=float32), 'bias': Array([0.78504246], dtype=float32)}}}, tx=GradientTransformationExtraArgs(init=<function chain.<locals>.init_fn at 0x7c2d70a6ae80>, update=<function chain.<locals>.update_fn at 0x7c2d70a6b060>), opt_state=(EmptyState(), EmptyState()))"
            ]
          },
          "metadata": {},
          "execution_count": 56
        }
      ]
    },
    {
      "cell_type": "code",
      "source": [
        "%%capture\n",
        "\n",
        "!pip install orbax-checkpoint"
      ],
      "metadata": {
        "id": "-A3RLyPR-N2D"
      },
      "execution_count": null,
      "outputs": []
    },
    {
      "cell_type": "code",
      "source": [
        "import orbax\n",
        "from flax.training import orbax_utils"
      ],
      "metadata": {
        "id": "LKpA4kkY7pbA"
      },
      "execution_count": null,
      "outputs": []
    },
    {
      "cell_type": "code",
      "source": [
        "ckpt = {\n",
        "    'model': trained_model_state\n",
        "}\n",
        "orbax_checkpointer = orbax.checkpoint.PyTreeCheckpointer()\n",
        "save_args = orbax_utils.save_args_from_target(ckpt)\n",
        "orbax_checkpointer.save('/content/my_checkpoints/single_save2', ckpt, save_args=save_args)"
      ],
      "metadata": {
        "colab": {
          "base_uri": "https://localhost:8080/"
        },
        "id": "V_x-6Icu9i3X",
        "outputId": "fba378f7-9056-47c9-abfc-05d7747a7fa3"
      },
      "execution_count": null,
      "outputs": [
        {
          "output_type": "stream",
          "name": "stderr",
          "text": [
            "WARNING:absl:[process=0][thread=MainThread] Skipped cross-host ArrayMetadata validation because only one process is found: process_index=0.\n"
          ]
        }
      ]
    },
    {
      "cell_type": "code",
      "source": [
        "raw_restored = orbax_checkpointer.restore('/content/my_checkpoints/single_save2')\n",
        "raw_restored"
      ],
      "metadata": {
        "colab": {
          "base_uri": "https://localhost:8080/"
        },
        "id": "45-qjl-G98-g",
        "outputId": "9a0c8f71-1b40-44e6-bb96-f6f137647ea0"
      },
      "execution_count": null,
      "outputs": [
        {
          "output_type": "stream",
          "name": "stderr",
          "text": [
            "/usr/local/lib/python3.11/dist-packages/orbax/checkpoint/_src/serialization/type_handlers.py:1250: UserWarning: Couldn't find sharding info under RestoreArgs. Populating sharding info from sharding file. Please note restoration time will be slightly increased due to reading from file instead of directly from RestoreArgs. Note also that this option is unsafe when restoring on a different topology than the checkpoint was saved with.\n",
            "  warnings.warn(\n"
          ]
        },
        {
          "output_type": "execute_result",
          "data": {
            "text/plain": [
              "{'model': {'opt_state': [None, None],\n",
              "  'params': {'params': {'linear1': {'bias': Array([-0.8074513 ,  0.5851127 ,  0.06190493, -0.07146921,  0.6141333 ,\n",
              "            -0.4144196 , -0.08219747,  0.21098277], dtype=float32),\n",
              "     'kernel': Array([[ 2.384137  ,  2.5866644 , -1.7826445 , -0.29721934,  2.637906  ,\n",
              "              2.2365346 , -1.941201  ,  0.26934454],\n",
              "            [-3.38302   , -1.6616682 , -1.6930373 ,  0.7953639 , -1.7184888 ,\n",
              "              2.1297    ,  0.8148249 ,  0.3801095 ]], dtype=float32)},\n",
              "    'linear2': {'bias': Array([0.78504246], dtype=float32),\n",
              "     'kernel': Array([[ 4.7263002 ],\n",
              "            [-2.406348  ],\n",
              "            [-2.0669682 ],\n",
              "            [-0.78201866],\n",
              "            [-2.2815604 ],\n",
              "            [ 2.9447079 ],\n",
              "            [ 1.190672  ],\n",
              "            [ 0.12051622]], dtype=float32)}}},\n",
              "  'step': Array(2000, dtype=int32)}}"
            ]
          },
          "metadata": {},
          "execution_count": 60
        }
      ]
    },
    {
      "cell_type": "code",
      "source": [
        "loaded_model_state = raw_restored['model']"
      ],
      "metadata": {
        "id": "cpRjta4l_vPC"
      },
      "execution_count": null,
      "outputs": []
    },
    {
      "cell_type": "code",
      "source": [
        "loaded_model_state"
      ],
      "metadata": {
        "colab": {
          "base_uri": "https://localhost:8080/"
        },
        "id": "NCOTmYu3PSAJ",
        "outputId": "e8e4698a-1fac-4305-ebd1-26df80978c78"
      },
      "execution_count": null,
      "outputs": [
        {
          "output_type": "execute_result",
          "data": {
            "text/plain": [
              "TrainState(step=2000, apply_fn=<bound method Module.apply of SimpleClassifier(\n",
              "    # attributes\n",
              "    num_hidden = 8\n",
              "    num_outputs = 1\n",
              ")>, params={'params': {'linear1': {'kernel': Array([[ 2.384137  ,  2.5866644 , -1.7826445 , -0.29721934,  2.637906  ,\n",
              "         2.2365346 , -1.941201  ,  0.26934454],\n",
              "       [-3.38302   , -1.6616682 , -1.6930373 ,  0.7953639 , -1.7184888 ,\n",
              "         2.1297    ,  0.8148249 ,  0.3801095 ]], dtype=float32), 'bias': Array([-0.8074513 ,  0.5851127 ,  0.06190493, -0.07146921,  0.6141333 ,\n",
              "       -0.4144196 , -0.08219747,  0.21098277], dtype=float32)}, 'linear2': {'kernel': Array([[ 4.7263002 ],\n",
              "       [-2.406348  ],\n",
              "       [-2.0669682 ],\n",
              "       [-0.78201866],\n",
              "       [-2.2815604 ],\n",
              "       [ 2.9447079 ],\n",
              "       [ 1.190672  ],\n",
              "       [ 0.12051622]], dtype=float32), 'bias': Array([0.78504246], dtype=float32)}}}, tx=GradientTransformationExtraArgs(init=<function chain.<locals>.init_fn at 0x7c2d70a6ae80>, update=<function chain.<locals>.update_fn at 0x7c2d70a6b060>), opt_state=(EmptyState(), EmptyState()))"
            ]
          },
          "metadata": {},
          "execution_count": 61
        }
      ]
    },
    {
      "cell_type": "markdown",
      "source": [
        "### Evaluation"
      ],
      "metadata": {
        "id": "nLmTqoR-PvmV"
      }
    },
    {
      "cell_type": "code",
      "source": [
        "test_dataset = XORDataset(size=500, seed=123)\n",
        "\n",
        "test_dataloader = data.DataLoader(\n",
        "    test_dataset,\n",
        "    batch_size=128,\n",
        "    shuffle=False,\n",
        "    drop_last=False,\n",
        "    collate_fn=numpy_collate\n",
        ")"
      ],
      "metadata": {
        "id": "9gUrSHXQPVEO"
      },
      "execution_count": null,
      "outputs": []
    },
    {
      "cell_type": "code",
      "source": [
        "def eval_model(state, data_loader):\n",
        "    all_acc, batch_sizes = [], []\n",
        "    for batch in data_loader:\n",
        "        acc = eval_step(state, batch)\n",
        "        all_acc.append(acc)\n",
        "        batch_sizes.append(batch[0].shape[0])\n",
        "\n",
        "    acc = sum([a*b for a,b in zip(all_acc, batch_sizes)]) / sum(batch_sizes)\n",
        "    print(f\"Accuracy of the model: {100.0*acc:4.2f}%\")\n",
        "    return acc\n",
        "\n",
        "eval_model(loaded_model_state, test_dataloader)"
      ],
      "metadata": {
        "colab": {
          "base_uri": "https://localhost:8080/"
        },
        "id": "ucasqJteQImq",
        "outputId": "32896135-77cf-453e-c67c-cc008c3ae23a"
      },
      "execution_count": null,
      "outputs": [
        {
          "output_type": "stream",
          "name": "stdout",
          "text": [
            "Accuracy of the model: 100.00%\n"
          ]
        },
        {
          "output_type": "execute_result",
          "data": {
            "text/plain": [
              "Array(1., dtype=float32)"
            ]
          },
          "metadata": {},
          "execution_count": 67
        }
      ]
    },
    {
      "cell_type": "markdown",
      "source": [
        "### Binding model params"
      ],
      "metadata": {
        "id": "axdh1pyyRZpV"
      }
    },
    {
      "cell_type": "code",
      "source": [
        "trained_model = model.bind(loaded_model_state.params)"
      ],
      "metadata": {
        "id": "hy22CavUQ8ER"
      },
      "execution_count": null,
      "outputs": []
    },
    {
      "cell_type": "code",
      "source": [
        "data_inputs, labels = next(iter(data_loader))\n",
        "out = trained_model(data_inputs)\n",
        "out.shape"
      ],
      "metadata": {
        "colab": {
          "base_uri": "https://localhost:8080/"
        },
        "id": "GV4D05emRfMx",
        "outputId": "9538137a-b117-4135-de7f-cd6ed3cb46dd"
      },
      "execution_count": null,
      "outputs": [
        {
          "output_type": "execute_result",
          "data": {
            "text/plain": [
              "(8, 1)"
            ]
          },
          "metadata": {},
          "execution_count": 70
        }
      ]
    },
    {
      "cell_type": "markdown",
      "source": [
        "### visualizing preds"
      ],
      "metadata": {
        "id": "VLivqTUrSCkW"
      }
    },
    {
      "cell_type": "code",
      "source": [
        "def visualize_classification(model, data, label):\n",
        "    data_0 = data[label == 0]\n",
        "    data_1 = data[label == 1]\n",
        "\n",
        "    fig = plt.figure(figsize=(4,4), dpi=500)\n",
        "    plt.scatter(data_0[:,0], data_0[:,1], edgecolor=\"#333\", label=\"Class 0\")\n",
        "    plt.scatter(data_1[:,0], data_1[:,1], edgecolor=\"#333\", label=\"Class 1\")\n",
        "    plt.title(\"Dataset samples\")\n",
        "    plt.ylabel(r\"$x_2$\")\n",
        "    plt.xlabel(r\"$x_1$\")\n",
        "    plt.legend()\n",
        "\n",
        "    # Let's make use of a lot of operations we have learned above\n",
        "    c0 = np.array(to_rgba(\"C0\"))\n",
        "    c1 = np.array(to_rgba(\"C1\"))\n",
        "    x1 = jnp.arange(-0.5, 1.5, step=0.01)\n",
        "    x2 = jnp.arange(-0.5, 1.5, step=0.01)\n",
        "    xx1, xx2 = jnp.meshgrid(x1, x2, indexing='ij')  # Meshgrid function as in numpy\n",
        "    model_inputs = np.stack([xx1, xx2], axis=-1)\n",
        "    logits = model(model_inputs)\n",
        "    preds = nn.sigmoid(logits)\n",
        "    output_image = (1 - preds) * c0[None,None] + preds * c1[None,None]  # Specifying \"None\" in a dimension creates a new one\n",
        "    output_image = jax.device_get(output_image)  # Convert to numpy array. This only works for tensors on CPU, hence first push to CPU\n",
        "    plt.imshow(output_image, origin='lower', extent=(-0.5, 1.5, -0.5, 1.5))\n",
        "    plt.grid(False)\n",
        "    return fig\n",
        "\n",
        "_ = visualize_classification(trained_model, dataset.data, dataset.label)\n",
        "plt.show()"
      ],
      "metadata": {
        "colab": {
          "base_uri": "https://localhost:8080/",
          "height": 404
        },
        "id": "ASz9w5HWRw0a",
        "outputId": "80e76086-c2c0-4538-daab-c8bf69c86082"
      },
      "execution_count": null,
      "outputs": [
        {
          "output_type": "display_data",
          "data": {
            "text/plain": [
              "<Figure size 2000x2000 with 1 Axes>"
            ],
            "image/svg+xml": "<?xml version=\"1.0\" encoding=\"utf-8\" standalone=\"no\"?>\n<!DOCTYPE svg PUBLIC \"-//W3C//DTD SVG 1.1//EN\"\n  \"http://www.w3.org/Graphics/SVG/1.1/DTD/svg11.dtd\">\n<svg xmlns:xlink=\"http://www.w3.org/1999/xlink\" width=\"303.730313pt\" height=\"287.037813pt\" viewBox=\"0 0 303.730313 287.037813\" xmlns=\"http://www.w3.org/2000/svg\" version=\"1.1\">\n <metadata>\n  <rdf:RDF xmlns:dc=\"http://purl.org/dc/elements/1.1/\" xmlns:cc=\"http://creativecommons.org/ns#\" xmlns:rdf=\"http://www.w3.org/1999/02/22-rdf-syntax-ns#\">\n   <cc:Work>\n    <dc:type rdf:resource=\"http://purl.org/dc/dcmitype/StillImage\"/>\n    <dc:date>2025-03-31T17:38:02.262922</dc:date>\n    <dc:format>image/svg+xml</dc:format>\n    <dc:creator>\n     <cc:Agent>\n      <dc:title>Matplotlib v3.10.0, https://matplotlib.org/</dc:title>\n     </cc:Agent>\n    </dc:creator>\n   </cc:Work>\n  </rdf:RDF>\n </metadata>\n <defs>\n  <style type=\"text/css\">*{stroke-linejoin: round; stroke-linecap: butt}</style>\n </defs>\n <g id=\"figure_1\">\n  <g id=\"patch_1\">\n   <path d=\"M 0 287.037813 \nL 303.730313 287.037813 \nL 303.730313 0 \nL 0 0 \nz\n\" style=\"fill: #ffffff\"/>\n  </g>\n  <g id=\"axes_1\">\n   <g id=\"patch_2\">\n    <path d=\"M 66.023594 244.078125 \nL 287.783594 244.078125 \nL 287.783594 22.318125 \nL 66.023594 22.318125 \nz\n\" style=\"fill: #eaeaf2\"/>\n   </g>\n   <g clip-path=\"url(#pad27b2ddb6)\">\n    <image xlink:href=\"data:image/png;base64,\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\" id=\"image88db7bdd6c\" transform=\"scale(1 -1) translate(0 -221.904)\" x=\"66.023594\" y=\"-22.174125\" width=\"221.904\" height=\"221.904\"/>\n   </g>\n   <g id=\"matplotlib.axis_1\">\n    <g id=\"xtick_1\">\n     <g id=\"text_1\">\n      <!-- −0.5 -->\n      <g style=\"fill: #262626\" transform=\"translate(52.668047 261.936406) scale(0.11 -0.11)\">\n       <defs>\n        <path id=\"DejaVuSans-2212\" d=\"M 678 2272 \nL 4684 2272 \nL 4684 1741 \nL 678 1741 \nL 678 2272 \nz\n\" transform=\"scale(0.015625)\"/>\n        <path id=\"DejaVuSans-30\" d=\"M 2034 4250 \nQ 1547 4250 1301 3770 \nQ 1056 3291 1056 2328 \nQ 1056 1369 1301 889 \nQ 1547 409 2034 409 \nQ 2525 409 2770 889 \nQ 3016 1369 3016 2328 \nQ 3016 3291 2770 3770 \nQ 2525 4250 2034 4250 \nz\nM 2034 4750 \nQ 2819 4750 3233 4129 \nQ 3647 3509 3647 2328 \nQ 3647 1150 3233 529 \nQ 2819 -91 2034 -91 \nQ 1250 -91 836 529 \nQ 422 1150 422 2328 \nQ 422 3509 836 4129 \nQ 1250 4750 2034 4750 \nz\n\" transform=\"scale(0.015625)\"/>\n        <path id=\"DejaVuSans-2e\" d=\"M 684 794 \nL 1344 794 \nL 1344 0 \nL 684 0 \nL 684 794 \nz\n\" transform=\"scale(0.015625)\"/>\n        <path id=\"DejaVuSans-35\" d=\"M 691 4666 \nL 3169 4666 \nL 3169 4134 \nL 1269 4134 \nL 1269 2991 \nQ 1406 3038 1543 3061 \nQ 1681 3084 1819 3084 \nQ 2600 3084 3056 2656 \nQ 3513 2228 3513 1497 \nQ 3513 744 3044 326 \nQ 2575 -91 1722 -91 \nQ 1428 -91 1123 -41 \nQ 819 9 494 109 \nL 494 744 \nQ 775 591 1075 516 \nQ 1375 441 1709 441 \nQ 2250 441 2565 725 \nQ 2881 1009 2881 1497 \nQ 2881 1984 2565 2268 \nQ 2250 2553 1709 2553 \nQ 1456 2553 1204 2497 \nQ 953 2441 691 2322 \nL 691 4666 \nz\n\" transform=\"scale(0.015625)\"/>\n       </defs>\n       <use xlink:href=\"#DejaVuSans-2212\"/>\n       <use xlink:href=\"#DejaVuSans-30\" transform=\"translate(83.789062 0)\"/>\n       <use xlink:href=\"#DejaVuSans-2e\" transform=\"translate(147.412109 0)\"/>\n       <use xlink:href=\"#DejaVuSans-35\" transform=\"translate(179.199219 0)\"/>\n      </g>\n     </g>\n    </g>\n    <g id=\"xtick_2\">\n     <g id=\"text_2\">\n      <!-- 0.0 -->\n      <g style=\"fill: #262626\" transform=\"translate(112.716875 261.936406) scale(0.11 -0.11)\">\n       <use xlink:href=\"#DejaVuSans-30\"/>\n       <use xlink:href=\"#DejaVuSans-2e\" transform=\"translate(63.623047 0)\"/>\n       <use xlink:href=\"#DejaVuSans-30\" transform=\"translate(95.410156 0)\"/>\n      </g>\n     </g>\n    </g>\n    <g id=\"xtick_3\">\n     <g id=\"text_3\">\n      <!-- 0.5 -->\n      <g style=\"fill: #262626\" transform=\"translate(168.156875 261.936406) scale(0.11 -0.11)\">\n       <use xlink:href=\"#DejaVuSans-30\"/>\n       <use xlink:href=\"#DejaVuSans-2e\" transform=\"translate(63.623047 0)\"/>\n       <use xlink:href=\"#DejaVuSans-35\" transform=\"translate(95.410156 0)\"/>\n      </g>\n     </g>\n    </g>\n    <g id=\"xtick_4\">\n     <g id=\"text_4\">\n      <!-- 1.0 -->\n      <g style=\"fill: #262626\" transform=\"translate(223.596875 261.936406) scale(0.11 -0.11)\">\n       <defs>\n        <path id=\"DejaVuSans-31\" d=\"M 794 531 \nL 1825 531 \nL 1825 4091 \nL 703 3866 \nL 703 4441 \nL 1819 4666 \nL 2450 4666 \nL 2450 531 \nL 3481 531 \nL 3481 0 \nL 794 0 \nL 794 531 \nz\n\" transform=\"scale(0.015625)\"/>\n       </defs>\n       <use xlink:href=\"#DejaVuSans-31\"/>\n       <use xlink:href=\"#DejaVuSans-2e\" transform=\"translate(63.623047 0)\"/>\n       <use xlink:href=\"#DejaVuSans-30\" transform=\"translate(95.410156 0)\"/>\n      </g>\n     </g>\n    </g>\n    <g id=\"xtick_5\">\n     <g id=\"text_5\">\n      <!-- 1.5 -->\n      <g style=\"fill: #262626\" transform=\"translate(279.036875 261.936406) scale(0.11 -0.11)\">\n       <use xlink:href=\"#DejaVuSans-31\"/>\n       <use xlink:href=\"#DejaVuSans-2e\" transform=\"translate(63.623047 0)\"/>\n       <use xlink:href=\"#DejaVuSans-35\" transform=\"translate(95.410156 0)\"/>\n      </g>\n     </g>\n    </g>\n    <g id=\"text_6\">\n     <!-- $x_1$ -->\n     <g style=\"fill: #262626\" transform=\"translate(170.483594 277.342188) scale(0.12 -0.12)\">\n      <defs>\n       <path id=\"DejaVuSans-Oblique-78\" d=\"M 3841 3500 \nL 2234 1784 \nL 3219 0 \nL 2559 0 \nL 1819 1388 \nL 531 0 \nL -166 0 \nL 1556 1844 \nL 641 3500 \nL 1300 3500 \nL 1972 2234 \nL 3144 3500 \nL 3841 3500 \nz\n\" transform=\"scale(0.015625)\"/>\n      </defs>\n      <use xlink:href=\"#DejaVuSans-Oblique-78\" transform=\"translate(0 0.3125)\"/>\n      <use xlink:href=\"#DejaVuSans-31\" transform=\"translate(59.179688 -16.09375) scale(0.7)\"/>\n     </g>\n    </g>\n   </g>\n   <g id=\"matplotlib.axis_2\">\n    <g id=\"ytick_1\">\n     <g id=\"text_7\">\n      <!-- −0.50 -->\n      <g style=\"fill: #262626\" transform=\"translate(22.81375 248.257266) scale(0.11 -0.11)\">\n       <use xlink:href=\"#DejaVuSans-2212\"/>\n       <use xlink:href=\"#DejaVuSans-30\" transform=\"translate(83.789062 0)\"/>\n       <use xlink:href=\"#DejaVuSans-2e\" transform=\"translate(147.412109 0)\"/>\n       <use xlink:href=\"#DejaVuSans-35\" transform=\"translate(179.199219 0)\"/>\n       <use xlink:href=\"#DejaVuSans-30\" transform=\"translate(242.822266 0)\"/>\n      </g>\n     </g>\n    </g>\n    <g id=\"ytick_2\">\n     <g id=\"text_8\">\n      <!-- −0.25 -->\n      <g style=\"fill: #262626\" transform=\"translate(22.81375 220.537266) scale(0.11 -0.11)\">\n       <defs>\n        <path id=\"DejaVuSans-32\" d=\"M 1228 531 \nL 3431 531 \nL 3431 0 \nL 469 0 \nL 469 531 \nQ 828 903 1448 1529 \nQ 2069 2156 2228 2338 \nQ 2531 2678 2651 2914 \nQ 2772 3150 2772 3378 \nQ 2772 3750 2511 3984 \nQ 2250 4219 1831 4219 \nQ 1534 4219 1204 4116 \nQ 875 4013 500 3803 \nL 500 4441 \nQ 881 4594 1212 4672 \nQ 1544 4750 1819 4750 \nQ 2544 4750 2975 4387 \nQ 3406 4025 3406 3419 \nQ 3406 3131 3298 2873 \nQ 3191 2616 2906 2266 \nQ 2828 2175 2409 1742 \nQ 1991 1309 1228 531 \nz\n\" transform=\"scale(0.015625)\"/>\n       </defs>\n       <use xlink:href=\"#DejaVuSans-2212\"/>\n       <use xlink:href=\"#DejaVuSans-30\" transform=\"translate(83.789062 0)\"/>\n       <use xlink:href=\"#DejaVuSans-2e\" transform=\"translate(147.412109 0)\"/>\n       <use xlink:href=\"#DejaVuSans-32\" transform=\"translate(179.199219 0)\"/>\n       <use xlink:href=\"#DejaVuSans-35\" transform=\"translate(242.822266 0)\"/>\n      </g>\n     </g>\n    </g>\n    <g id=\"ytick_3\">\n     <g id=\"text_9\">\n      <!-- 0.00 -->\n      <g style=\"fill: #262626\" transform=\"translate(32.031406 192.817266) scale(0.11 -0.11)\">\n       <use xlink:href=\"#DejaVuSans-30\"/>\n       <use xlink:href=\"#DejaVuSans-2e\" transform=\"translate(63.623047 0)\"/>\n       <use xlink:href=\"#DejaVuSans-30\" transform=\"translate(95.410156 0)\"/>\n       <use xlink:href=\"#DejaVuSans-30\" transform=\"translate(159.033203 0)\"/>\n      </g>\n     </g>\n    </g>\n    <g id=\"ytick_4\">\n     <g id=\"text_10\">\n      <!-- 0.25 -->\n      <g style=\"fill: #262626\" transform=\"translate(32.031406 165.097266) scale(0.11 -0.11)\">\n       <use xlink:href=\"#DejaVuSans-30\"/>\n       <use xlink:href=\"#DejaVuSans-2e\" transform=\"translate(63.623047 0)\"/>\n       <use xlink:href=\"#DejaVuSans-32\" transform=\"translate(95.410156 0)\"/>\n       <use xlink:href=\"#DejaVuSans-35\" transform=\"translate(159.033203 0)\"/>\n      </g>\n     </g>\n    </g>\n    <g id=\"ytick_5\">\n     <g id=\"text_11\">\n      <!-- 0.50 -->\n      <g style=\"fill: #262626\" transform=\"translate(32.031406 137.377266) scale(0.11 -0.11)\">\n       <use xlink:href=\"#DejaVuSans-30\"/>\n       <use xlink:href=\"#DejaVuSans-2e\" transform=\"translate(63.623047 0)\"/>\n       <use xlink:href=\"#DejaVuSans-35\" transform=\"translate(95.410156 0)\"/>\n       <use xlink:href=\"#DejaVuSans-30\" transform=\"translate(159.033203 0)\"/>\n      </g>\n     </g>\n    </g>\n    <g id=\"ytick_6\">\n     <g id=\"text_12\">\n      <!-- 0.75 -->\n      <g style=\"fill: #262626\" transform=\"translate(32.031406 109.657266) scale(0.11 -0.11)\">\n       <defs>\n        <path id=\"DejaVuSans-37\" d=\"M 525 4666 \nL 3525 4666 \nL 3525 4397 \nL 1831 0 \nL 1172 0 \nL 2766 4134 \nL 525 4134 \nL 525 4666 \nz\n\" transform=\"scale(0.015625)\"/>\n       </defs>\n       <use xlink:href=\"#DejaVuSans-30\"/>\n       <use xlink:href=\"#DejaVuSans-2e\" transform=\"translate(63.623047 0)\"/>\n       <use xlink:href=\"#DejaVuSans-37\" transform=\"translate(95.410156 0)\"/>\n       <use xlink:href=\"#DejaVuSans-35\" transform=\"translate(159.033203 0)\"/>\n      </g>\n     </g>\n    </g>\n    <g id=\"ytick_7\">\n     <g id=\"text_13\">\n      <!-- 1.00 -->\n      <g style=\"fill: #262626\" transform=\"translate(32.031406 81.937266) scale(0.11 -0.11)\">\n       <use xlink:href=\"#DejaVuSans-31\"/>\n       <use xlink:href=\"#DejaVuSans-2e\" transform=\"translate(63.623047 0)\"/>\n       <use xlink:href=\"#DejaVuSans-30\" transform=\"translate(95.410156 0)\"/>\n       <use xlink:href=\"#DejaVuSans-30\" transform=\"translate(159.033203 0)\"/>\n      </g>\n     </g>\n    </g>\n    <g id=\"ytick_8\">\n     <g id=\"text_14\">\n      <!-- 1.25 -->\n      <g style=\"fill: #262626\" transform=\"translate(32.031406 54.217266) scale(0.11 -0.11)\">\n       <use xlink:href=\"#DejaVuSans-31\"/>\n       <use xlink:href=\"#DejaVuSans-2e\" transform=\"translate(63.623047 0)\"/>\n       <use xlink:href=\"#DejaVuSans-32\" transform=\"translate(95.410156 0)\"/>\n       <use xlink:href=\"#DejaVuSans-35\" transform=\"translate(159.033203 0)\"/>\n      </g>\n     </g>\n    </g>\n    <g id=\"ytick_9\">\n     <g id=\"text_15\">\n      <!-- 1.50 -->\n      <g style=\"fill: #262626\" transform=\"translate(32.031406 26.497266) scale(0.11 -0.11)\">\n       <use xlink:href=\"#DejaVuSans-31\"/>\n       <use xlink:href=\"#DejaVuSans-2e\" transform=\"translate(63.623047 0)\"/>\n       <use xlink:href=\"#DejaVuSans-35\" transform=\"translate(95.410156 0)\"/>\n       <use xlink:href=\"#DejaVuSans-30\" transform=\"translate(159.033203 0)\"/>\n      </g>\n     </g>\n    </g>\n    <g id=\"text_16\">\n     <!-- $x_2$ -->\n     <g style=\"fill: #262626\" transform=\"translate(16.318125 139.618125) rotate(-90) scale(0.12 -0.12)\">\n      <use xlink:href=\"#DejaVuSans-Oblique-78\" transform=\"translate(0 0.3125)\"/>\n      <use xlink:href=\"#DejaVuSans-32\" transform=\"translate(59.179688 -16.09375) scale(0.7)\"/>\n     </g>\n    </g>\n   </g>\n   <g id=\"PathCollection_1\">\n    <defs>\n     <path id=\"m280ddbeba5\" d=\"M 0 3 \nC 0.795609 3 1.55874 2.683901 2.12132 2.12132 \nC 2.683901 1.55874 3 0.795609 3 0 \nC 3 -0.795609 2.683901 -1.55874 2.12132 -2.12132 \nC 1.55874 -2.683901 0.795609 -3 0 -3 \nC -0.795609 -3 -1.55874 -2.683901 -2.12132 -2.12132 \nC -2.683901 -1.55874 -3 -0.795609 -3 0 \nC -3 0.795609 -2.683901 1.55874 -2.12132 2.12132 \nC -1.55874 2.683901 -0.795609 3 0 3 \nz\n\" style=\"stroke: #333333\"/>\n    </defs>\n    <g clip-path=\"url(#pad27b2ddb6)\">\n     <use xlink:href=\"#m280ddbeba5\" x=\"124.713181\" y=\"196.558853\" style=\"fill: #4c72b0; stroke: #333333\"/>\n     <use xlink:href=\"#m280ddbeba5\" x=\"108.25442\" y=\"181.358259\" style=\"fill: #4c72b0; stroke: #333333\"/>\n     <use xlink:href=\"#m280ddbeba5\" x=\"134.310102\" y=\"197.737851\" style=\"fill: #4c72b0; stroke: #333333\"/>\n     <use xlink:href=\"#m280ddbeba5\" x=\"132.145509\" y=\"184.06121\" style=\"fill: #4c72b0; stroke: #333333\"/>\n     <use xlink:href=\"#m280ddbeba5\" x=\"229.62273\" y=\"86.115549\" style=\"fill: #4c72b0; stroke: #333333\"/>\n     <use xlink:href=\"#m280ddbeba5\" x=\"235.41154\" y=\"68.586312\" style=\"fill: #4c72b0; stroke: #333333\"/>\n     <use xlink:href=\"#m280ddbeba5\" x=\"232.487762\" y=\"61.641336\" style=\"fill: #4c72b0; stroke: #333333\"/>\n     <use xlink:href=\"#m280ddbeba5\" x=\"229.409082\" y=\"47.596893\" style=\"fill: #4c72b0; stroke: #333333\"/>\n     <use xlink:href=\"#m280ddbeba5\" x=\"239.280996\" y=\"87.26229\" style=\"fill: #4c72b0; stroke: #333333\"/>\n     <use xlink:href=\"#m280ddbeba5\" x=\"109.589538\" y=\"183.288471\" style=\"fill: #4c72b0; stroke: #333333\"/>\n     <use xlink:href=\"#m280ddbeba5\" x=\"229.865841\" y=\"69.841288\" style=\"fill: #4c72b0; stroke: #333333\"/>\n     <use xlink:href=\"#m280ddbeba5\" x=\"116.512636\" y=\"179.142375\" style=\"fill: #4c72b0; stroke: #333333\"/>\n     <use xlink:href=\"#m280ddbeba5\" x=\"123.837465\" y=\"202.450877\" style=\"fill: #4c72b0; stroke: #333333\"/>\n     <use xlink:href=\"#m280ddbeba5\" x=\"234.263828\" y=\"73.485721\" style=\"fill: #4c72b0; stroke: #333333\"/>\n     <use xlink:href=\"#m280ddbeba5\" x=\"222.543381\" y=\"76.053621\" style=\"fill: #4c72b0; stroke: #333333\"/>\n     <use xlink:href=\"#m280ddbeba5\" x=\"236.310743\" y=\"71.540148\" style=\"fill: #4c72b0; stroke: #333333\"/>\n     <use xlink:href=\"#m280ddbeba5\" x=\"127.793628\" y=\"176.046973\" style=\"fill: #4c72b0; stroke: #333333\"/>\n     <use xlink:href=\"#m280ddbeba5\" x=\"132.041565\" y=\"181.415499\" style=\"fill: #4c72b0; stroke: #333333\"/>\n     <use xlink:href=\"#m280ddbeba5\" x=\"117.967889\" y=\"180.222675\" style=\"fill: #4c72b0; stroke: #333333\"/>\n     <use xlink:href=\"#m280ddbeba5\" x=\"258.008523\" y=\"98.46236\" style=\"fill: #4c72b0; stroke: #333333\"/>\n     <use xlink:href=\"#m280ddbeba5\" x=\"239.95285\" y=\"95.639917\" style=\"fill: #4c72b0; stroke: #333333\"/>\n     <use xlink:href=\"#m280ddbeba5\" x=\"224.412309\" y=\"70.222744\" style=\"fill: #4c72b0; stroke: #333333\"/>\n     <use xlink:href=\"#m280ddbeba5\" x=\"99.008812\" y=\"186.57072\" style=\"fill: #4c72b0; stroke: #333333\"/>\n     <use xlink:href=\"#m280ddbeba5\" x=\"223.556125\" y=\"79.030324\" style=\"fill: #4c72b0; stroke: #333333\"/>\n     <use xlink:href=\"#m280ddbeba5\" x=\"237.942892\" y=\"68.158633\" style=\"fill: #4c72b0; stroke: #333333\"/>\n     <use xlink:href=\"#m280ddbeba5\" x=\"219.034709\" y=\"81.467075\" style=\"fill: #4c72b0; stroke: #333333\"/>\n     <use xlink:href=\"#m280ddbeba5\" x=\"227.0774\" y=\"85.002242\" style=\"fill: #4c72b0; stroke: #333333\"/>\n     <use xlink:href=\"#m280ddbeba5\" x=\"251.918946\" y=\"73.267692\" style=\"fill: #4c72b0; stroke: #333333\"/>\n     <use xlink:href=\"#m280ddbeba5\" x=\"215.496818\" y=\"83.127313\" style=\"fill: #4c72b0; stroke: #333333\"/>\n     <use xlink:href=\"#m280ddbeba5\" x=\"246.391103\" y=\"85.604762\" style=\"fill: #4c72b0; stroke: #333333\"/>\n     <use xlink:href=\"#m280ddbeba5\" x=\"237.264667\" y=\"69.168984\" style=\"fill: #4c72b0; stroke: #333333\"/>\n     <use xlink:href=\"#m280ddbeba5\" x=\"229.543118\" y=\"91.593546\" style=\"fill: #4c72b0; stroke: #333333\"/>\n     <use xlink:href=\"#m280ddbeba5\" x=\"233.602271\" y=\"70.416426\" style=\"fill: #4c72b0; stroke: #333333\"/>\n     <use xlink:href=\"#m280ddbeba5\" x=\"145.114668\" y=\"210.282874\" style=\"fill: #4c72b0; stroke: #333333\"/>\n     <use xlink:href=\"#m280ddbeba5\" x=\"119.780601\" y=\"182.114864\" style=\"fill: #4c72b0; stroke: #333333\"/>\n     <use xlink:href=\"#m280ddbeba5\" x=\"124.579232\" y=\"195.542617\" style=\"fill: #4c72b0; stroke: #333333\"/>\n     <use xlink:href=\"#m280ddbeba5\" x=\"119.155934\" y=\"194.104519\" style=\"fill: #4c72b0; stroke: #333333\"/>\n     <use xlink:href=\"#m280ddbeba5\" x=\"236.302178\" y=\"85.441104\" style=\"fill: #4c72b0; stroke: #333333\"/>\n     <use xlink:href=\"#m280ddbeba5\" x=\"130.476609\" y=\"181.656801\" style=\"fill: #4c72b0; stroke: #333333\"/>\n     <use xlink:href=\"#m280ddbeba5\" x=\"129.749585\" y=\"181.87034\" style=\"fill: #4c72b0; stroke: #333333\"/>\n     <use xlink:href=\"#m280ddbeba5\" x=\"121.231837\" y=\"187.337199\" style=\"fill: #4c72b0; stroke: #333333\"/>\n     <use xlink:href=\"#m280ddbeba5\" x=\"130.61581\" y=\"179.61793\" style=\"fill: #4c72b0; stroke: #333333\"/>\n     <use xlink:href=\"#m280ddbeba5\" x=\"246.818743\" y=\"77.525238\" style=\"fill: #4c72b0; stroke: #333333\"/>\n     <use xlink:href=\"#m280ddbeba5\" x=\"245.18473\" y=\"68.980166\" style=\"fill: #4c72b0; stroke: #333333\"/>\n     <use xlink:href=\"#m280ddbeba5\" x=\"128.383834\" y=\"181.67103\" style=\"fill: #4c72b0; stroke: #333333\"/>\n     <use xlink:href=\"#m280ddbeba5\" x=\"121.327802\" y=\"198.586881\" style=\"fill: #4c72b0; stroke: #333333\"/>\n     <use xlink:href=\"#m280ddbeba5\" x=\"122.304115\" y=\"196.146494\" style=\"fill: #4c72b0; stroke: #333333\"/>\n     <use xlink:href=\"#m280ddbeba5\" x=\"112.310481\" y=\"192.201651\" style=\"fill: #4c72b0; stroke: #333333\"/>\n     <use xlink:href=\"#m280ddbeba5\" x=\"124.179783\" y=\"194.259111\" style=\"fill: #4c72b0; stroke: #333333\"/>\n     <use xlink:href=\"#m280ddbeba5\" x=\"116.240721\" y=\"186.065155\" style=\"fill: #4c72b0; stroke: #333333\"/>\n     <use xlink:href=\"#m280ddbeba5\" x=\"224.377487\" y=\"80.124828\" style=\"fill: #4c72b0; stroke: #333333\"/>\n     <use xlink:href=\"#m280ddbeba5\" x=\"124.910937\" y=\"172.279375\" style=\"fill: #4c72b0; stroke: #333333\"/>\n     <use xlink:href=\"#m280ddbeba5\" x=\"121.252742\" y=\"199.75417\" style=\"fill: #4c72b0; stroke: #333333\"/>\n     <use xlink:href=\"#m280ddbeba5\" x=\"235.921898\" y=\"86.93046\" style=\"fill: #4c72b0; stroke: #333333\"/>\n     <use xlink:href=\"#m280ddbeba5\" x=\"120.257661\" y=\"184.183945\" style=\"fill: #4c72b0; stroke: #333333\"/>\n     <use xlink:href=\"#m280ddbeba5\" x=\"129.11591\" y=\"193.086858\" style=\"fill: #4c72b0; stroke: #333333\"/>\n     <use xlink:href=\"#m280ddbeba5\" x=\"123.948331\" y=\"188.4985\" style=\"fill: #4c72b0; stroke: #333333\"/>\n     <use xlink:href=\"#m280ddbeba5\" x=\"137.553874\" y=\"178.00173\" style=\"fill: #4c72b0; stroke: #333333\"/>\n     <use xlink:href=\"#m280ddbeba5\" x=\"256.218076\" y=\"86.266478\" style=\"fill: #4c72b0; stroke: #333333\"/>\n     <use xlink:href=\"#m280ddbeba5\" x=\"242.01589\" y=\"75.725234\" style=\"fill: #4c72b0; stroke: #333333\"/>\n     <use xlink:href=\"#m280ddbeba5\" x=\"112.152758\" y=\"195.284191\" style=\"fill: #4c72b0; stroke: #333333\"/>\n     <use xlink:href=\"#m280ddbeba5\" x=\"208.793836\" y=\"83.5877\" style=\"fill: #4c72b0; stroke: #333333\"/>\n     <use xlink:href=\"#m280ddbeba5\" x=\"223.926333\" y=\"76.090565\" style=\"fill: #4c72b0; stroke: #333333\"/>\n     <use xlink:href=\"#m280ddbeba5\" x=\"236.132988\" y=\"56.955145\" style=\"fill: #4c72b0; stroke: #333333\"/>\n     <use xlink:href=\"#m280ddbeba5\" x=\"242.881889\" y=\"84.154835\" style=\"fill: #4c72b0; stroke: #333333\"/>\n     <use xlink:href=\"#m280ddbeba5\" x=\"120.193576\" y=\"174.913218\" style=\"fill: #4c72b0; stroke: #333333\"/>\n     <use xlink:href=\"#m280ddbeba5\" x=\"103.78458\" y=\"195.283995\" style=\"fill: #4c72b0; stroke: #333333\"/>\n     <use xlink:href=\"#m280ddbeba5\" x=\"109.625818\" y=\"190.216829\" style=\"fill: #4c72b0; stroke: #333333\"/>\n     <use xlink:href=\"#m280ddbeba5\" x=\"125.148291\" y=\"196.937344\" style=\"fill: #4c72b0; stroke: #333333\"/>\n     <use xlink:href=\"#m280ddbeba5\" x=\"245.419639\" y=\"77.009475\" style=\"fill: #4c72b0; stroke: #333333\"/>\n     <use xlink:href=\"#m280ddbeba5\" x=\"144.313166\" y=\"169.174906\" style=\"fill: #4c72b0; stroke: #333333\"/>\n     <use xlink:href=\"#m280ddbeba5\" x=\"229.583076\" y=\"66.985343\" style=\"fill: #4c72b0; stroke: #333333\"/>\n     <use xlink:href=\"#m280ddbeba5\" x=\"239.499528\" y=\"62.582743\" style=\"fill: #4c72b0; stroke: #333333\"/>\n     <use xlink:href=\"#m280ddbeba5\" x=\"229.356409\" y=\"69.802017\" style=\"fill: #4c72b0; stroke: #333333\"/>\n     <use xlink:href=\"#m280ddbeba5\" x=\"102.576489\" y=\"189.254038\" style=\"fill: #4c72b0; stroke: #333333\"/>\n     <use xlink:href=\"#m280ddbeba5\" x=\"98.539796\" y=\"189.626288\" style=\"fill: #4c72b0; stroke: #333333\"/>\n     <use xlink:href=\"#m280ddbeba5\" x=\"236.408436\" y=\"88.179515\" style=\"fill: #4c72b0; stroke: #333333\"/>\n     <use xlink:href=\"#m280ddbeba5\" x=\"110.533863\" y=\"183.049257\" style=\"fill: #4c72b0; stroke: #333333\"/>\n     <use xlink:href=\"#m280ddbeba5\" x=\"226.204733\" y=\"91.040198\" style=\"fill: #4c72b0; stroke: #333333\"/>\n     <use xlink:href=\"#m280ddbeba5\" x=\"254.128467\" y=\"77.367126\" style=\"fill: #4c72b0; stroke: #333333\"/>\n     <use xlink:href=\"#m280ddbeba5\" x=\"115.581397\" y=\"195.022798\" style=\"fill: #4c72b0; stroke: #333333\"/>\n     <use xlink:href=\"#m280ddbeba5\" x=\"250.582997\" y=\"80.519436\" style=\"fill: #4c72b0; stroke: #333333\"/>\n     <use xlink:href=\"#m280ddbeba5\" x=\"238.736457\" y=\"74.306977\" style=\"fill: #4c72b0; stroke: #333333\"/>\n     <use xlink:href=\"#m280ddbeba5\" x=\"155.602225\" y=\"176.224278\" style=\"fill: #4c72b0; stroke: #333333\"/>\n     <use xlink:href=\"#m280ddbeba5\" x=\"230.925244\" y=\"88.353158\" style=\"fill: #4c72b0; stroke: #333333\"/>\n     <use xlink:href=\"#m280ddbeba5\" x=\"103.651317\" y=\"186.38212\" style=\"fill: #4c72b0; stroke: #333333\"/>\n     <use xlink:href=\"#m280ddbeba5\" x=\"225.174396\" y=\"89.750326\" style=\"fill: #4c72b0; stroke: #333333\"/>\n     <use xlink:href=\"#m280ddbeba5\" x=\"140.17062\" y=\"178.862503\" style=\"fill: #4c72b0; stroke: #333333\"/>\n     <use xlink:href=\"#m280ddbeba5\" x=\"232.255192\" y=\"61.348506\" style=\"fill: #4c72b0; stroke: #333333\"/>\n     <use xlink:href=\"#m280ddbeba5\" x=\"109.962609\" y=\"190.7486\" style=\"fill: #4c72b0; stroke: #333333\"/>\n     <use xlink:href=\"#m280ddbeba5\" x=\"232.881603\" y=\"86.9717\" style=\"fill: #4c72b0; stroke: #333333\"/>\n     <use xlink:href=\"#m280ddbeba5\" x=\"124.462419\" y=\"189.195165\" style=\"fill: #4c72b0; stroke: #333333\"/>\n     <use xlink:href=\"#m280ddbeba5\" x=\"127.017763\" y=\"199.477257\" style=\"fill: #4c72b0; stroke: #333333\"/>\n     <use xlink:href=\"#m280ddbeba5\" x=\"233.444991\" y=\"69.426747\" style=\"fill: #4c72b0; stroke: #333333\"/>\n     <use xlink:href=\"#m280ddbeba5\" x=\"102.953228\" y=\"182.613347\" style=\"fill: #4c72b0; stroke: #333333\"/>\n     <use xlink:href=\"#m280ddbeba5\" x=\"224.996423\" y=\"71.431325\" style=\"fill: #4c72b0; stroke: #333333\"/>\n     <use xlink:href=\"#m280ddbeba5\" x=\"223.880579\" y=\"97.77066\" style=\"fill: #4c72b0; stroke: #333333\"/>\n     <use xlink:href=\"#m280ddbeba5\" x=\"231.610898\" y=\"91.185872\" style=\"fill: #4c72b0; stroke: #333333\"/>\n     <use xlink:href=\"#m280ddbeba5\" x=\"132.621368\" y=\"195.034702\" style=\"fill: #4c72b0; stroke: #333333\"/>\n     <use xlink:href=\"#m280ddbeba5\" x=\"130.729748\" y=\"201.164315\" style=\"fill: #4c72b0; stroke: #333333\"/>\n     <use xlink:href=\"#m280ddbeba5\" x=\"127.338063\" y=\"172.654013\" style=\"fill: #4c72b0; stroke: #333333\"/>\n     <use xlink:href=\"#m280ddbeba5\" x=\"204.938002\" y=\"86.594097\" style=\"fill: #4c72b0; stroke: #333333\"/>\n     <use xlink:href=\"#m280ddbeba5\" x=\"236.458863\" y=\"84.455113\" style=\"fill: #4c72b0; stroke: #333333\"/>\n    </g>\n   </g>\n   <g id=\"PathCollection_2\">\n    <defs>\n     <path id=\"md5a2a58410\" d=\"M 0 3 \nC 0.795609 3 1.55874 2.683901 2.12132 2.12132 \nC 2.683901 1.55874 3 0.795609 3 0 \nC 3 -0.795609 2.683901 -1.55874 2.12132 -2.12132 \nC 1.55874 -2.683901 0.795609 -3 0 -3 \nC -0.795609 -3 -1.55874 -2.683901 -2.12132 -2.12132 \nC -2.683901 -1.55874 -3 -0.795609 -3 0 \nC -3 0.795609 -2.683901 1.55874 -2.12132 2.12132 \nC -1.55874 2.683901 -0.795609 3 0 3 \nz\n\" style=\"stroke: #333333\"/>\n    </defs>\n    <g clip-path=\"url(#pad27b2ddb6)\">\n     <use xlink:href=\"#md5a2a58410\" x=\"113.92348\" y=\"75.18289\" style=\"fill: #dd8452; stroke: #333333\"/>\n     <use xlink:href=\"#md5a2a58410\" x=\"142.151302\" y=\"72.504264\" style=\"fill: #dd8452; stroke: #333333\"/>\n     <use xlink:href=\"#md5a2a58410\" x=\"110.656323\" y=\"69.030936\" style=\"fill: #dd8452; stroke: #333333\"/>\n     <use xlink:href=\"#md5a2a58410\" x=\"241.458596\" y=\"167.606485\" style=\"fill: #dd8452; stroke: #333333\"/>\n     <use xlink:href=\"#md5a2a58410\" x=\"222.480655\" y=\"197.683829\" style=\"fill: #dd8452; stroke: #333333\"/>\n     <use xlink:href=\"#md5a2a58410\" x=\"231.488691\" y=\"184.855432\" style=\"fill: #dd8452; stroke: #333333\"/>\n     <use xlink:href=\"#md5a2a58410\" x=\"237.590846\" y=\"189.445652\" style=\"fill: #dd8452; stroke: #333333\"/>\n     <use xlink:href=\"#md5a2a58410\" x=\"222.954346\" y=\"205.434752\" style=\"fill: #dd8452; stroke: #333333\"/>\n     <use xlink:href=\"#md5a2a58410\" x=\"232.989012\" y=\"201.31138\" style=\"fill: #dd8452; stroke: #333333\"/>\n     <use xlink:href=\"#md5a2a58410\" x=\"133.472466\" y=\"66.073571\" style=\"fill: #dd8452; stroke: #333333\"/>\n     <use xlink:href=\"#md5a2a58410\" x=\"106.187995\" y=\"88.156727\" style=\"fill: #dd8452; stroke: #333333\"/>\n     <use xlink:href=\"#md5a2a58410\" x=\"127.174305\" y=\"72.061265\" style=\"fill: #dd8452; stroke: #333333\"/>\n     <use xlink:href=\"#md5a2a58410\" x=\"238.054438\" y=\"145.919037\" style=\"fill: #dd8452; stroke: #333333\"/>\n     <use xlink:href=\"#md5a2a58410\" x=\"112.894508\" y=\"80.383972\" style=\"fill: #dd8452; stroke: #333333\"/>\n     <use xlink:href=\"#md5a2a58410\" x=\"226.961882\" y=\"187.730305\" style=\"fill: #dd8452; stroke: #333333\"/>\n     <use xlink:href=\"#md5a2a58410\" x=\"116.230813\" y=\"65.68384\" style=\"fill: #dd8452; stroke: #333333\"/>\n     <use xlink:href=\"#md5a2a58410\" x=\"122.176331\" y=\"89.708161\" style=\"fill: #dd8452; stroke: #333333\"/>\n     <use xlink:href=\"#md5a2a58410\" x=\"113.365289\" y=\"75.358027\" style=\"fill: #dd8452; stroke: #333333\"/>\n     <use xlink:href=\"#md5a2a58410\" x=\"121.968894\" y=\"84.98307\" style=\"fill: #dd8452; stroke: #333333\"/>\n     <use xlink:href=\"#md5a2a58410\" x=\"145.235645\" y=\"70.729228\" style=\"fill: #dd8452; stroke: #333333\"/>\n     <use xlink:href=\"#md5a2a58410\" x=\"225.005708\" y=\"179.186344\" style=\"fill: #dd8452; stroke: #333333\"/>\n     <use xlink:href=\"#md5a2a58410\" x=\"218.362914\" y=\"178.460871\" style=\"fill: #dd8452; stroke: #333333\"/>\n     <use xlink:href=\"#md5a2a58410\" x=\"144.994061\" y=\"66.310145\" style=\"fill: #dd8452; stroke: #333333\"/>\n     <use xlink:href=\"#md5a2a58410\" x=\"222.06579\" y=\"189.298142\" style=\"fill: #dd8452; stroke: #333333\"/>\n     <use xlink:href=\"#md5a2a58410\" x=\"196.404423\" y=\"199.996535\" style=\"fill: #dd8452; stroke: #333333\"/>\n     <use xlink:href=\"#md5a2a58410\" x=\"139.563771\" y=\"93.615532\" style=\"fill: #dd8452; stroke: #333333\"/>\n     <use xlink:href=\"#md5a2a58410\" x=\"116.584381\" y=\"76.308475\" style=\"fill: #dd8452; stroke: #333333\"/>\n     <use xlink:href=\"#md5a2a58410\" x=\"248.324436\" y=\"204.558965\" style=\"fill: #dd8452; stroke: #333333\"/>\n     <use xlink:href=\"#md5a2a58410\" x=\"245.240747\" y=\"188.524661\" style=\"fill: #dd8452; stroke: #333333\"/>\n     <use xlink:href=\"#md5a2a58410\" x=\"221.460628\" y=\"183.514322\" style=\"fill: #dd8452; stroke: #333333\"/>\n     <use xlink:href=\"#md5a2a58410\" x=\"123.670768\" y=\"84.413331\" style=\"fill: #dd8452; stroke: #333333\"/>\n     <use xlink:href=\"#md5a2a58410\" x=\"233.117556\" y=\"192.910482\" style=\"fill: #dd8452; stroke: #333333\"/>\n     <use xlink:href=\"#md5a2a58410\" x=\"249.929344\" y=\"202.363023\" style=\"fill: #dd8452; stroke: #333333\"/>\n     <use xlink:href=\"#md5a2a58410\" x=\"225.808717\" y=\"179.217737\" style=\"fill: #dd8452; stroke: #333333\"/>\n     <use xlink:href=\"#md5a2a58410\" x=\"242.318356\" y=\"185.230788\" style=\"fill: #dd8452; stroke: #333333\"/>\n     <use xlink:href=\"#md5a2a58410\" x=\"112.271697\" y=\"83.969413\" style=\"fill: #dd8452; stroke: #333333\"/>\n     <use xlink:href=\"#md5a2a58410\" x=\"135.630342\" y=\"84.317468\" style=\"fill: #dd8452; stroke: #333333\"/>\n     <use xlink:href=\"#md5a2a58410\" x=\"127.529809\" y=\"80.000037\" style=\"fill: #dd8452; stroke: #333333\"/>\n     <use xlink:href=\"#md5a2a58410\" x=\"119.049944\" y=\"65.574885\" style=\"fill: #dd8452; stroke: #333333\"/>\n     <use xlink:href=\"#md5a2a58410\" x=\"239.905093\" y=\"192.078363\" style=\"fill: #dd8452; stroke: #333333\"/>\n     <use xlink:href=\"#md5a2a58410\" x=\"235.937944\" y=\"190.081151\" style=\"fill: #dd8452; stroke: #333333\"/>\n     <use xlink:href=\"#md5a2a58410\" x=\"122.539085\" y=\"71.159023\" style=\"fill: #dd8452; stroke: #333333\"/>\n     <use xlink:href=\"#md5a2a58410\" x=\"223.27116\" y=\"165.437735\" style=\"fill: #dd8452; stroke: #333333\"/>\n     <use xlink:href=\"#md5a2a58410\" x=\"110.308873\" y=\"91.221045\" style=\"fill: #dd8452; stroke: #333333\"/>\n     <use xlink:href=\"#md5a2a58410\" x=\"243.155725\" y=\"190.268697\" style=\"fill: #dd8452; stroke: #333333\"/>\n     <use xlink:href=\"#md5a2a58410\" x=\"236.922178\" y=\"194.888703\" style=\"fill: #dd8452; stroke: #333333\"/>\n     <use xlink:href=\"#md5a2a58410\" x=\"112.346814\" y=\"75.056117\" style=\"fill: #dd8452; stroke: #333333\"/>\n     <use xlink:href=\"#md5a2a58410\" x=\"105.407234\" y=\"93.364081\" style=\"fill: #dd8452; stroke: #333333\"/>\n     <use xlink:href=\"#md5a2a58410\" x=\"130.973324\" y=\"79.531521\" style=\"fill: #dd8452; stroke: #333333\"/>\n     <use xlink:href=\"#md5a2a58410\" x=\"232.138319\" y=\"191.838772\" style=\"fill: #dd8452; stroke: #333333\"/>\n     <use xlink:href=\"#md5a2a58410\" x=\"238.102102\" y=\"171.643115\" style=\"fill: #dd8452; stroke: #333333\"/>\n     <use xlink:href=\"#md5a2a58410\" x=\"233.426631\" y=\"197.209258\" style=\"fill: #dd8452; stroke: #333333\"/>\n     <use xlink:href=\"#md5a2a58410\" x=\"232.615368\" y=\"183.11632\" style=\"fill: #dd8452; stroke: #333333\"/>\n     <use xlink:href=\"#md5a2a58410\" x=\"145.744129\" y=\"86.720533\" style=\"fill: #dd8452; stroke: #333333\"/>\n     <use xlink:href=\"#md5a2a58410\" x=\"111.501972\" y=\"72.303721\" style=\"fill: #dd8452; stroke: #333333\"/>\n     <use xlink:href=\"#md5a2a58410\" x=\"217.704846\" y=\"168.33091\" style=\"fill: #dd8452; stroke: #333333\"/>\n     <use xlink:href=\"#md5a2a58410\" x=\"245.421225\" y=\"193.840345\" style=\"fill: #dd8452; stroke: #333333\"/>\n     <use xlink:href=\"#md5a2a58410\" x=\"102.468358\" y=\"62.746394\" style=\"fill: #dd8452; stroke: #333333\"/>\n     <use xlink:href=\"#md5a2a58410\" x=\"232.401739\" y=\"188.117204\" style=\"fill: #dd8452; stroke: #333333\"/>\n     <use xlink:href=\"#md5a2a58410\" x=\"227.353265\" y=\"181.731965\" style=\"fill: #dd8452; stroke: #333333\"/>\n     <use xlink:href=\"#md5a2a58410\" x=\"122.797432\" y=\"72.054022\" style=\"fill: #dd8452; stroke: #333333\"/>\n     <use xlink:href=\"#md5a2a58410\" x=\"240.233982\" y=\"201.108157\" style=\"fill: #dd8452; stroke: #333333\"/>\n     <use xlink:href=\"#md5a2a58410\" x=\"104.453336\" y=\"63.591244\" style=\"fill: #dd8452; stroke: #333333\"/>\n     <use xlink:href=\"#md5a2a58410\" x=\"138.662767\" y=\"76.475524\" style=\"fill: #dd8452; stroke: #333333\"/>\n     <use xlink:href=\"#md5a2a58410\" x=\"110.764523\" y=\"70.151182\" style=\"fill: #dd8452; stroke: #333333\"/>\n     <use xlink:href=\"#md5a2a58410\" x=\"133.199404\" y=\"97.259027\" style=\"fill: #dd8452; stroke: #333333\"/>\n     <use xlink:href=\"#md5a2a58410\" x=\"108.343623\" y=\"100.369132\" style=\"fill: #dd8452; stroke: #333333\"/>\n     <use xlink:href=\"#md5a2a58410\" x=\"249.001723\" y=\"187.816562\" style=\"fill: #dd8452; stroke: #333333\"/>\n     <use xlink:href=\"#md5a2a58410\" x=\"250.401686\" y=\"203.94069\" style=\"fill: #dd8452; stroke: #333333\"/>\n     <use xlink:href=\"#md5a2a58410\" x=\"125.722111\" y=\"78.120646\" style=\"fill: #dd8452; stroke: #333333\"/>\n     <use xlink:href=\"#md5a2a58410\" x=\"106.999635\" y=\"70.332796\" style=\"fill: #dd8452; stroke: #333333\"/>\n     <use xlink:href=\"#md5a2a58410\" x=\"226.645835\" y=\"200.382684\" style=\"fill: #dd8452; stroke: #333333\"/>\n     <use xlink:href=\"#md5a2a58410\" x=\"120.768608\" y=\"67.167513\" style=\"fill: #dd8452; stroke: #333333\"/>\n     <use xlink:href=\"#md5a2a58410\" x=\"115.584097\" y=\"86.5495\" style=\"fill: #dd8452; stroke: #333333\"/>\n     <use xlink:href=\"#md5a2a58410\" x=\"231.156842\" y=\"200.116892\" style=\"fill: #dd8452; stroke: #333333\"/>\n     <use xlink:href=\"#md5a2a58410\" x=\"224.585035\" y=\"186.265516\" style=\"fill: #dd8452; stroke: #333333\"/>\n     <use xlink:href=\"#md5a2a58410\" x=\"231.098102\" y=\"191.088236\" style=\"fill: #dd8452; stroke: #333333\"/>\n     <use xlink:href=\"#md5a2a58410\" x=\"128.273474\" y=\"69.358873\" style=\"fill: #dd8452; stroke: #333333\"/>\n     <use xlink:href=\"#md5a2a58410\" x=\"118.41382\" y=\"103.281828\" style=\"fill: #dd8452; stroke: #333333\"/>\n     <use xlink:href=\"#md5a2a58410\" x=\"215.543154\" y=\"173.482223\" style=\"fill: #dd8452; stroke: #333333\"/>\n     <use xlink:href=\"#md5a2a58410\" x=\"223.957177\" y=\"204.408074\" style=\"fill: #dd8452; stroke: #333333\"/>\n     <use xlink:href=\"#md5a2a58410\" x=\"122.321454\" y=\"87.308044\" style=\"fill: #dd8452; stroke: #333333\"/>\n     <use xlink:href=\"#md5a2a58410\" x=\"138.351994\" y=\"71.782684\" style=\"fill: #dd8452; stroke: #333333\"/>\n     <use xlink:href=\"#md5a2a58410\" x=\"111.754739\" y=\"93.090609\" style=\"fill: #dd8452; stroke: #333333\"/>\n     <use xlink:href=\"#md5a2a58410\" x=\"242.61305\" y=\"167.466514\" style=\"fill: #dd8452; stroke: #333333\"/>\n     <use xlink:href=\"#md5a2a58410\" x=\"216.836277\" y=\"182.395922\" style=\"fill: #dd8452; stroke: #333333\"/>\n     <use xlink:href=\"#md5a2a58410\" x=\"114.249269\" y=\"83.159373\" style=\"fill: #dd8452; stroke: #333333\"/>\n     <use xlink:href=\"#md5a2a58410\" x=\"225.77513\" y=\"198.218055\" style=\"fill: #dd8452; stroke: #333333\"/>\n     <use xlink:href=\"#md5a2a58410\" x=\"229.69414\" y=\"198.701191\" style=\"fill: #dd8452; stroke: #333333\"/>\n     <use xlink:href=\"#md5a2a58410\" x=\"115.068353\" y=\"69.382348\" style=\"fill: #dd8452; stroke: #333333\"/>\n     <use xlink:href=\"#md5a2a58410\" x=\"103.417404\" y=\"77.224954\" style=\"fill: #dd8452; stroke: #333333\"/>\n     <use xlink:href=\"#md5a2a58410\" x=\"235.223397\" y=\"198.665188\" style=\"fill: #dd8452; stroke: #333333\"/>\n     <use xlink:href=\"#md5a2a58410\" x=\"239.424305\" y=\"207.061059\" style=\"fill: #dd8452; stroke: #333333\"/>\n     <use xlink:href=\"#md5a2a58410\" x=\"225.116032\" y=\"188.112569\" style=\"fill: #dd8452; stroke: #333333\"/>\n     <use xlink:href=\"#md5a2a58410\" x=\"111.92333\" y=\"82.022076\" style=\"fill: #dd8452; stroke: #333333\"/>\n     <use xlink:href=\"#md5a2a58410\" x=\"127.86217\" y=\"80.009495\" style=\"fill: #dd8452; stroke: #333333\"/>\n     <use xlink:href=\"#md5a2a58410\" x=\"233.303704\" y=\"190.364274\" style=\"fill: #dd8452; stroke: #333333\"/>\n    </g>\n   </g>\n   <g id=\"patch_3\">\n    <path d=\"M 66.023594 244.078125 \nL 66.023594 22.318125 \n\" style=\"fill: none; stroke: #ffffff; stroke-width: 1.25; stroke-linejoin: miter; stroke-linecap: square\"/>\n   </g>\n   <g id=\"patch_4\">\n    <path d=\"M 287.783594 244.078125 \nL 287.783594 22.318125 \n\" style=\"fill: none; stroke: #ffffff; stroke-width: 1.25; stroke-linejoin: miter; stroke-linecap: square\"/>\n   </g>\n   <g id=\"patch_5\">\n    <path d=\"M 66.023594 244.078125 \nL 287.783594 244.078125 \n\" style=\"fill: none; stroke: #ffffff; stroke-width: 1.25; stroke-linejoin: miter; stroke-linecap: square\"/>\n   </g>\n   <g id=\"patch_6\">\n    <path d=\"M 66.023594 22.318125 \nL 287.783594 22.318125 \n\" style=\"fill: none; stroke: #ffffff; stroke-width: 1.25; stroke-linejoin: miter; stroke-linecap: square\"/>\n   </g>\n   <g id=\"text_17\">\n    <!-- Dataset samples -->\n    <g style=\"fill: #262626\" transform=\"translate(126.560781 16.318125) scale(0.12 -0.12)\">\n     <defs>\n      <path id=\"DejaVuSans-44\" d=\"M 1259 4147 \nL 1259 519 \nL 2022 519 \nQ 2988 519 3436 956 \nQ 3884 1394 3884 2338 \nQ 3884 3275 3436 3711 \nQ 2988 4147 2022 4147 \nL 1259 4147 \nz\nM 628 4666 \nL 1925 4666 \nQ 3281 4666 3915 4102 \nQ 4550 3538 4550 2338 \nQ 4550 1131 3912 565 \nQ 3275 0 1925 0 \nL 628 0 \nL 628 4666 \nz\n\" transform=\"scale(0.015625)\"/>\n      <path id=\"DejaVuSans-61\" d=\"M 2194 1759 \nQ 1497 1759 1228 1600 \nQ 959 1441 959 1056 \nQ 959 750 1161 570 \nQ 1363 391 1709 391 \nQ 2188 391 2477 730 \nQ 2766 1069 2766 1631 \nL 2766 1759 \nL 2194 1759 \nz\nM 3341 1997 \nL 3341 0 \nL 2766 0 \nL 2766 531 \nQ 2569 213 2275 61 \nQ 1981 -91 1556 -91 \nQ 1019 -91 701 211 \nQ 384 513 384 1019 \nQ 384 1609 779 1909 \nQ 1175 2209 1959 2209 \nL 2766 2209 \nL 2766 2266 \nQ 2766 2663 2505 2880 \nQ 2244 3097 1772 3097 \nQ 1472 3097 1187 3025 \nQ 903 2953 641 2809 \nL 641 3341 \nQ 956 3463 1253 3523 \nQ 1550 3584 1831 3584 \nQ 2591 3584 2966 3190 \nQ 3341 2797 3341 1997 \nz\n\" transform=\"scale(0.015625)\"/>\n      <path id=\"DejaVuSans-74\" d=\"M 1172 4494 \nL 1172 3500 \nL 2356 3500 \nL 2356 3053 \nL 1172 3053 \nL 1172 1153 \nQ 1172 725 1289 603 \nQ 1406 481 1766 481 \nL 2356 481 \nL 2356 0 \nL 1766 0 \nQ 1100 0 847 248 \nQ 594 497 594 1153 \nL 594 3053 \nL 172 3053 \nL 172 3500 \nL 594 3500 \nL 594 4494 \nL 1172 4494 \nz\n\" transform=\"scale(0.015625)\"/>\n      <path id=\"DejaVuSans-73\" d=\"M 2834 3397 \nL 2834 2853 \nQ 2591 2978 2328 3040 \nQ 2066 3103 1784 3103 \nQ 1356 3103 1142 2972 \nQ 928 2841 928 2578 \nQ 928 2378 1081 2264 \nQ 1234 2150 1697 2047 \nL 1894 2003 \nQ 2506 1872 2764 1633 \nQ 3022 1394 3022 966 \nQ 3022 478 2636 193 \nQ 2250 -91 1575 -91 \nQ 1294 -91 989 -36 \nQ 684 19 347 128 \nL 347 722 \nQ 666 556 975 473 \nQ 1284 391 1588 391 \nQ 1994 391 2212 530 \nQ 2431 669 2431 922 \nQ 2431 1156 2273 1281 \nQ 2116 1406 1581 1522 \nL 1381 1569 \nQ 847 1681 609 1914 \nQ 372 2147 372 2553 \nQ 372 3047 722 3315 \nQ 1072 3584 1716 3584 \nQ 2034 3584 2315 3537 \nQ 2597 3491 2834 3397 \nz\n\" transform=\"scale(0.015625)\"/>\n      <path id=\"DejaVuSans-65\" d=\"M 3597 1894 \nL 3597 1613 \nL 953 1613 \nQ 991 1019 1311 708 \nQ 1631 397 2203 397 \nQ 2534 397 2845 478 \nQ 3156 559 3463 722 \nL 3463 178 \nQ 3153 47 2828 -22 \nQ 2503 -91 2169 -91 \nQ 1331 -91 842 396 \nQ 353 884 353 1716 \nQ 353 2575 817 3079 \nQ 1281 3584 2069 3584 \nQ 2775 3584 3186 3129 \nQ 3597 2675 3597 1894 \nz\nM 3022 2063 \nQ 3016 2534 2758 2815 \nQ 2500 3097 2075 3097 \nQ 1594 3097 1305 2825 \nQ 1016 2553 972 2059 \nL 3022 2063 \nz\n\" transform=\"scale(0.015625)\"/>\n      <path id=\"DejaVuSans-20\" transform=\"scale(0.015625)\"/>\n      <path id=\"DejaVuSans-6d\" d=\"M 3328 2828 \nQ 3544 3216 3844 3400 \nQ 4144 3584 4550 3584 \nQ 5097 3584 5394 3201 \nQ 5691 2819 5691 2113 \nL 5691 0 \nL 5113 0 \nL 5113 2094 \nQ 5113 2597 4934 2840 \nQ 4756 3084 4391 3084 \nQ 3944 3084 3684 2787 \nQ 3425 2491 3425 1978 \nL 3425 0 \nL 2847 0 \nL 2847 2094 \nQ 2847 2600 2669 2842 \nQ 2491 3084 2119 3084 \nQ 1678 3084 1418 2786 \nQ 1159 2488 1159 1978 \nL 1159 0 \nL 581 0 \nL 581 3500 \nL 1159 3500 \nL 1159 2956 \nQ 1356 3278 1631 3431 \nQ 1906 3584 2284 3584 \nQ 2666 3584 2933 3390 \nQ 3200 3197 3328 2828 \nz\n\" transform=\"scale(0.015625)\"/>\n      <path id=\"DejaVuSans-70\" d=\"M 1159 525 \nL 1159 -1331 \nL 581 -1331 \nL 581 3500 \nL 1159 3500 \nL 1159 2969 \nQ 1341 3281 1617 3432 \nQ 1894 3584 2278 3584 \nQ 2916 3584 3314 3078 \nQ 3713 2572 3713 1747 \nQ 3713 922 3314 415 \nQ 2916 -91 2278 -91 \nQ 1894 -91 1617 61 \nQ 1341 213 1159 525 \nz\nM 3116 1747 \nQ 3116 2381 2855 2742 \nQ 2594 3103 2138 3103 \nQ 1681 3103 1420 2742 \nQ 1159 2381 1159 1747 \nQ 1159 1113 1420 752 \nQ 1681 391 2138 391 \nQ 2594 391 2855 752 \nQ 3116 1113 3116 1747 \nz\n\" transform=\"scale(0.015625)\"/>\n      <path id=\"DejaVuSans-6c\" d=\"M 603 4863 \nL 1178 4863 \nL 1178 0 \nL 603 0 \nL 603 4863 \nz\n\" transform=\"scale(0.015625)\"/>\n     </defs>\n     <use xlink:href=\"#DejaVuSans-44\"/>\n     <use xlink:href=\"#DejaVuSans-61\" transform=\"translate(77.001953 0)\"/>\n     <use xlink:href=\"#DejaVuSans-74\" transform=\"translate(138.28125 0)\"/>\n     <use xlink:href=\"#DejaVuSans-61\" transform=\"translate(177.490234 0)\"/>\n     <use xlink:href=\"#DejaVuSans-73\" transform=\"translate(238.769531 0)\"/>\n     <use xlink:href=\"#DejaVuSans-65\" transform=\"translate(290.869141 0)\"/>\n     <use xlink:href=\"#DejaVuSans-74\" transform=\"translate(352.392578 0)\"/>\n     <use xlink:href=\"#DejaVuSans-20\" transform=\"translate(391.601562 0)\"/>\n     <use xlink:href=\"#DejaVuSans-73\" transform=\"translate(423.388672 0)\"/>\n     <use xlink:href=\"#DejaVuSans-61\" transform=\"translate(475.488281 0)\"/>\n     <use xlink:href=\"#DejaVuSans-6d\" transform=\"translate(536.767578 0)\"/>\n     <use xlink:href=\"#DejaVuSans-70\" transform=\"translate(634.179688 0)\"/>\n     <use xlink:href=\"#DejaVuSans-6c\" transform=\"translate(697.65625 0)\"/>\n     <use xlink:href=\"#DejaVuSans-65\" transform=\"translate(725.439453 0)\"/>\n     <use xlink:href=\"#DejaVuSans-73\" transform=\"translate(786.962891 0)\"/>\n    </g>\n   </g>\n   <g id=\"legend_1\">\n    <g id=\"patch_7\">\n     <path d=\"M 73.723594 150.994063 \nL 148.356875 150.994063 \nQ 150.556875 150.994063 150.556875 148.794063 \nL 150.556875 117.602188 \nQ 150.556875 115.402188 148.356875 115.402188 \nL 73.723594 115.402188 \nQ 71.523594 115.402188 71.523594 117.602188 \nL 71.523594 148.794063 \nQ 71.523594 150.994063 73.723594 150.994063 \nz\n\" style=\"fill: #eaeaf2; opacity: 0.8; stroke: #cccccc; stroke-linejoin: miter\"/>\n    </g>\n    <g id=\"PathCollection_3\">\n     <g>\n      <use xlink:href=\"#m280ddbeba5\" x=\"86.923594\" y=\"125.272969\" style=\"fill: #4c72b0; stroke: #333333\"/>\n     </g>\n    </g>\n    <g id=\"text_18\">\n     <!-- Class 0 -->\n     <g style=\"fill: #262626\" transform=\"translate(106.723594 128.160469) scale(0.11 -0.11)\">\n      <defs>\n       <path id=\"DejaVuSans-43\" d=\"M 4122 4306 \nL 4122 3641 \nQ 3803 3938 3442 4084 \nQ 3081 4231 2675 4231 \nQ 1875 4231 1450 3742 \nQ 1025 3253 1025 2328 \nQ 1025 1406 1450 917 \nQ 1875 428 2675 428 \nQ 3081 428 3442 575 \nQ 3803 722 4122 1019 \nL 4122 359 \nQ 3791 134 3420 21 \nQ 3050 -91 2638 -91 \nQ 1578 -91 968 557 \nQ 359 1206 359 2328 \nQ 359 3453 968 4101 \nQ 1578 4750 2638 4750 \nQ 3056 4750 3426 4639 \nQ 3797 4528 4122 4306 \nz\n\" transform=\"scale(0.015625)\"/>\n      </defs>\n      <use xlink:href=\"#DejaVuSans-43\"/>\n      <use xlink:href=\"#DejaVuSans-6c\" transform=\"translate(69.824219 0)\"/>\n      <use xlink:href=\"#DejaVuSans-61\" transform=\"translate(97.607422 0)\"/>\n      <use xlink:href=\"#DejaVuSans-73\" transform=\"translate(158.886719 0)\"/>\n      <use xlink:href=\"#DejaVuSans-73\" transform=\"translate(210.986328 0)\"/>\n      <use xlink:href=\"#DejaVuSans-20\" transform=\"translate(263.085938 0)\"/>\n      <use xlink:href=\"#DejaVuSans-30\" transform=\"translate(294.873047 0)\"/>\n     </g>\n    </g>\n    <g id=\"PathCollection_4\">\n     <g>\n      <use xlink:href=\"#md5a2a58410\" x=\"86.923594\" y=\"141.418906\" style=\"fill: #dd8452; stroke: #333333\"/>\n     </g>\n    </g>\n    <g id=\"text_19\">\n     <!-- Class 1 -->\n     <g style=\"fill: #262626\" transform=\"translate(106.723594 144.306406) scale(0.11 -0.11)\">\n      <use xlink:href=\"#DejaVuSans-43\"/>\n      <use xlink:href=\"#DejaVuSans-6c\" transform=\"translate(69.824219 0)\"/>\n      <use xlink:href=\"#DejaVuSans-61\" transform=\"translate(97.607422 0)\"/>\n      <use xlink:href=\"#DejaVuSans-73\" transform=\"translate(158.886719 0)\"/>\n      <use xlink:href=\"#DejaVuSans-73\" transform=\"translate(210.986328 0)\"/>\n      <use xlink:href=\"#DejaVuSans-20\" transform=\"translate(263.085938 0)\"/>\n      <use xlink:href=\"#DejaVuSans-31\" transform=\"translate(294.873047 0)\"/>\n     </g>\n    </g>\n   </g>\n  </g>\n </g>\n <defs>\n  <clipPath id=\"pad27b2ddb6\">\n   <rect x=\"66.023594\" y=\"22.318125\" width=\"221.76\" height=\"221.76\"/>\n  </clipPath>\n </defs>\n</svg>\n",
            "application/pdf": "[encoded data removed]"
          },
          "metadata": {}
        }
      ]
    },
    {
      "cell_type": "markdown",
      "source": [
        "## Extra"
      ],
      "metadata": {
        "id": "RRLmSXw6SkhA"
      }
    },
    {
      "cell_type": "markdown",
      "source": [
        "### Vmap and Pmap"
      ],
      "metadata": {
        "id": "AK2W9lWiSmcK"
      }
    },
    {
      "cell_type": "code",
      "source": [
        "def simple_linear(x, w, b):\n",
        "    return (x[:, None] * w ).sum(axis=0) + b"
      ],
      "metadata": {
        "id": "3xn7Rq8ZSBuu"
      },
      "execution_count": null,
      "outputs": []
    },
    {
      "cell_type": "code",
      "source": [
        "rng, x_rng, w_rng, b_rng = jax.random.split(rng, 4)\n",
        "x_in = jax.random.normal(x_rng, (4,))\n",
        "w_in = jax.random.normal(w_rng, (4, 3))\n",
        "b_in = jax.random.normal(b_rng, (3,))\n",
        "\n",
        "simple_linear(x_in, w_in, b_in)"
      ],
      "metadata": {
        "colab": {
          "base_uri": "https://localhost:8080/"
        },
        "id": "uUssnLWlS7Cg",
        "outputId": "61a5e078-35c6-4f6b-eebe-36385ba8339a"
      },
      "execution_count": null,
      "outputs": [
        {
          "output_type": "execute_result",
          "data": {
            "text/plain": [
              "Array([ 2.8131008, -2.4916782,  4.96415  ], dtype=float32)"
            ]
          },
          "metadata": {},
          "execution_count": 73
        }
      ]
    },
    {
      "cell_type": "code",
      "source": [
        "vectorized_linear = jax.vmap(simple_linear, in_axes=(0, None, None), out_axes=0)"
      ],
      "metadata": {
        "id": "9lSW-1QOS9kg"
      },
      "execution_count": null,
      "outputs": []
    },
    {
      "cell_type": "code",
      "source": [
        "x_vec_in = jnp.stack([x_in]*5, axis=0)\n",
        "\n",
        "vectorized_linear(x_vec_in, w_in, b_in)"
      ],
      "metadata": {
        "colab": {
          "base_uri": "https://localhost:8080/"
        },
        "id": "OtKRgO-DcZU7",
        "outputId": "d7a0e712-eca2-4a89-ab40-d8da51e809b1"
      },
      "execution_count": null,
      "outputs": [
        {
          "output_type": "execute_result",
          "data": {
            "text/plain": [
              "Array([[ 2.8131008, -2.4916782,  4.96415  ],\n",
              "       [ 2.8131008, -2.4916782,  4.96415  ],\n",
              "       [ 2.8131008, -2.4916782,  4.96415  ],\n",
              "       [ 2.8131008, -2.4916782,  4.96415  ],\n",
              "       [ 2.8131008, -2.4916782,  4.96415  ]], dtype=float32)"
            ]
          },
          "metadata": {},
          "execution_count": 75
        }
      ]
    },
    {
      "cell_type": "markdown",
      "source": [
        "### PyTrees"
      ],
      "metadata": {
        "id": "sUwFBOWmdTQd"
      }
    },
    {
      "cell_type": "code",
      "source": [
        "parameters = jax.tree_leaves(model_state.params)\n",
        "print(f\"shape of params: {', '.join([str(p.shape) for p in parameters])}\")\n",
        "print(f\"Number of params: {sum([np.prod(p.shape) for p in parameters])}\")"
      ],
      "metadata": {
        "colab": {
          "base_uri": "https://localhost:8080/"
        },
        "id": "lDpKHWx2cb_M",
        "outputId": "a99a0fa0-fb97-4415-cb46-44b95ab29796"
      },
      "execution_count": null,
      "outputs": [
        {
          "output_type": "stream",
          "name": "stdout",
          "text": [
            "shape of params: (8,), (2, 8), (1,), (8, 1)\n",
            "Number of params: 33\n"
          ]
        }
      ]
    },
    {
      "cell_type": "code",
      "source": [
        "jax.tree_map(\n",
        "    lambda p : p.shape,\n",
        "    model_state.params\n",
        ")"
      ],
      "metadata": {
        "colab": {
          "base_uri": "https://localhost:8080/"
        },
        "id": "MCEHv1j-eb_N",
        "outputId": "3a9163cd-c6f7-4017-d3af-9972ce2d2a28"
      },
      "execution_count": null,
      "outputs": [
        {
          "output_type": "execute_result",
          "data": {
            "text/plain": [
              "{'params': {'linear1': {'bias': (8,), 'kernel': (2, 8)},\n",
              "  'linear2': {'bias': (1,), 'kernel': (8, 1)}}}"
            ]
          },
          "metadata": {},
          "execution_count": 81
        }
      ]
    },
    {
      "cell_type": "markdown",
      "source": [
        "### Dynamic shapes"
      ],
      "metadata": {
        "id": "LRa-GHhsgEPi"
      }
    },
    {
      "cell_type": "code",
      "source": [
        "def my_function(x):\n",
        "    print('Running the function with shape', x.shape)\n",
        "    return x.mean()\n",
        "\n",
        "jitted_function = jax.jit(my_function)"
      ],
      "metadata": {
        "id": "FnuGLM6EfLF3"
      },
      "execution_count": null,
      "outputs": []
    },
    {
      "cell_type": "code",
      "source": [
        "for i in range(10):\n",
        "    jitted_function(jnp.zeros(i+1,))"
      ],
      "metadata": {
        "colab": {
          "base_uri": "https://localhost:8080/"
        },
        "id": "GRZgw92pgICt",
        "outputId": "96b9c1e3-0aeb-4f11-a5c0-7ca4ac06aa33"
      },
      "execution_count": null,
      "outputs": [
        {
          "output_type": "stream",
          "name": "stdout",
          "text": [
            "Running the function with shape (1,)\n",
            "Running the function with shape (2,)\n",
            "Running the function with shape (3,)\n",
            "Running the function with shape (4,)\n",
            "Running the function with shape (5,)\n",
            "Running the function with shape (6,)\n",
            "Running the function with shape (7,)\n",
            "Running the function with shape (8,)\n",
            "Running the function with shape (9,)\n",
            "Running the function with shape (10,)\n"
          ]
        }
      ]
    },
    {
      "cell_type": "code",
      "source": [
        "for i in range(10):\n",
        "    jitted_function(jnp.zeros(i+1,))"
      ],
      "metadata": {
        "id": "j5NyxS9XgJjt"
      },
      "execution_count": null,
      "outputs": []
    },
    {
      "cell_type": "markdown",
      "source": [
        "> doesn't run the second time, it uses a compiled version"
      ],
      "metadata": {
        "id": "TRQ-R24dgK7e"
      }
    },
    {
      "cell_type": "code",
      "source": [],
      "metadata": {
        "id": "_Ye-BRW1gJ-j"
      },
      "execution_count": null,
      "outputs": []
    }
  ]
}